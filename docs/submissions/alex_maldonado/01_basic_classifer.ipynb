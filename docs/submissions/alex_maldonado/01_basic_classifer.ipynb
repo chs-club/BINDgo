{
 "cells": [
  {
   "cell_type": "markdown",
   "metadata": {},
   "source": [
    "# 01 Basic classifier\n",
    "\n",
    "Here is a starter Jupyter notebook to get started."
   ]
  },
  {
   "cell_type": "code",
   "execution_count": 9,
   "metadata": {},
   "outputs": [],
   "source": [
    "import pyarrow.dataset as ds"
   ]
  },
  {
   "cell_type": "markdown",
   "metadata": {},
   "source": [
    "With the library imported, we can now define a function to read the dataset in chunks.\n",
    "This will help us manage the large data size without overwhelming our system's memory.\n",
    "\n",
    "\n",
    "[ParqetFile](https://arrow.apache.org/docs/python/generated/pyarrow.parquet.ParquetFile.html)"
   ]
  },
  {
   "cell_type": "code",
   "execution_count": 10,
   "metadata": {},
   "outputs": [],
   "source": [
    "path_train_data = \"../../../data/train.parquet\"\n",
    "data_train = ds.dataset(source=path_train_data, format=\"parquet\")"
   ]
  },
  {
   "cell_type": "markdown",
   "metadata": {},
   "source": [
    "This will return a pyarrow [Dataset](https://arrow.apache.org/docs/python/generated/pyarrow.dataset.Dataset.html).\n",
    "\n",
    "[`ds.head()`](https://arrow.apache.org/docs/python/generated/pyarrow.dataset.Dataset.html#pyarrow.dataset.Dataset.head)"
   ]
  },
  {
   "cell_type": "code",
   "execution_count": 12,
   "metadata": {},
   "outputs": [
    {
     "data": {
      "text/plain": [
       "pyarrow.Table\n",
       "id: int64\n",
       "buildingblock1_smiles: string\n",
       "buildingblock2_smiles: string\n",
       "buildingblock3_smiles: string\n",
       "molecule_smiles: string\n",
       "protein_name: string\n",
       "binds: int64\n",
       "----\n",
       "id: [[0,1,2,3,4]]\n",
       "buildingblock1_smiles: [[\"C#CC[C@@H](CC(=O)O)NC(=O)OCC1c2ccccc2-c2ccccc21\",\"C#CC[C@@H](CC(=O)O)NC(=O)OCC1c2ccccc2-c2ccccc21\",\"C#CC[C@@H](CC(=O)O)NC(=O)OCC1c2ccccc2-c2ccccc21\",\"C#CC[C@@H](CC(=O)O)NC(=O)OCC1c2ccccc2-c2ccccc21\",\"C#CC[C@@H](CC(=O)O)NC(=O)OCC1c2ccccc2-c2ccccc21\"]]\n",
       "buildingblock2_smiles: [[\"C#CCOc1ccc(CN)cc1.Cl\",\"C#CCOc1ccc(CN)cc1.Cl\",\"C#CCOc1ccc(CN)cc1.Cl\",\"C#CCOc1ccc(CN)cc1.Cl\",\"C#CCOc1ccc(CN)cc1.Cl\"]]\n",
       "buildingblock3_smiles: [[\"Br.Br.NCC1CCCN1c1cccnn1\",\"Br.Br.NCC1CCCN1c1cccnn1\",\"Br.Br.NCC1CCCN1c1cccnn1\",\"Br.NCc1cccc(Br)n1\",\"Br.NCc1cccc(Br)n1\"]]\n",
       "molecule_smiles: [[\"C#CCOc1ccc(CNc2nc(NCC3CCCN3c3cccnn3)nc(N[C@@H](CC#C)CC(=O)N[Dy])n2)cc1\",\"C#CCOc1ccc(CNc2nc(NCC3CCCN3c3cccnn3)nc(N[C@@H](CC#C)CC(=O)N[Dy])n2)cc1\",\"C#CCOc1ccc(CNc2nc(NCC3CCCN3c3cccnn3)nc(N[C@@H](CC#C)CC(=O)N[Dy])n2)cc1\",\"C#CCOc1ccc(CNc2nc(NCc3cccc(Br)n3)nc(N[C@@H](CC#C)CC(=O)N[Dy])n2)cc1\",\"C#CCOc1ccc(CNc2nc(NCc3cccc(Br)n3)nc(N[C@@H](CC#C)CC(=O)N[Dy])n2)cc1\"]]\n",
       "protein_name: [[\"BRD4\",\"HSA\",\"sEH\",\"BRD4\",\"HSA\"]]\n",
       "binds: [[0,0,0,0,0]]"
      ]
     },
     "execution_count": 12,
     "metadata": {},
     "output_type": "execute_result"
    }
   ],
   "source": [
    "data_train.head(num_rows=5)"
   ]
  }
 ],
 "metadata": {
  "kernelspec": {
   "display_name": "biosc1540-2024s-dev",
   "language": "python",
   "name": "python3"
  },
  "language_info": {
   "codemirror_mode": {
    "name": "ipython",
    "version": 3
   },
   "file_extension": ".py",
   "mimetype": "text/x-python",
   "name": "python",
   "nbconvert_exporter": "python",
   "pygments_lexer": "ipython3",
   "version": "3.11.9"
  }
 },
 "nbformat": 4,
 "nbformat_minor": 2
}
