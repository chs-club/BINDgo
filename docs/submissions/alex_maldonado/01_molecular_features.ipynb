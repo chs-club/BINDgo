{
 "cells": [
  {
   "cell_type": "markdown",
   "metadata": {},
   "source": [
    "# 01 Molecular features\n",
    "\n",
    "Molecular fingerprints are representations of chemical structures that encode the presence or absence of specific substructures or molecular fragments.\n",
    "They are typically used in cheminformatics to compare and analyze chemical compounds."
   ]
  },
  {
   "cell_type": "markdown",
   "metadata": {},
   "source": [
    "## Data and processing\n",
    "\n",
    "In this section, we will use the PyArrow library to load our dataset. PyArrow is a powerful library for working with large, columnar data structures, and it provides efficient tools for reading and writing data in the Parquet format, among others.\n",
    "\n",
    "First, we import the necessary module from PyArrow:"
   ]
  },
  {
   "cell_type": "code",
   "execution_count": 1,
   "metadata": {},
   "outputs": [],
   "source": [
    "import pyarrow.dataset as ds"
   ]
  },
  {
   "cell_type": "markdown",
   "metadata": {},
   "source": [
    "Next, we define the path to our training dataset:"
   ]
  },
  {
   "cell_type": "code",
   "execution_count": 2,
   "metadata": {},
   "outputs": [],
   "source": [
    "PATH_TRAIN_DATA = \"../../../data/train.parquet\""
   ]
  },
  {
   "cell_type": "markdown",
   "metadata": {},
   "source": [
    "Finally, we load the dataset using the PyArrow dataset function:"
   ]
  },
  {
   "cell_type": "code",
   "execution_count": 3,
   "metadata": {},
   "outputs": [],
   "source": [
    "DATA = ds.dataset(source=PATH_TRAIN_DATA, format=\"parquet\")"
   ]
  },
  {
   "cell_type": "markdown",
   "metadata": {},
   "source": [
    "## Protein selection\n",
    "\n",
    "In this section, we will focus on a single protein target from our dataset. The dataset contains binding affinity data for three different proteins. To simplify our approach and make it more manageable for this beginner tutorial, we will select only one protein target. This will help us avoid overcomplicating our analysis while still demonstrating the essential concepts."
   ]
  },
  {
   "cell_type": "code",
   "execution_count": 4,
   "metadata": {},
   "outputs": [],
   "source": [
    "protein_selection = \"sEH\""
   ]
  },
  {
   "cell_type": "markdown",
   "metadata": {},
   "source": [
    "Because our dataset is massive, loading the entire dataset into memory is impractical. Instead, we use PyArrow's scanner functionality to efficiently filter and process the data. Scanners allow us to query and load only the necessary parts of the dataset into memory, making our analysis more efficient and scalable.\n",
    "\n",
    "To handle the protein selection and binding information, we will create two separate scanners: one for molecules that bind to the protein and one for those that do not. This separation will help us handle the unbalanced nature of the dataset and make it more manageable for our beginner approach.\n",
    "\n",
    "PyArrow's compute functions allow us to apply complex filters directly on the dataset without loading it entirely into memory, which is essential for working with large datasets. By using scanners, we can process large datasets in a scalable manner. This approach ensures that we only load the necessary data into memory, improving performance and reducing resource usage. Additionally, PyArrow provides powerful and flexible functions for querying and manipulating data. This flexibility allows us to tailor our data processing to the specific needs of our analysis.\n",
    "\n",
    "To achieve this, we use the `pyarrow.compute` module, which provides a set of functions for performing computations and filtering on Arrow arrays and tables."
   ]
  },
  {
   "cell_type": "code",
   "execution_count": 5,
   "metadata": {},
   "outputs": [],
   "source": [
    "import pyarrow.compute as pc"
   ]
  },
  {
   "cell_type": "markdown",
   "metadata": {},
   "source": [
    "We then create two scanners to filter the dataset based on the protein selection and binding status.\n",
    "\n",
    "The filters use boolean conditions to specify the criteria for selecting rows, with the `&` operator serving as a logical `AND` to combine these conditions. This setup allows us to efficiently handle the large dataset by focusing our analysis on a specific protein and its binding characteristics."
   ]
  },
  {
   "cell_type": "code",
   "execution_count": 6,
   "metadata": {},
   "outputs": [],
   "source": [
    "scanner_protein_bind = DATA.scanner(\n",
    "    filter=(pc.field(\"protein_name\") == protein_selection) & (pc.field(\"binds\") == 1)\n",
    ")\n",
    "scanner_protein_no_bind = DATA.scanner(\n",
    "    filter=(pc.field(\"protein_name\") == protein_selection) & (pc.field(\"binds\") == 0)\n",
    ")"
   ]
  },
  {
   "cell_type": "markdown",
   "metadata": {},
   "source": [
    "-   `scanner_protein_bind`: This scanner filters the dataset to include only rows where the selected protein (sEH) binds (i.e., `binds` is `1`). This subset of data will be used to analyze molecules that successfully bind to the protein.\n",
    "-   `scanner_protein_no_bind`: This scanner filters the dataset to include only rows where the selected protein (sEH) does not bind (i.e., `binds` is `0`). This subset will be used to analyze molecules that do not bind to the protein."
   ]
  },
  {
   "cell_type": "markdown",
   "metadata": {},
   "source": [
    "## Molecule examples"
   ]
  },
  {
   "cell_type": "code",
   "execution_count": 7,
   "metadata": {},
   "outputs": [],
   "source": [
    "from rdkit import Chem\n",
    "from rdkit.Chem import AllChem\n",
    "from leash_bio_kaggle.mol import clean_mol_str"
   ]
  },
  {
   "cell_type": "code",
   "execution_count": 8,
   "metadata": {},
   "outputs": [],
   "source": [
    "def get_mol(smiles):\n",
    "    mol = Chem.MolFromSmiles(smiles)\n",
    "    mol = Chem.AddHs(mol)\n",
    "    AllChem.EmbedMolecule(mol)\n",
    "    AllChem.MMFFOptimizeMolecule(mol, maxIters=200)\n",
    "    return mol"
   ]
  },
  {
   "cell_type": "code",
   "execution_count": 9,
   "metadata": {},
   "outputs": [],
   "source": [
    "example_row_bind = scanner_protein_bind.head(num_rows=1)\n",
    "example_row_no_bind = scanner_protein_no_bind.head(num_rows=1)"
   ]
  },
  {
   "cell_type": "code",
   "execution_count": 10,
   "metadata": {},
   "outputs": [],
   "source": [
    "smiles_bind = clean_mol_str(example_row_bind[\"buildingblock3_smiles\"][0].as_py())\n",
    "smiles_no_bind = clean_mol_str(example_row_no_bind[\"buildingblock3_smiles\"][0].as_py())"
   ]
  },
  {
   "cell_type": "code",
   "execution_count": 11,
   "metadata": {},
   "outputs": [],
   "source": [
    "mol_bind = get_mol(smiles_bind)\n",
    "mol_no_bind = get_mol(smiles_no_bind)"
   ]
  },
  {
   "cell_type": "markdown",
   "metadata": {},
   "source": [
    "## MACCS keys\n",
    "\n",
    "https://pubs.acs.org/doi/10.1021/ci010132r"
   ]
  },
  {
   "cell_type": "code",
   "execution_count": 12,
   "metadata": {},
   "outputs": [],
   "source": [
    "from rdkit.Chem import MACCSkeys"
   ]
  },
  {
   "cell_type": "code",
   "execution_count": 13,
   "metadata": {},
   "outputs": [],
   "source": [
    "maccs = MACCSkeys.GenMACCSKeys(mol_bind)"
   ]
  },
  {
   "cell_type": "markdown",
   "metadata": {},
   "source": [
    "## Morgan fingerprint\n",
    "\n",
    "Morgan fingerprints, also known as Extended-Connectivity Fingerprints (ECFPs), are a type of molecular fingerprint used extensively in cheminformatics for tasks such as structure-activity relationship (SAR) modeling, similarity searching, clustering, and classification.\n",
    "These fingerprints are designed to capture the structural features of molecules in a compact and efficient manner.\n",
    "\n",
    "Morgan fingerprints are derived using a variant of the Morgan algorithm, which was originally developed to solve the molecular isomorphism problem.\n",
    "In other words, to determine if molecules are similar even if the atoms are ordered differently."
   ]
  },
  {
   "cell_type": "markdown",
   "metadata": {},
   "source": [
    "\n",
    "### Generation of Morgan Fingerprints\n",
    "\n",
    "The ECFP generation process involves three main stages:\n",
    "\n",
    "1.  **Initial Assignment of Atom Identifiers**: Each atom in the molecule is assigned an initial integer identifier.\n",
    "    This identifier typically encodes information about the atom's properties, such as atomic number, valence, and whether it is part of a ring.\n",
    "2.  **Iterative Updating of Identifiers**: In each iteration, the identifier of each atom is updated to reflect the identifiers of its neighboring atoms.\n",
    "    This process captures the local structural environment of each atom.\n",
    "    The identifiers from each iteration are collected into a set, forming the extended-connectivity fingerprint.\n",
    "3. **Duplicate Identifier Removal**: After a specified number of iterations, duplicate identifiers are removed, resulting in a set of unique identifiers that define the fingerprint."
   ]
  },
  {
   "cell_type": "markdown",
   "metadata": {},
   "source": [
    "#### Additional readings\n",
    "\n",
    "- https://pubs.acs.org/doi/10.1021/ci100050t"
   ]
  },
  {
   "cell_type": "code",
   "execution_count": 14,
   "metadata": {},
   "outputs": [
    {
     "name": "stdout",
     "output_type": "stream",
     "text": [
      "[1, 0, 0, 1, 1, 0, 0, 0, 0, 0, 1, 0, 0, 1, 0, 0, 0, 1, 0, 0, 0, 0, 0, 0, 0, 0, 0, 0, 0, 0, 0, 0, 0, 0, 0, 0, 1, 0, 0, 0, 0, 0, 1, 0, 0, 0, 0, 0, 0, 0, 0, 1, 0, 1, 0, 0, 0, 0, 0, 0, 0, 0, 0, 0, 0, 1, 1, 0, 0, 0, 0, 0, 0, 1, 0, 0, 1, 0, 0, 0, 0, 0, 0, 0, 1, 0, 0, 0, 0, 0, 0, 1, 0, 0, 0, 0, 1, 0, 0, 1, 0, 0, 0, 0, 0, 0, 1, 0, 0, 1, 0, 1, 0, 0, 0, 0, 0, 0, 0, 0, 0, 1, 0, 0, 1, 0, 0, 0, 0, 0, 1, 0, 0, 0, 0, 0, 0, 0, 0, 0, 0, 0, 0, 0, 0, 1, 0, 0, 1, 0, 0, 0, 1, 0, 1, 0, 0, 0, 0, 0, 0, 0, 0, 1, 0, 0, 0, 0, 0, 0, 0, 1, 0, 0, 0, 0, 0, 1, 0, 0, 0, 0, 1, 1, 0, 0, 0, 0, 1, 0, 0, 1, 0, 0, 0, 1, 0, 0, 0, 0, 0, 1, 0, 0, 0, 0, 0, 0, 1, 0, 0, 0, 0, 0, 0, 0, 0, 0, 0, 1, 0, 1, 0, 1, 0, 0, 0, 0, 0, 0, 0, 0, 0, 0, 0, 0, 0, 0, 0, 1, 0, 0, 0, 0, 1, 0, 0, 0]\n"
     ]
    }
   ],
   "source": [
    "ecfp_example = AllChem.GetMorganFingerprintAsBitVect(\n",
    "    mol_bind,\n",
    "    radius=3,\n",
    "    nBits=248\n",
    ")\n",
    "print(list(ecfp_example))"
   ]
  }
 ],
 "metadata": {
  "kernelspec": {
   "display_name": "biosc1540-2024s-dev",
   "language": "python",
   "name": "python3"
  },
  "language_info": {
   "codemirror_mode": {
    "name": "ipython",
    "version": 3
   },
   "file_extension": ".py",
   "mimetype": "text/x-python",
   "name": "python",
   "nbconvert_exporter": "python",
   "pygments_lexer": "ipython3",
   "version": "3.11.9"
  }
 },
 "nbformat": 4,
 "nbformat_minor": 2
}
