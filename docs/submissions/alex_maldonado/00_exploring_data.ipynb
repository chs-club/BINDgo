{
 "cells": [
  {
   "cell_type": "markdown",
   "metadata": {},
   "source": [
    "# 00 Data exploration\n",
    "\n",
    "Data exploration is a crucial first step in any data science project.\n",
    "It involves understanding the data's structure, identifying patterns or trends, and detecting anomalies or missing values."
   ]
  },
  {
   "cell_type": "markdown",
   "metadata": {},
   "source": [
    "## Loading data\n",
    "\n",
    "Loading data is a fundamental step in any data science project, setting the stage for all subsequent analysis and modeling tasks.\n",
    "Efficiently managing and loading data is especially critical when dealing with large datasets, as improper handling can lead to memory issues and slow performance.\n",
    "In this section, we will demonstrate how to load our dataset using the [`polars`](https://docs.pola.rs/) and [`pyarrow`](https://arrow.apache.org/docs/python/).\n",
    "\n",
    "To begin with, we import the [`polars`](https://docs.pola.rs/) library using\n",
    "\n",
    "```python\n",
    "import polars as pl\n",
    "```\n",
    "\n",
    "this high-performance DataFrame library is designed to handle large datasets efficiently.\n",
    "Polars is known for its speed and memory efficiency, making it an excellent choice for data manipulation and analytical tasks where performance is crucial.\n",
    "It offers a familiar `DataFrame` API that is intuitive for users with experience in [`pandas`](https://pandas.pydata.org/) but provides significant performance advantages, particularly with large datasets.\n",
    "Using Polars ensures that our data processing tasks remain performant and scalable, preventing the crashes and slowdowns that often occur with less efficient libraries."
   ]
  },
  {
   "cell_type": "code",
   "execution_count": 1,
   "metadata": {},
   "outputs": [],
   "source": [
    "import polars as pl"
   ]
  },
  {
   "cell_type": "markdown",
   "metadata": {},
   "source": [
    "While `polars` is designed for high-performance data set analysis, there are always limits from the data set size and computational hardware&mdash;specifically memory.\n",
    "Our Leash biosciences training data is a 3.8 GB [parquet](https://parquet.apache.org/docs/) file which could likely cause issues if trying to load it with `polars`.\n",
    "\n",
    "Instead, we will demonstrate how to load parquet files with the test set (which is only 30.2 MB).\n",
    "This is done with the [`read_parquet`](https://docs.pola.rs/py-polars/html/reference/api/polars.read_parquet.html) function in polars."
   ]
  },
  {
   "cell_type": "code",
   "execution_count": 2,
   "metadata": {},
   "outputs": [],
   "source": [
    "data_test = pl.read_parquet(source=\"../../../data/test.parquet\")"
   ]
  },
  {
   "cell_type": "markdown",
   "metadata": {},
   "source": [
    "Once the data is loaded into the DataFrame, we can inspect the first few rows to ensure it has been read correctly and to get an initial understanding of its structure.\n",
    "This initial inspection helps with:\n",
    "\n",
    "- **Data Verification**: Ensuring that the data has been loaded correctly is a critical first step. By inspecting the first few rows, we confirm that the data structure matches our expectations.\n",
    "- **Understanding Structure**: This initial inspection provides a clear picture of the data's structure, which is essential for planning subsequent data processing and analysis steps.\n",
    "- **Spotting Issues Early**: Early detection of any anomalies or inconsistencies in the data can save significant time and effort later in the analysis process.\n",
    "\n",
    "The [`DataFrame.head`](https://docs.pola.rs/py-polars/html/reference/dataframe/api/polars.DataFrame.head.html#polars.DataFrame.head) function will print the first five of the DataFrame, giving us a snapshot of the dataset."
   ]
  },
  {
   "cell_type": "code",
   "execution_count": 3,
   "metadata": {},
   "outputs": [
    {
     "name": "stdout",
     "output_type": "stream",
     "text": [
      "shape: (5, 6)\n",
      "┌───────────┬─────────────────┬─────────────────┬─────────────────┬─────────────────┬──────────────┐\n",
      "│ id        ┆ buildingblock1_ ┆ buildingblock2_ ┆ buildingblock3_ ┆ molecule_smiles ┆ protein_name │\n",
      "│ ---       ┆ smiles          ┆ smiles          ┆ smiles          ┆ ---             ┆ ---          │\n",
      "│ i64       ┆ ---             ┆ ---             ┆ ---             ┆ str             ┆ str          │\n",
      "│           ┆ str             ┆ str             ┆ str             ┆                 ┆              │\n",
      "╞═══════════╪═════════════════╪═════════════════╪═════════════════╪═════════════════╪══════════════╡\n",
      "│ 295246830 ┆ C#CCCC[C@H](NC( ┆ C=Cc1ccc(N)cc1  ┆ C=Cc1ccc(N)cc1  ┆ C#CCCC[C@H](Nc1 ┆ BRD4         │\n",
      "│           ┆ =O)OCC1c2ccccc2 ┆                 ┆                 ┆ nc(Nc2ccc(C=C)c ┆              │\n",
      "│           ┆ …               ┆                 ┆                 ┆ …               ┆              │\n",
      "│ 295246831 ┆ C#CCCC[C@H](NC( ┆ C=Cc1ccc(N)cc1  ┆ C=Cc1ccc(N)cc1  ┆ C#CCCC[C@H](Nc1 ┆ HSA          │\n",
      "│           ┆ =O)OCC1c2ccccc2 ┆                 ┆                 ┆ nc(Nc2ccc(C=C)c ┆              │\n",
      "│           ┆ …               ┆                 ┆                 ┆ …               ┆              │\n",
      "│ 295246832 ┆ C#CCCC[C@H](NC( ┆ C=Cc1ccc(N)cc1  ┆ C=Cc1ccc(N)cc1  ┆ C#CCCC[C@H](Nc1 ┆ sEH          │\n",
      "│           ┆ =O)OCC1c2ccccc2 ┆                 ┆                 ┆ nc(Nc2ccc(C=C)c ┆              │\n",
      "│           ┆ …               ┆                 ┆                 ┆ …               ┆              │\n",
      "│ 295246833 ┆ C#CCCC[C@H](NC( ┆ C=Cc1ccc(N)cc1  ┆ CC(O)Cn1cnc2c(N ┆ C#CCCC[C@H](Nc1 ┆ BRD4         │\n",
      "│           ┆ =O)OCC1c2ccccc2 ┆                 ┆ )ncnc21         ┆ nc(Nc2ccc(C=C)c ┆              │\n",
      "│           ┆ …               ┆                 ┆                 ┆ …               ┆              │\n",
      "│ 295246834 ┆ C#CCCC[C@H](NC( ┆ C=Cc1ccc(N)cc1  ┆ CC(O)Cn1cnc2c(N ┆ C#CCCC[C@H](Nc1 ┆ HSA          │\n",
      "│           ┆ =O)OCC1c2ccccc2 ┆                 ┆ )ncnc21         ┆ nc(Nc2ccc(C=C)c ┆              │\n",
      "│           ┆ …               ┆                 ┆                 ┆ …               ┆              │\n",
      "└───────────┴─────────────────┴─────────────────┴─────────────────┴─────────────────┴──────────────┘\n"
     ]
    }
   ],
   "source": [
    "print(data_test.head(n=5))"
   ]
  },
  {
   "cell_type": "markdown",
   "metadata": {},
   "source": [
    "After loading the test data into a Polars DataFrame, we inspect the first few rows to verify the data's integrity and understand its structure.\n",
    "The output reveals that the DataFrame has a shape of 5 rows and 6 columns, which aligns with our request to display the first five rows.\n",
    "This initial check confirms that the DataFrame has the expected dimensions, which is a critical step in validating that the data has been loaded correctly.\n",
    "\n",
    "Each column in the DataFrame serves a specific purpose and has a designated data type.\n",
    "The `id` column is a unique identifier for each molecule-protein pair, and it is stored as a 64-bit integer (`i64`).\n",
    "The `buildingblock1_smiles`, `buildingblock2_smiles`, and `buildingblock3_smiles` columns contain the SMILES representations of the individual building blocks of the molecules.\n",
    "These columns are of type `str` (string), as SMILES strings are textual representations of chemical structures.\n",
    "The `molecule_smiles` column holds the SMILES representation of the fully assembled molecule, which includes the three building blocks and the core structure.\n",
    "This column is also of type `str`. Lastly, the `protein_name` column, which is of type `str`, indicates the name of the protein target that each molecule is associated with.\n",
    "\n",
    "The content of the rows provides a snapshot of the data, where each row represents a unique molecule-protein pair along with its corresponding SMILES strings and protein name.\n",
    "For instance, the first row shows a molecule with an `id` of 295246830, which is composed of three building blocks with their respective SMILES strings.\n",
    "The fully assembled molecule's SMILES string is also provided, and the protein target for this molecule is `BRD4`. This detailed breakdown allows us to understand the composition and target of each molecule in the dataset.\n",
    "\n",
    "Additionally, we notice the presence of ellipses (`…`) in the SMILES strings.\n",
    "These ellipses indicate that the SMILES strings are too long to be fully displayed in the output, which is common given the complexity and length of chemical structures represented in SMILES notation.\n",
    "The truncated display helps maintain readability while providing a glimpse of the data's content.\n",
    "\n",
    "We can also look at the last two rows using the [`DataFrame.tail`](https://docs.pola.rs/py-polars/html/reference/dataframe/api/polars.DataFrame.tail.html) function.\n",
    "Now we have to specify `n=2` to change the number of rows."
   ]
  },
  {
   "cell_type": "code",
   "execution_count": 4,
   "metadata": {},
   "outputs": [
    {
     "name": "stdout",
     "output_type": "stream",
     "text": [
      "shape: (2, 6)\n",
      "┌───────────┬─────────────────┬─────────────────┬─────────────────┬─────────────────┬──────────────┐\n",
      "│ id        ┆ buildingblock1_ ┆ buildingblock2_ ┆ buildingblock3_ ┆ molecule_smiles ┆ protein_name │\n",
      "│ ---       ┆ smiles          ┆ smiles          ┆ smiles          ┆ ---             ┆ ---          │\n",
      "│ i64       ┆ ---             ┆ ---             ┆ ---             ┆ str             ┆ str          │\n",
      "│           ┆ str             ┆ str             ┆ str             ┆                 ┆              │\n",
      "╞═══════════╪═════════════════╪═════════════════╪═════════════════╪═════════════════╪══════════════╡\n",
      "│ 296921724 ┆ [N-]=[N+]=NCCC[ ┆ Nc1noc2ccc(F)cc ┆ NCc1cccs1       ┆ [N-]=[N+]=NCCC[ ┆ HSA          │\n",
      "│           ┆ C@H](NC(=O)OCC1 ┆ 12              ┆                 ┆ C@H](Nc1nc(NCc2 ┆              │\n",
      "│           ┆ …               ┆                 ┆                 ┆ …               ┆              │\n",
      "│ 296921725 ┆ [N-]=[N+]=NCCC[ ┆ Nc1noc2ccc(F)cc ┆ NCc1cccs1       ┆ [N-]=[N+]=NCCC[ ┆ sEH          │\n",
      "│           ┆ C@H](NC(=O)OCC1 ┆ 12              ┆                 ┆ C@H](Nc1nc(NCc2 ┆              │\n",
      "│           ┆ …               ┆                 ┆                 ┆ …               ┆              │\n",
      "└───────────┴─────────────────┴─────────────────┴─────────────────┴─────────────────┴──────────────┘\n"
     ]
    }
   ],
   "source": [
    "print(data_test.tail(n=2))"
   ]
  },
  {
   "cell_type": "markdown",
   "metadata": {},
   "source": [
    "### Chunked reading\n",
    "\n",
    "For very large datasets, chunked reading is a more efficient approach.\n",
    "This method reads the dataset in smaller chunks, which helps manage memory usage more effectively.\n",
    "By processing data incrementally, chunked reading avoids the pitfalls of memory overload and allows for scalable data exploration and analysis.\n",
    "\n",
    "1. **Memory Management**: Large datasets can easily exceed the available memory, causing kernel crashes or significant slowdowns. Chunked reading mitigates this by only loading manageable portions of the data at a time.\n",
    "2. **Scalability**: Chunked reading enables the handling of datasets that are much larger than the system’s memory capacity, making it a scalable solution for big data problems.\n",
    "3. **Incremental Processing**: It allows for incremental processing of data, which can be useful for real-time data analysis and processing tasks.\n",
    "4. **Flexibility**: You can perform operations on each chunk independently, which provides flexibility in data processing and can lead to more efficient computations.\n",
    "\n",
    "Chunked reading involves reading a fixed number of rows (a chunk) from the dataset, processing that chunk, and then moving on to the next chunk.\n",
    "This approach ensures that only a small portion of the dataset is loaded into memory at any given time.\n",
    "To start, we need to import the necessary library for reading parquet files.\n",
    "We will use the [`pyarrow.dataset.dataset`](https://arrow.apache.org/docs/python/generated/pyarrow.dataset.dataset.html#) function to interface with our data."
   ]
  },
  {
   "cell_type": "code",
   "execution_count": 5,
   "metadata": {},
   "outputs": [],
   "source": [
    "import pyarrow.dataset as ds"
   ]
  },
  {
   "cell_type": "markdown",
   "metadata": {},
   "source": [
    "With the library imported, we can now define a function to read the dataset in chunks.\n",
    "This will help us manage the large data size without overwhelming our system's memory.\n",
    "\n",
    "\n",
    "[ParqetFile](https://arrow.apache.org/docs/python/generated/pyarrow.parquet.ParquetFile.html)"
   ]
  },
  {
   "cell_type": "code",
   "execution_count": 6,
   "metadata": {},
   "outputs": [],
   "source": [
    "path_train_data = \"../../../data/train.parquet\"\n",
    "data_train = ds.dataset(source=path_train_data, format=\"parquet\")"
   ]
  },
  {
   "cell_type": "markdown",
   "metadata": {},
   "source": [
    "This will return a pyarrow [Dataset](https://arrow.apache.org/docs/python/generated/pyarrow.dataset.Dataset.html).\n",
    "\n",
    "[`ds.head()`](https://arrow.apache.org/docs/python/generated/pyarrow.dataset.Dataset.html#pyarrow.dataset.Dataset.head)"
   ]
  },
  {
   "cell_type": "code",
   "execution_count": 7,
   "metadata": {},
   "outputs": [
    {
     "data": {
      "text/plain": [
       "pyarrow.Table\n",
       "id: int64\n",
       "buildingblock1_smiles: string\n",
       "buildingblock2_smiles: string\n",
       "buildingblock3_smiles: string\n",
       "molecule_smiles: string\n",
       "protein_name: string\n",
       "binds: int64\n",
       "----\n",
       "id: [[0,1,2,3,4]]\n",
       "buildingblock1_smiles: [[\"C#CC[C@@H](CC(=O)O)NC(=O)OCC1c2ccccc2-c2ccccc21\",\"C#CC[C@@H](CC(=O)O)NC(=O)OCC1c2ccccc2-c2ccccc21\",\"C#CC[C@@H](CC(=O)O)NC(=O)OCC1c2ccccc2-c2ccccc21\",\"C#CC[C@@H](CC(=O)O)NC(=O)OCC1c2ccccc2-c2ccccc21\",\"C#CC[C@@H](CC(=O)O)NC(=O)OCC1c2ccccc2-c2ccccc21\"]]\n",
       "buildingblock2_smiles: [[\"C#CCOc1ccc(CN)cc1.Cl\",\"C#CCOc1ccc(CN)cc1.Cl\",\"C#CCOc1ccc(CN)cc1.Cl\",\"C#CCOc1ccc(CN)cc1.Cl\",\"C#CCOc1ccc(CN)cc1.Cl\"]]\n",
       "buildingblock3_smiles: [[\"Br.Br.NCC1CCCN1c1cccnn1\",\"Br.Br.NCC1CCCN1c1cccnn1\",\"Br.Br.NCC1CCCN1c1cccnn1\",\"Br.NCc1cccc(Br)n1\",\"Br.NCc1cccc(Br)n1\"]]\n",
       "molecule_smiles: [[\"C#CCOc1ccc(CNc2nc(NCC3CCCN3c3cccnn3)nc(N[C@@H](CC#C)CC(=O)N[Dy])n2)cc1\",\"C#CCOc1ccc(CNc2nc(NCC3CCCN3c3cccnn3)nc(N[C@@H](CC#C)CC(=O)N[Dy])n2)cc1\",\"C#CCOc1ccc(CNc2nc(NCC3CCCN3c3cccnn3)nc(N[C@@H](CC#C)CC(=O)N[Dy])n2)cc1\",\"C#CCOc1ccc(CNc2nc(NCc3cccc(Br)n3)nc(N[C@@H](CC#C)CC(=O)N[Dy])n2)cc1\",\"C#CCOc1ccc(CNc2nc(NCc3cccc(Br)n3)nc(N[C@@H](CC#C)CC(=O)N[Dy])n2)cc1\"]]\n",
       "protein_name: [[\"BRD4\",\"HSA\",\"sEH\",\"BRD4\",\"HSA\"]]\n",
       "binds: [[0,0,0,0,0]]"
      ]
     },
     "execution_count": 7,
     "metadata": {},
     "output_type": "execute_result"
    }
   ],
   "source": [
    "data_train.head(num_rows=5)"
   ]
  },
  {
   "cell_type": "markdown",
   "metadata": {},
   "source": [
    "## Visualizing"
   ]
  },
  {
   "cell_type": "code",
   "execution_count": 8,
   "metadata": {},
   "outputs": [
    {
     "name": "stdout",
     "output_type": "stream",
     "text": [
      "pyarrow.Table\n",
      "id: int64\n",
      "buildingblock1_smiles: string\n",
      "buildingblock2_smiles: string\n",
      "buildingblock3_smiles: string\n",
      "molecule_smiles: string\n",
      "protein_name: string\n",
      "binds: int64\n",
      "----\n",
      "id: [[0]]\n",
      "buildingblock1_smiles: [[\"C#CC[C@@H](CC(=O)O)NC(=O)OCC1c2ccccc2-c2ccccc21\"]]\n",
      "buildingblock2_smiles: [[\"C#CCOc1ccc(CN)cc1.Cl\"]]\n",
      "buildingblock3_smiles: [[\"Br.Br.NCC1CCCN1c1cccnn1\"]]\n",
      "molecule_smiles: [[\"C#CCOc1ccc(CNc2nc(NCC3CCCN3c3cccnn3)nc(N[C@@H](CC#C)CC(=O)N[Dy])n2)cc1\"]]\n",
      "protein_name: [[\"BRD4\"]]\n",
      "binds: [[0]]\n"
     ]
    }
   ],
   "source": [
    "example_row = data_train.head(num_rows=1)\n",
    "print(example_row)"
   ]
  },
  {
   "cell_type": "code",
   "execution_count": 9,
   "metadata": {},
   "outputs": [],
   "source": [
    "from rdkit import Chem\n",
    "from rdkit.Chem import AllChem\n",
    "import py3Dmol"
   ]
  },
  {
   "cell_type": "code",
   "execution_count": 10,
   "metadata": {},
   "outputs": [],
   "source": [
    "def get_mol(smi):\n",
    "    mol = Chem.MolFromSmiles(smi)\n",
    "    mol = Chem.AddHs(mol)\n",
    "    AllChem.EmbedMolecule(mol)\n",
    "    AllChem.MMFFOptimizeMolecule(mol, maxIters=200)\n",
    "    return mol"
   ]
  },
  {
   "cell_type": "code",
   "execution_count": 11,
   "metadata": {},
   "outputs": [],
   "source": [
    "def show_mol(smi, style=\"stick\"):\n",
    "    \n",
    "    mol = get_mol(smi)\n",
    "    mblock = Chem.MolToMolBlock(mol)\n",
    "\n",
    "    view = py3Dmol.view(width=500, height=500)\n",
    "    view.addModel(mblock, \"mol\")\n",
    "    view.setStyle({style: {}})\n",
    "    view.zoomTo()\n",
    "    view.show()"
   ]
  },
  {
   "cell_type": "code",
   "execution_count": 12,
   "metadata": {},
   "outputs": [
    {
     "name": "stdout",
     "output_type": "stream",
     "text": [
      "C#CC[C@@H](CC(=O)O)NC(=O)OCC1c2ccccc2-c2ccccc21\n"
     ]
    },
    {
     "data": {
      "application/3dmoljs_load.v0": "<div id=\"3dmolviewer_171761794599389\"  style=\"position: relative; width: 500px; height: 500px;\">\n        <p id=\"3dmolwarning_171761794599389\" style=\"background-color:#ffcccc;color:black\">3Dmol.js failed to load for some reason.  Please check your browser console for error messages.<br></p>\n        </div>\n<script>\n\nvar loadScriptAsync = function(uri){\n  return new Promise((resolve, reject) => {\n    //this is to ignore the existence of requirejs amd\n    var savedexports, savedmodule;\n    if (typeof exports !== 'undefined') savedexports = exports;\n    else exports = {}\n    if (typeof module !== 'undefined') savedmodule = module;\n    else module = {}\n\n    var tag = document.createElement('script');\n    tag.src = uri;\n    tag.async = true;\n    tag.onload = () => {\n        exports = savedexports;\n        module = savedmodule;\n        resolve();\n    };\n  var firstScriptTag = document.getElementsByTagName('script')[0];\n  firstScriptTag.parentNode.insertBefore(tag, firstScriptTag);\n});\n};\n\nif(typeof $3Dmolpromise === 'undefined') {\n$3Dmolpromise = null;\n  $3Dmolpromise = loadScriptAsync('https://cdnjs.cloudflare.com/ajax/libs/3Dmol/2.1.0/3Dmol-min.js');\n}\n\nvar viewer_171761794599389 = null;\nvar warn = document.getElementById(\"3dmolwarning_171761794599389\");\nif(warn) {\n    warn.parentNode.removeChild(warn);\n}\n$3Dmolpromise.then(function() {\nviewer_171761794599389 = $3Dmol.createViewer(document.getElementById(\"3dmolviewer_171761794599389\"),{backgroundColor:\"white\"});\nviewer_171761794599389.zoomTo();\n\tviewer_171761794599389.addModel(\"\\n     RDKit          3D\\n\\n 45 47  0  0  0  0  0  0  0  0999 V2000\\n    4.3788    1.6259   -1.2839 C   0  0  0  0  0  0  0  0  0  0  0  0\\n    4.2177    0.4459   -1.1293 C   0  0  0  0  0  0  0  0  0  0  0  0\\n    4.0236   -1.0046   -0.9480 C   0  0  0  0  0  0  0  0  0  0  0  0\\n    3.6906   -1.3878    0.5124 C   0  0  1  0  0  0  0  0  0  0  0  0\\n    4.7921   -1.0206    1.5126 C   0  0  0  0  0  0  0  0  0  0  0  0\\n    6.1162   -1.6508    1.1924 C   0  0  0  0  0  0  0  0  0  0  0  0\\n    7.1964   -1.0847    1.1984 O   0  0  0  0  0  0  0  0  0  0  0  0\\n    6.0392   -2.9694    0.9426 O   0  0  0  0  0  0  0  0  0  0  0  0\\n    2.4210   -0.7943    0.9372 N   0  0  0  0  0  0  0  0  0  0  0  0\\n    1.2191   -1.3009    0.5434 C   0  0  0  0  0  0  0  0  0  0  0  0\\n    1.0517   -2.3726   -0.0161 O   0  0  0  0  0  0  0  0  0  0  0  0\\n    0.2463   -0.4136    0.8551 O   0  0  0  0  0  0  0  0  0  0  0  0\\n   -1.0753   -0.8190    0.4522 C   0  0  0  0  0  0  0  0  0  0  0  0\\n   -2.0645    0.3032    0.7810 C   0  0  0  0  0  0  0  0  0  0  0  0\\n   -2.0279    1.4396   -0.2396 C   0  0  0  0  0  0  0  0  0  0  0  0\\n   -0.9593    2.2504   -0.5924 C   0  0  0  0  0  0  0  0  0  0  0  0\\n   -1.1700    3.2357   -1.5588 C   0  0  0  0  0  0  0  0  0  0  0  0\\n   -2.4323    3.4018   -2.1517 C   0  0  0  0  0  0  0  0  0  0  0  0\\n   -3.5078    2.5860   -1.7874 C   0  0  0  0  0  0  0  0  0  0  0  0\\n   -3.2998    1.6071   -0.8293 C   0  0  0  0  0  0  0  0  0  0  0  0\\n   -4.2118    0.6365   -0.2631 C   0  0  0  0  0  0  0  0  0  0  0  0\\n   -5.5551    0.4096   -0.5150 C   0  0  0  0  0  0  0  0  0  0  0  0\\n   -6.2043   -0.6057    0.1940 C   0  0  0  0  0  0  0  0  0  0  0  0\\n   -5.5127   -1.3764    1.1428 C   0  0  0  0  0  0  0  0  0  0  0  0\\n   -4.1591   -1.1487    1.3981 C   0  0  0  0  0  0  0  0  0  0  0  0\\n   -3.5180   -0.1465    0.6850 C   0  0  0  0  0  0  0  0  0  0  0  0\\n    4.5283    2.6714   -1.4292 H   0  0  0  0  0  0  0  0  0  0  0  0\\n    3.2113   -1.3347   -1.6073 H   0  0  0  0  0  0  0  0  0  0  0  0\\n    4.9230   -1.5354   -1.2803 H   0  0  0  0  0  0  0  0  0  0  0  0\\n    3.5484   -2.4764    0.5309 H   0  0  0  0  0  0  0  0  0  0  0  0\\n    4.9310    0.0662    1.5541 H   0  0  0  0  0  0  0  0  0  0  0  0\\n    4.5106   -1.3362    2.5246 H   0  0  0  0  0  0  0  0  0  0  0  0\\n    6.9708   -3.2459    0.8050 H   0  0  0  0  0  0  0  0  0  0  0  0\\n    2.3926    0.1837    1.1940 H   0  0  0  0  0  0  0  0  0  0  0  0\\n   -1.3304   -1.7262    1.0131 H   0  0  0  0  0  0  0  0  0  0  0  0\\n   -1.0842   -1.0525   -0.6206 H   0  0  0  0  0  0  0  0  0  0  0  0\\n   -1.8800    0.7271    1.7758 H   0  0  0  0  0  0  0  0  0  0  0  0\\n    0.0166    2.1281   -0.1348 H   0  0  0  0  0  0  0  0  0  0  0  0\\n   -0.3486    3.8832   -1.8567 H   0  0  0  0  0  0  0  0  0  0  0  0\\n   -2.5744    4.1758   -2.9024 H   0  0  0  0  0  0  0  0  0  0  0  0\\n   -4.4791    2.7244   -2.2498 H   0  0  0  0  0  0  0  0  0  0  0  0\\n   -6.0999    1.0020   -1.2422 H   0  0  0  0  0  0  0  0  0  0  0  0\\n   -7.2587   -0.7998    0.0113 H   0  0  0  0  0  0  0  0  0  0  0  0\\n   -6.0400   -2.1579    1.6853 H   0  0  0  0  0  0  0  0  0  0  0  0\\n   -3.6323   -1.7431    2.1376 H   0  0  0  0  0  0  0  0  0  0  0  0\\n  1  2  3  0\\n  2  3  1  0\\n  3  4  1  0\\n  4  5  1  0\\n  5  6  1  0\\n  6  7  2  0\\n  6  8  1  0\\n  4  9  1  0\\n  9 10  1  0\\n 10 11  2  0\\n 10 12  1  0\\n 12 13  1  0\\n 13 14  1  0\\n 14 15  1  0\\n 15 16  2  0\\n 16 17  1  0\\n 17 18  2  0\\n 18 19  1  0\\n 19 20  2  0\\n 20 21  1  0\\n 21 22  2  0\\n 22 23  1  0\\n 23 24  2  0\\n 24 25  1  0\\n 25 26  2  0\\n 26 14  1  0\\n 20 15  1  0\\n 26 21  1  0\\n  1 27  1  0\\n  3 28  1  0\\n  3 29  1  0\\n  4 30  1  6\\n  5 31  1  0\\n  5 32  1  0\\n  8 33  1  0\\n  9 34  1  0\\n 13 35  1  0\\n 13 36  1  0\\n 14 37  1  0\\n 16 38  1  0\\n 17 39  1  0\\n 18 40  1  0\\n 19 41  1  0\\n 22 42  1  0\\n 23 43  1  0\\n 24 44  1  0\\n 25 45  1  0\\nM  END\\n\",\"mol\");\n\tviewer_171761794599389.setStyle({\"stick\": {}});\n\tviewer_171761794599389.zoomTo();\nviewer_171761794599389.render();\n});\n</script>",
      "text/html": [
       "<div id=\"3dmolviewer_171761794599389\"  style=\"position: relative; width: 500px; height: 500px;\">\n",
       "        <p id=\"3dmolwarning_171761794599389\" style=\"background-color:#ffcccc;color:black\">3Dmol.js failed to load for some reason.  Please check your browser console for error messages.<br></p>\n",
       "        </div>\n",
       "<script>\n",
       "\n",
       "var loadScriptAsync = function(uri){\n",
       "  return new Promise((resolve, reject) => {\n",
       "    //this is to ignore the existence of requirejs amd\n",
       "    var savedexports, savedmodule;\n",
       "    if (typeof exports !== 'undefined') savedexports = exports;\n",
       "    else exports = {}\n",
       "    if (typeof module !== 'undefined') savedmodule = module;\n",
       "    else module = {}\n",
       "\n",
       "    var tag = document.createElement('script');\n",
       "    tag.src = uri;\n",
       "    tag.async = true;\n",
       "    tag.onload = () => {\n",
       "        exports = savedexports;\n",
       "        module = savedmodule;\n",
       "        resolve();\n",
       "    };\n",
       "  var firstScriptTag = document.getElementsByTagName('script')[0];\n",
       "  firstScriptTag.parentNode.insertBefore(tag, firstScriptTag);\n",
       "});\n",
       "};\n",
       "\n",
       "if(typeof $3Dmolpromise === 'undefined') {\n",
       "$3Dmolpromise = null;\n",
       "  $3Dmolpromise = loadScriptAsync('https://cdnjs.cloudflare.com/ajax/libs/3Dmol/2.1.0/3Dmol-min.js');\n",
       "}\n",
       "\n",
       "var viewer_171761794599389 = null;\n",
       "var warn = document.getElementById(\"3dmolwarning_171761794599389\");\n",
       "if(warn) {\n",
       "    warn.parentNode.removeChild(warn);\n",
       "}\n",
       "$3Dmolpromise.then(function() {\n",
       "viewer_171761794599389 = $3Dmol.createViewer(document.getElementById(\"3dmolviewer_171761794599389\"),{backgroundColor:\"white\"});\n",
       "viewer_171761794599389.zoomTo();\n",
       "\tviewer_171761794599389.addModel(\"\\n     RDKit          3D\\n\\n 45 47  0  0  0  0  0  0  0  0999 V2000\\n    4.3788    1.6259   -1.2839 C   0  0  0  0  0  0  0  0  0  0  0  0\\n    4.2177    0.4459   -1.1293 C   0  0  0  0  0  0  0  0  0  0  0  0\\n    4.0236   -1.0046   -0.9480 C   0  0  0  0  0  0  0  0  0  0  0  0\\n    3.6906   -1.3878    0.5124 C   0  0  1  0  0  0  0  0  0  0  0  0\\n    4.7921   -1.0206    1.5126 C   0  0  0  0  0  0  0  0  0  0  0  0\\n    6.1162   -1.6508    1.1924 C   0  0  0  0  0  0  0  0  0  0  0  0\\n    7.1964   -1.0847    1.1984 O   0  0  0  0  0  0  0  0  0  0  0  0\\n    6.0392   -2.9694    0.9426 O   0  0  0  0  0  0  0  0  0  0  0  0\\n    2.4210   -0.7943    0.9372 N   0  0  0  0  0  0  0  0  0  0  0  0\\n    1.2191   -1.3009    0.5434 C   0  0  0  0  0  0  0  0  0  0  0  0\\n    1.0517   -2.3726   -0.0161 O   0  0  0  0  0  0  0  0  0  0  0  0\\n    0.2463   -0.4136    0.8551 O   0  0  0  0  0  0  0  0  0  0  0  0\\n   -1.0753   -0.8190    0.4522 C   0  0  0  0  0  0  0  0  0  0  0  0\\n   -2.0645    0.3032    0.7810 C   0  0  0  0  0  0  0  0  0  0  0  0\\n   -2.0279    1.4396   -0.2396 C   0  0  0  0  0  0  0  0  0  0  0  0\\n   -0.9593    2.2504   -0.5924 C   0  0  0  0  0  0  0  0  0  0  0  0\\n   -1.1700    3.2357   -1.5588 C   0  0  0  0  0  0  0  0  0  0  0  0\\n   -2.4323    3.4018   -2.1517 C   0  0  0  0  0  0  0  0  0  0  0  0\\n   -3.5078    2.5860   -1.7874 C   0  0  0  0  0  0  0  0  0  0  0  0\\n   -3.2998    1.6071   -0.8293 C   0  0  0  0  0  0  0  0  0  0  0  0\\n   -4.2118    0.6365   -0.2631 C   0  0  0  0  0  0  0  0  0  0  0  0\\n   -5.5551    0.4096   -0.5150 C   0  0  0  0  0  0  0  0  0  0  0  0\\n   -6.2043   -0.6057    0.1940 C   0  0  0  0  0  0  0  0  0  0  0  0\\n   -5.5127   -1.3764    1.1428 C   0  0  0  0  0  0  0  0  0  0  0  0\\n   -4.1591   -1.1487    1.3981 C   0  0  0  0  0  0  0  0  0  0  0  0\\n   -3.5180   -0.1465    0.6850 C   0  0  0  0  0  0  0  0  0  0  0  0\\n    4.5283    2.6714   -1.4292 H   0  0  0  0  0  0  0  0  0  0  0  0\\n    3.2113   -1.3347   -1.6073 H   0  0  0  0  0  0  0  0  0  0  0  0\\n    4.9230   -1.5354   -1.2803 H   0  0  0  0  0  0  0  0  0  0  0  0\\n    3.5484   -2.4764    0.5309 H   0  0  0  0  0  0  0  0  0  0  0  0\\n    4.9310    0.0662    1.5541 H   0  0  0  0  0  0  0  0  0  0  0  0\\n    4.5106   -1.3362    2.5246 H   0  0  0  0  0  0  0  0  0  0  0  0\\n    6.9708   -3.2459    0.8050 H   0  0  0  0  0  0  0  0  0  0  0  0\\n    2.3926    0.1837    1.1940 H   0  0  0  0  0  0  0  0  0  0  0  0\\n   -1.3304   -1.7262    1.0131 H   0  0  0  0  0  0  0  0  0  0  0  0\\n   -1.0842   -1.0525   -0.6206 H   0  0  0  0  0  0  0  0  0  0  0  0\\n   -1.8800    0.7271    1.7758 H   0  0  0  0  0  0  0  0  0  0  0  0\\n    0.0166    2.1281   -0.1348 H   0  0  0  0  0  0  0  0  0  0  0  0\\n   -0.3486    3.8832   -1.8567 H   0  0  0  0  0  0  0  0  0  0  0  0\\n   -2.5744    4.1758   -2.9024 H   0  0  0  0  0  0  0  0  0  0  0  0\\n   -4.4791    2.7244   -2.2498 H   0  0  0  0  0  0  0  0  0  0  0  0\\n   -6.0999    1.0020   -1.2422 H   0  0  0  0  0  0  0  0  0  0  0  0\\n   -7.2587   -0.7998    0.0113 H   0  0  0  0  0  0  0  0  0  0  0  0\\n   -6.0400   -2.1579    1.6853 H   0  0  0  0  0  0  0  0  0  0  0  0\\n   -3.6323   -1.7431    2.1376 H   0  0  0  0  0  0  0  0  0  0  0  0\\n  1  2  3  0\\n  2  3  1  0\\n  3  4  1  0\\n  4  5  1  0\\n  5  6  1  0\\n  6  7  2  0\\n  6  8  1  0\\n  4  9  1  0\\n  9 10  1  0\\n 10 11  2  0\\n 10 12  1  0\\n 12 13  1  0\\n 13 14  1  0\\n 14 15  1  0\\n 15 16  2  0\\n 16 17  1  0\\n 17 18  2  0\\n 18 19  1  0\\n 19 20  2  0\\n 20 21  1  0\\n 21 22  2  0\\n 22 23  1  0\\n 23 24  2  0\\n 24 25  1  0\\n 25 26  2  0\\n 26 14  1  0\\n 20 15  1  0\\n 26 21  1  0\\n  1 27  1  0\\n  3 28  1  0\\n  3 29  1  0\\n  4 30  1  6\\n  5 31  1  0\\n  5 32  1  0\\n  8 33  1  0\\n  9 34  1  0\\n 13 35  1  0\\n 13 36  1  0\\n 14 37  1  0\\n 16 38  1  0\\n 17 39  1  0\\n 18 40  1  0\\n 19 41  1  0\\n 22 42  1  0\\n 23 43  1  0\\n 24 44  1  0\\n 25 45  1  0\\nM  END\\n\",\"mol\");\n",
       "\tviewer_171761794599389.setStyle({\"stick\": {}});\n",
       "\tviewer_171761794599389.zoomTo();\n",
       "viewer_171761794599389.render();\n",
       "});\n",
       "</script>"
      ]
     },
     "metadata": {},
     "output_type": "display_data"
    }
   ],
   "source": [
    "smi = example_row[\"buildingblock1_smiles\"][0].as_py()\n",
    "print(smi)\n",
    "show_mol(smi)"
   ]
  },
  {
   "cell_type": "markdown",
   "metadata": {},
   "source": [
    "### Cleaning smiles\n"
   ]
  },
  {
   "cell_type": "code",
   "execution_count": 13,
   "metadata": {},
   "outputs": [
    {
     "name": "stdout",
     "output_type": "stream",
     "text": [
      "C#CCOc1ccc(CN)cc1.Cl\n"
     ]
    },
    {
     "data": {
      "application/3dmoljs_load.v0": "<div id=\"3dmolviewer_17176179460127983\"  style=\"position: relative; width: 500px; height: 500px;\">\n        <p id=\"3dmolwarning_17176179460127983\" style=\"background-color:#ffcccc;color:black\">3Dmol.js failed to load for some reason.  Please check your browser console for error messages.<br></p>\n        </div>\n<script>\n\nvar loadScriptAsync = function(uri){\n  return new Promise((resolve, reject) => {\n    //this is to ignore the existence of requirejs amd\n    var savedexports, savedmodule;\n    if (typeof exports !== 'undefined') savedexports = exports;\n    else exports = {}\n    if (typeof module !== 'undefined') savedmodule = module;\n    else module = {}\n\n    var tag = document.createElement('script');\n    tag.src = uri;\n    tag.async = true;\n    tag.onload = () => {\n        exports = savedexports;\n        module = savedmodule;\n        resolve();\n    };\n  var firstScriptTag = document.getElementsByTagName('script')[0];\n  firstScriptTag.parentNode.insertBefore(tag, firstScriptTag);\n});\n};\n\nif(typeof $3Dmolpromise === 'undefined') {\n$3Dmolpromise = null;\n  $3Dmolpromise = loadScriptAsync('https://cdnjs.cloudflare.com/ajax/libs/3Dmol/2.1.0/3Dmol-min.js');\n}\n\nvar viewer_17176179460127983 = null;\nvar warn = document.getElementById(\"3dmolwarning_17176179460127983\");\nif(warn) {\n    warn.parentNode.removeChild(warn);\n}\n$3Dmolpromise.then(function() {\nviewer_17176179460127983 = $3Dmol.createViewer(document.getElementById(\"3dmolviewer_17176179460127983\"),{backgroundColor:\"white\"});\nviewer_17176179460127983.zoomTo();\n\tviewer_17176179460127983.addModel(\"\\n     RDKit          3D\\n\\n 25 24  0  0  0  0  0  0  0  0999 V2000\\n    4.8889    2.1944    1.8010 C   0  0  0  0  0  0  0  0  0  0  0  0\\n    3.8715    1.6315    1.6591 C   0  0  0  0  0  0  0  0  0  0  0  0\\n    2.5775    0.8881    1.4873 C   0  0  0  0  0  0  0  0  0  0  0  0\\n    2.0326    1.2837    0.2542 O   0  0  0  0  0  0  0  0  0  0  0  0\\n    0.8231    0.7679   -0.1629 C   0  0  0  0  0  0  0  0  0  0  0  0\\n    0.2195    1.0978   -1.3494 C   0  0  0  0  0  0  0  0  0  0  0  0\\n   -0.9915    0.5487   -1.7128 C   0  0  0  0  0  0  0  0  0  0  0  0\\n   -1.6719   -0.3535   -0.9242 C   0  0  0  0  0  0  0  0  0  0  0  0\\n   -2.9825   -0.9154   -1.3653 C   0  0  0  0  0  0  0  0  0  0  0  0\\n   -3.5742   -1.8004   -0.4029 N   0  0  0  0  0  0  0  0  0  0  0  0\\n   -1.0667   -0.6867    0.2686 C   0  0  0  0  0  0  0  0  0  0  0  0\\n    0.1502   -0.1491    0.6550 C   0  0  0  0  0  0  0  0  0  0  0  0\\n    0.6915    0.0000    0.0000 Cl  0  0  0  0  0  0  0  0  0  0  0  0\\n    5.8304    2.7262    1.9495 H   0  0  0  0  0  0  0  0  0  0  0  0\\n    2.7365   -0.2025    1.5754 H   0  0  0  0  0  0  0  0  0  0  0  0\\n    1.9422    1.1826    2.3398 H   0  0  0  0  0  0  0  0  0  0  0  0\\n    0.7481    1.8184   -1.9926 H   0  0  0  0  0  0  0  0  0  0  0  0\\n   -1.4498    0.8387   -2.6737 H   0  0  0  0  0  0  0  0  0  0  0  0\\n   -2.8043   -1.5414   -2.2918 H   0  0  0  0  0  0  0  0  0  0  0  0\\n   -3.6626   -0.0950   -1.6886 H   0  0  0  0  0  0  0  0  0  0  0  0\\n   -3.1154   -2.7348   -0.5101 H   0  0  0  0  0  0  0  0  0  0  0  0\\n   -3.5545   -1.5073    0.5721 H   0  0  0  0  0  0  0  0  0  0  0  0\\n   -1.5724   -1.3982    0.9296 H   0  0  0  0  0  0  0  0  0  0  0  0\\n    0.6252   -0.4039    1.5827 H   0  0  0  0  0  0  0  0  0  0  0  0\\n   -0.6915    0.0000    0.0000 H   0  0  0  0  0  0  0  0  0  0  0  0\\n  1  2  3  0\\n  2  3  1  0\\n  3  4  1  0\\n  4  5  1  0\\n  5  6  2  0\\n  6  7  1  0\\n  7  8  2  0\\n  8  9  1  0\\n  9 10  1  0\\n  8 11  1  0\\n 11 12  2  0\\n 12  5  1  0\\n  1 14  1  0\\n  3 15  1  0\\n  3 16  1  0\\n  6 17  1  0\\n  7 18  1  0\\n  9 19  1  0\\n  9 20  1  0\\n 10 21  1  0\\n 10 22  1  0\\n 11 23  1  0\\n 12 24  1  0\\n 13 25  1  0\\nM  END\\n\",\"mol\");\n\tviewer_17176179460127983.setStyle({\"stick\": {}});\n\tviewer_17176179460127983.zoomTo();\nviewer_17176179460127983.render();\n});\n</script>",
      "text/html": [
       "<div id=\"3dmolviewer_17176179460127983\"  style=\"position: relative; width: 500px; height: 500px;\">\n",
       "        <p id=\"3dmolwarning_17176179460127983\" style=\"background-color:#ffcccc;color:black\">3Dmol.js failed to load for some reason.  Please check your browser console for error messages.<br></p>\n",
       "        </div>\n",
       "<script>\n",
       "\n",
       "var loadScriptAsync = function(uri){\n",
       "  return new Promise((resolve, reject) => {\n",
       "    //this is to ignore the existence of requirejs amd\n",
       "    var savedexports, savedmodule;\n",
       "    if (typeof exports !== 'undefined') savedexports = exports;\n",
       "    else exports = {}\n",
       "    if (typeof module !== 'undefined') savedmodule = module;\n",
       "    else module = {}\n",
       "\n",
       "    var tag = document.createElement('script');\n",
       "    tag.src = uri;\n",
       "    tag.async = true;\n",
       "    tag.onload = () => {\n",
       "        exports = savedexports;\n",
       "        module = savedmodule;\n",
       "        resolve();\n",
       "    };\n",
       "  var firstScriptTag = document.getElementsByTagName('script')[0];\n",
       "  firstScriptTag.parentNode.insertBefore(tag, firstScriptTag);\n",
       "});\n",
       "};\n",
       "\n",
       "if(typeof $3Dmolpromise === 'undefined') {\n",
       "$3Dmolpromise = null;\n",
       "  $3Dmolpromise = loadScriptAsync('https://cdnjs.cloudflare.com/ajax/libs/3Dmol/2.1.0/3Dmol-min.js');\n",
       "}\n",
       "\n",
       "var viewer_17176179460127983 = null;\n",
       "var warn = document.getElementById(\"3dmolwarning_17176179460127983\");\n",
       "if(warn) {\n",
       "    warn.parentNode.removeChild(warn);\n",
       "}\n",
       "$3Dmolpromise.then(function() {\n",
       "viewer_17176179460127983 = $3Dmol.createViewer(document.getElementById(\"3dmolviewer_17176179460127983\"),{backgroundColor:\"white\"});\n",
       "viewer_17176179460127983.zoomTo();\n",
       "\tviewer_17176179460127983.addModel(\"\\n     RDKit          3D\\n\\n 25 24  0  0  0  0  0  0  0  0999 V2000\\n    4.8889    2.1944    1.8010 C   0  0  0  0  0  0  0  0  0  0  0  0\\n    3.8715    1.6315    1.6591 C   0  0  0  0  0  0  0  0  0  0  0  0\\n    2.5775    0.8881    1.4873 C   0  0  0  0  0  0  0  0  0  0  0  0\\n    2.0326    1.2837    0.2542 O   0  0  0  0  0  0  0  0  0  0  0  0\\n    0.8231    0.7679   -0.1629 C   0  0  0  0  0  0  0  0  0  0  0  0\\n    0.2195    1.0978   -1.3494 C   0  0  0  0  0  0  0  0  0  0  0  0\\n   -0.9915    0.5487   -1.7128 C   0  0  0  0  0  0  0  0  0  0  0  0\\n   -1.6719   -0.3535   -0.9242 C   0  0  0  0  0  0  0  0  0  0  0  0\\n   -2.9825   -0.9154   -1.3653 C   0  0  0  0  0  0  0  0  0  0  0  0\\n   -3.5742   -1.8004   -0.4029 N   0  0  0  0  0  0  0  0  0  0  0  0\\n   -1.0667   -0.6867    0.2686 C   0  0  0  0  0  0  0  0  0  0  0  0\\n    0.1502   -0.1491    0.6550 C   0  0  0  0  0  0  0  0  0  0  0  0\\n    0.6915    0.0000    0.0000 Cl  0  0  0  0  0  0  0  0  0  0  0  0\\n    5.8304    2.7262    1.9495 H   0  0  0  0  0  0  0  0  0  0  0  0\\n    2.7365   -0.2025    1.5754 H   0  0  0  0  0  0  0  0  0  0  0  0\\n    1.9422    1.1826    2.3398 H   0  0  0  0  0  0  0  0  0  0  0  0\\n    0.7481    1.8184   -1.9926 H   0  0  0  0  0  0  0  0  0  0  0  0\\n   -1.4498    0.8387   -2.6737 H   0  0  0  0  0  0  0  0  0  0  0  0\\n   -2.8043   -1.5414   -2.2918 H   0  0  0  0  0  0  0  0  0  0  0  0\\n   -3.6626   -0.0950   -1.6886 H   0  0  0  0  0  0  0  0  0  0  0  0\\n   -3.1154   -2.7348   -0.5101 H   0  0  0  0  0  0  0  0  0  0  0  0\\n   -3.5545   -1.5073    0.5721 H   0  0  0  0  0  0  0  0  0  0  0  0\\n   -1.5724   -1.3982    0.9296 H   0  0  0  0  0  0  0  0  0  0  0  0\\n    0.6252   -0.4039    1.5827 H   0  0  0  0  0  0  0  0  0  0  0  0\\n   -0.6915    0.0000    0.0000 H   0  0  0  0  0  0  0  0  0  0  0  0\\n  1  2  3  0\\n  2  3  1  0\\n  3  4  1  0\\n  4  5  1  0\\n  5  6  2  0\\n  6  7  1  0\\n  7  8  2  0\\n  8  9  1  0\\n  9 10  1  0\\n  8 11  1  0\\n 11 12  2  0\\n 12  5  1  0\\n  1 14  1  0\\n  3 15  1  0\\n  3 16  1  0\\n  6 17  1  0\\n  7 18  1  0\\n  9 19  1  0\\n  9 20  1  0\\n 10 21  1  0\\n 10 22  1  0\\n 11 23  1  0\\n 12 24  1  0\\n 13 25  1  0\\nM  END\\n\",\"mol\");\n",
       "\tviewer_17176179460127983.setStyle({\"stick\": {}});\n",
       "\tviewer_17176179460127983.zoomTo();\n",
       "viewer_17176179460127983.render();\n",
       "});\n",
       "</script>"
      ]
     },
     "metadata": {},
     "output_type": "display_data"
    }
   ],
   "source": [
    "smi = example_row[\"buildingblock2_smiles\"][0].as_py()\n",
    "print(smi)\n",
    "show_mol(smi)"
   ]
  },
  {
   "cell_type": "code",
   "execution_count": 14,
   "metadata": {},
   "outputs": [],
   "source": [
    "def clean_smi(smi):\n",
    "\n",
    "    # Remove [Dy] from smiles\n",
    "    smi = smi.replace(\"[Dy]\", \"\")\n",
    "\n",
    "    # Convert SMILES to a RDKit molecule object\n",
    "    mol = Chem.MolFromSmiles(smi)\n",
    "    if mol is None:\n",
    "        raise ValueError(\"Invalid SMILES string\")\n",
    "    \n",
    "    # Remove any salts or fragments\n",
    "    mol = Chem.RemoveHs(mol)  # Remove explicit hydrogens\n",
    "    fragments = Chem.GetMolFrags(mol, asMols=True)\n",
    "    \n",
    "    # Keep the largest fragment\n",
    "    largest_fragment = max(fragments, default=mol, key=lambda m: m.GetNumAtoms())\n",
    "    \n",
    "    # Standardize the molecule\n",
    "    AllChem.Compute2DCoords(largest_fragment)  # Compute 2D coordinates\n",
    "    \n",
    "    # Convert the molecule back to a canonical SMILES string\n",
    "    cleaned_smiles = Chem.MolToSmiles(largest_fragment, canonical=True)\n",
    "    return cleaned_smiles"
   ]
  },
  {
   "cell_type": "code",
   "execution_count": 15,
   "metadata": {},
   "outputs": [
    {
     "name": "stdout",
     "output_type": "stream",
     "text": [
      "Original: C#CCOc1ccc(CN)cc1.Cl\n",
      "Cleaned:  C#CCOc1ccc(CN)cc1\n"
     ]
    },
    {
     "data": {
      "application/3dmoljs_load.v0": "<div id=\"3dmolviewer_17176179460517187\"  style=\"position: relative; width: 500px; height: 500px;\">\n        <p id=\"3dmolwarning_17176179460517187\" style=\"background-color:#ffcccc;color:black\">3Dmol.js failed to load for some reason.  Please check your browser console for error messages.<br></p>\n        </div>\n<script>\n\nvar loadScriptAsync = function(uri){\n  return new Promise((resolve, reject) => {\n    //this is to ignore the existence of requirejs amd\n    var savedexports, savedmodule;\n    if (typeof exports !== 'undefined') savedexports = exports;\n    else exports = {}\n    if (typeof module !== 'undefined') savedmodule = module;\n    else module = {}\n\n    var tag = document.createElement('script');\n    tag.src = uri;\n    tag.async = true;\n    tag.onload = () => {\n        exports = savedexports;\n        module = savedmodule;\n        resolve();\n    };\n  var firstScriptTag = document.getElementsByTagName('script')[0];\n  firstScriptTag.parentNode.insertBefore(tag, firstScriptTag);\n});\n};\n\nif(typeof $3Dmolpromise === 'undefined') {\n$3Dmolpromise = null;\n  $3Dmolpromise = loadScriptAsync('https://cdnjs.cloudflare.com/ajax/libs/3Dmol/2.1.0/3Dmol-min.js');\n}\n\nvar viewer_17176179460517187 = null;\nvar warn = document.getElementById(\"3dmolwarning_17176179460517187\");\nif(warn) {\n    warn.parentNode.removeChild(warn);\n}\n$3Dmolpromise.then(function() {\nviewer_17176179460517187 = $3Dmol.createViewer(document.getElementById(\"3dmolviewer_17176179460517187\"),{backgroundColor:\"white\"});\nviewer_17176179460517187.zoomTo();\n\tviewer_17176179460517187.addModel(\"\\n     RDKit          3D\\n\\n 23 23  0  0  0  0  0  0  0  0999 V2000\\n    3.8831   -1.8560   -1.5059 C   0  0  0  0  0  0  0  0  0  0  0  0\\n    2.9372   -2.3202   -0.9291 C   0  0  0  0  0  0  0  0  0  0  0  0\\n    1.7799   -2.8869   -0.2221 C   0  0  0  0  0  0  0  0  0  0  0  0\\n    1.4049   -2.0768    0.8942 O   0  0  0  0  0  0  0  0  0  0  0  0\\n    0.5069   -1.0666    0.6871 C   0  0  0  0  0  0  0  0  0  0  0  0\\n   -0.0312   -0.5172    1.8526 C   0  0  0  0  0  0  0  0  0  0  0  0\\n   -0.9588    0.5252    1.7874 C   0  0  0  0  0  0  0  0  0  0  0  0\\n   -1.3597    1.0437    0.5498 C   0  0  0  0  0  0  0  0  0  0  0  0\\n   -2.3620    2.1669    0.4794 C   0  0  0  0  0  0  0  0  0  0  0  0\\n   -1.8384    3.3878    1.0793 N   0  0  0  0  0  0  0  0  0  0  0  0\\n   -0.8057    0.4997   -0.6163 C   0  0  0  0  0  0  0  0  0  0  0  0\\n    0.1229   -0.5466   -0.5484 C   0  0  0  0  0  0  0  0  0  0  0  0\\n    4.7245   -1.4382   -2.0089 H   0  0  0  0  0  0  0  0  0  0  0  0\\n    0.9330   -3.0813   -0.8904 H   0  0  0  0  0  0  0  0  0  0  0  0\\n    2.0647   -3.8625    0.1886 H   0  0  0  0  0  0  0  0  0  0  0  0\\n    0.2740   -0.9026    2.8221 H   0  0  0  0  0  0  0  0  0  0  0  0\\n   -1.3617    0.9430    2.7078 H   0  0  0  0  0  0  0  0  0  0  0  0\\n   -3.2792    1.8637    0.9967 H   0  0  0  0  0  0  0  0  0  0  0  0\\n   -2.6364    2.3678   -0.5626 H   0  0  0  0  0  0  0  0  0  0  0  0\\n   -2.4847    4.1528    0.8994 H   0  0  0  0  0  0  0  0  0  0  0  0\\n   -0.9636    3.6315    0.6168 H   0  0  0  0  0  0  0  0  0  0  0  0\\n   -1.0870    0.8903   -1.5916 H   0  0  0  0  0  0  0  0  0  0  0  0\\n    0.5372   -0.9174   -1.4798 H   0  0  0  0  0  0  0  0  0  0  0  0\\n  1  2  3  0\\n  2  3  1  0\\n  3  4  1  0\\n  4  5  1  0\\n  5  6  2  0\\n  6  7  1  0\\n  7  8  2  0\\n  8  9  1  0\\n  9 10  1  0\\n  8 11  1  0\\n 11 12  2  0\\n 12  5  1  0\\n  1 13  1  0\\n  3 14  1  0\\n  3 15  1  0\\n  6 16  1  0\\n  7 17  1  0\\n  9 18  1  0\\n  9 19  1  0\\n 10 20  1  0\\n 10 21  1  0\\n 11 22  1  0\\n 12 23  1  0\\nM  END\\n\",\"mol\");\n\tviewer_17176179460517187.setStyle({\"stick\": {}});\n\tviewer_17176179460517187.zoomTo();\nviewer_17176179460517187.render();\n});\n</script>",
      "text/html": [
       "<div id=\"3dmolviewer_17176179460517187\"  style=\"position: relative; width: 500px; height: 500px;\">\n",
       "        <p id=\"3dmolwarning_17176179460517187\" style=\"background-color:#ffcccc;color:black\">3Dmol.js failed to load for some reason.  Please check your browser console for error messages.<br></p>\n",
       "        </div>\n",
       "<script>\n",
       "\n",
       "var loadScriptAsync = function(uri){\n",
       "  return new Promise((resolve, reject) => {\n",
       "    //this is to ignore the existence of requirejs amd\n",
       "    var savedexports, savedmodule;\n",
       "    if (typeof exports !== 'undefined') savedexports = exports;\n",
       "    else exports = {}\n",
       "    if (typeof module !== 'undefined') savedmodule = module;\n",
       "    else module = {}\n",
       "\n",
       "    var tag = document.createElement('script');\n",
       "    tag.src = uri;\n",
       "    tag.async = true;\n",
       "    tag.onload = () => {\n",
       "        exports = savedexports;\n",
       "        module = savedmodule;\n",
       "        resolve();\n",
       "    };\n",
       "  var firstScriptTag = document.getElementsByTagName('script')[0];\n",
       "  firstScriptTag.parentNode.insertBefore(tag, firstScriptTag);\n",
       "});\n",
       "};\n",
       "\n",
       "if(typeof $3Dmolpromise === 'undefined') {\n",
       "$3Dmolpromise = null;\n",
       "  $3Dmolpromise = loadScriptAsync('https://cdnjs.cloudflare.com/ajax/libs/3Dmol/2.1.0/3Dmol-min.js');\n",
       "}\n",
       "\n",
       "var viewer_17176179460517187 = null;\n",
       "var warn = document.getElementById(\"3dmolwarning_17176179460517187\");\n",
       "if(warn) {\n",
       "    warn.parentNode.removeChild(warn);\n",
       "}\n",
       "$3Dmolpromise.then(function() {\n",
       "viewer_17176179460517187 = $3Dmol.createViewer(document.getElementById(\"3dmolviewer_17176179460517187\"),{backgroundColor:\"white\"});\n",
       "viewer_17176179460517187.zoomTo();\n",
       "\tviewer_17176179460517187.addModel(\"\\n     RDKit          3D\\n\\n 23 23  0  0  0  0  0  0  0  0999 V2000\\n    3.8831   -1.8560   -1.5059 C   0  0  0  0  0  0  0  0  0  0  0  0\\n    2.9372   -2.3202   -0.9291 C   0  0  0  0  0  0  0  0  0  0  0  0\\n    1.7799   -2.8869   -0.2221 C   0  0  0  0  0  0  0  0  0  0  0  0\\n    1.4049   -2.0768    0.8942 O   0  0  0  0  0  0  0  0  0  0  0  0\\n    0.5069   -1.0666    0.6871 C   0  0  0  0  0  0  0  0  0  0  0  0\\n   -0.0312   -0.5172    1.8526 C   0  0  0  0  0  0  0  0  0  0  0  0\\n   -0.9588    0.5252    1.7874 C   0  0  0  0  0  0  0  0  0  0  0  0\\n   -1.3597    1.0437    0.5498 C   0  0  0  0  0  0  0  0  0  0  0  0\\n   -2.3620    2.1669    0.4794 C   0  0  0  0  0  0  0  0  0  0  0  0\\n   -1.8384    3.3878    1.0793 N   0  0  0  0  0  0  0  0  0  0  0  0\\n   -0.8057    0.4997   -0.6163 C   0  0  0  0  0  0  0  0  0  0  0  0\\n    0.1229   -0.5466   -0.5484 C   0  0  0  0  0  0  0  0  0  0  0  0\\n    4.7245   -1.4382   -2.0089 H   0  0  0  0  0  0  0  0  0  0  0  0\\n    0.9330   -3.0813   -0.8904 H   0  0  0  0  0  0  0  0  0  0  0  0\\n    2.0647   -3.8625    0.1886 H   0  0  0  0  0  0  0  0  0  0  0  0\\n    0.2740   -0.9026    2.8221 H   0  0  0  0  0  0  0  0  0  0  0  0\\n   -1.3617    0.9430    2.7078 H   0  0  0  0  0  0  0  0  0  0  0  0\\n   -3.2792    1.8637    0.9967 H   0  0  0  0  0  0  0  0  0  0  0  0\\n   -2.6364    2.3678   -0.5626 H   0  0  0  0  0  0  0  0  0  0  0  0\\n   -2.4847    4.1528    0.8994 H   0  0  0  0  0  0  0  0  0  0  0  0\\n   -0.9636    3.6315    0.6168 H   0  0  0  0  0  0  0  0  0  0  0  0\\n   -1.0870    0.8903   -1.5916 H   0  0  0  0  0  0  0  0  0  0  0  0\\n    0.5372   -0.9174   -1.4798 H   0  0  0  0  0  0  0  0  0  0  0  0\\n  1  2  3  0\\n  2  3  1  0\\n  3  4  1  0\\n  4  5  1  0\\n  5  6  2  0\\n  6  7  1  0\\n  7  8  2  0\\n  8  9  1  0\\n  9 10  1  0\\n  8 11  1  0\\n 11 12  2  0\\n 12  5  1  0\\n  1 13  1  0\\n  3 14  1  0\\n  3 15  1  0\\n  6 16  1  0\\n  7 17  1  0\\n  9 18  1  0\\n  9 19  1  0\\n 10 20  1  0\\n 10 21  1  0\\n 11 22  1  0\\n 12 23  1  0\\nM  END\\n\",\"mol\");\n",
       "\tviewer_17176179460517187.setStyle({\"stick\": {}});\n",
       "\tviewer_17176179460517187.zoomTo();\n",
       "viewer_17176179460517187.render();\n",
       "});\n",
       "</script>"
      ]
     },
     "metadata": {},
     "output_type": "display_data"
    }
   ],
   "source": [
    "smi = example_row[\"buildingblock2_smiles\"][0].as_py()\n",
    "print(f\"Original: {smi}\")\n",
    "smi = clean_smi(smi)\n",
    "print(f\"Cleaned:  {smi}\")\n",
    "show_mol(smi)"
   ]
  },
  {
   "cell_type": "code",
   "execution_count": 16,
   "metadata": {},
   "outputs": [
    {
     "name": "stdout",
     "output_type": "stream",
     "text": [
      "Original: Br.Br.NCC1CCCN1c1cccnn1\n",
      "Cleaned:  NCC1CCCN1c1cccnn1\n"
     ]
    },
    {
     "data": {
      "application/3dmoljs_load.v0": "<div id=\"3dmolviewer_17176179460742722\"  style=\"position: relative; width: 500px; height: 500px;\">\n        <p id=\"3dmolwarning_17176179460742722\" style=\"background-color:#ffcccc;color:black\">3Dmol.js failed to load for some reason.  Please check your browser console for error messages.<br></p>\n        </div>\n<script>\n\nvar loadScriptAsync = function(uri){\n  return new Promise((resolve, reject) => {\n    //this is to ignore the existence of requirejs amd\n    var savedexports, savedmodule;\n    if (typeof exports !== 'undefined') savedexports = exports;\n    else exports = {}\n    if (typeof module !== 'undefined') savedmodule = module;\n    else module = {}\n\n    var tag = document.createElement('script');\n    tag.src = uri;\n    tag.async = true;\n    tag.onload = () => {\n        exports = savedexports;\n        module = savedmodule;\n        resolve();\n    };\n  var firstScriptTag = document.getElementsByTagName('script')[0];\n  firstScriptTag.parentNode.insertBefore(tag, firstScriptTag);\n});\n};\n\nif(typeof $3Dmolpromise === 'undefined') {\n$3Dmolpromise = null;\n  $3Dmolpromise = loadScriptAsync('https://cdnjs.cloudflare.com/ajax/libs/3Dmol/2.1.0/3Dmol-min.js');\n}\n\nvar viewer_17176179460742722 = null;\nvar warn = document.getElementById(\"3dmolwarning_17176179460742722\");\nif(warn) {\n    warn.parentNode.removeChild(warn);\n}\n$3Dmolpromise.then(function() {\nviewer_17176179460742722 = $3Dmol.createViewer(document.getElementById(\"3dmolviewer_17176179460742722\"),{backgroundColor:\"white\"});\nviewer_17176179460742722.zoomTo();\n\tviewer_17176179460742722.addModel(\"\\n     RDKit          3D\\n\\n 27 28  0  0  0  0  0  0  0  0999 V2000\\n   -2.9396    1.8623   -0.3857 N   0  0  0  0  0  0  0  0  0  0  0  0\\n   -1.6783    1.3806    0.1910 C   0  0  0  0  0  0  0  0  0  0  0  0\\n   -1.0626    0.1590   -0.5371 C   0  0  0  0  0  0  0  0  0  0  0  0\\n   -1.9811   -1.0789   -0.5554 C   0  0  0  0  0  0  0  0  0  0  0  0\\n   -1.5667   -1.8599    0.6806 C   0  0  0  0  0  0  0  0  0  0  0  0\\n   -0.0549   -1.6731    0.6973 C   0  0  0  0  0  0  0  0  0  0  0  0\\n    0.1270   -0.3151    0.2023 N   0  0  0  0  0  0  0  0  0  0  0  0\\n    1.3698    0.1910   -0.1304 C   0  0  0  0  0  0  0  0  0  0  0  0\\n    2.5446   -0.3305    0.4036 C   0  0  0  0  0  0  0  0  0  0  0  0\\n    3.7811    0.2178    0.0650 C   0  0  0  0  0  0  0  0  0  0  0  0\\n    3.8051    1.2869   -0.8004 C   0  0  0  0  0  0  0  0  0  0  0  0\\n    2.6792    1.8041   -1.3114 N   0  0  0  0  0  0  0  0  0  0  0  0\\n    1.4642    1.2517   -0.9641 N   0  0  0  0  0  0  0  0  0  0  0  0\\n   -3.6918    1.2174   -0.1512 H   0  0  0  0  0  0  0  0  0  0  0  0\\n   -3.1818    2.7473    0.0592 H   0  0  0  0  0  0  0  0  0  0  0  0\\n   -0.9586    2.2071    0.1671 H   0  0  0  0  0  0  0  0  0  0  0  0\\n   -1.8439    1.1486    1.2501 H   0  0  0  0  0  0  0  0  0  0  0  0\\n   -0.8333    0.4271   -1.5768 H   0  0  0  0  0  0  0  0  0  0  0  0\\n   -1.7620   -1.6784   -1.4486 H   0  0  0  0  0  0  0  0  0  0  0  0\\n   -3.0496   -0.8522   -0.5673 H   0  0  0  0  0  0  0  0  0  0  0  0\\n   -2.0168   -1.4167    1.5768 H   0  0  0  0  0  0  0  0  0  0  0  0\\n   -1.8568   -2.9132    0.6343 H   0  0  0  0  0  0  0  0  0  0  0  0\\n    0.3390   -1.8027    1.7105 H   0  0  0  0  0  0  0  0  0  0  0  0\\n    0.4214   -2.3988    0.0269 H   0  0  0  0  0  0  0  0  0  0  0  0\\n    2.5198   -1.1618    1.0982 H   0  0  0  0  0  0  0  0  0  0  0  0\\n    4.6995   -0.1838    0.4767 H   0  0  0  0  0  0  0  0  0  0  0  0\\n    4.7270    1.7643   -1.1080 H   0  0  0  0  0  0  0  0  0  0  0  0\\n  1  2  1  0\\n  2  3  1  0\\n  3  4  1  0\\n  4  5  1  0\\n  5  6  1  0\\n  6  7  1  0\\n  7  8  1  0\\n  8  9  2  0\\n  9 10  1  0\\n 10 11  2  0\\n 11 12  1  0\\n 12 13  2  0\\n  7  3  1  0\\n 13  8  1  0\\n  1 14  1  0\\n  1 15  1  0\\n  2 16  1  0\\n  2 17  1  0\\n  3 18  1  0\\n  4 19  1  0\\n  4 20  1  0\\n  5 21  1  0\\n  5 22  1  0\\n  6 23  1  0\\n  6 24  1  0\\n  9 25  1  0\\n 10 26  1  0\\n 11 27  1  0\\nM  END\\n\",\"mol\");\n\tviewer_17176179460742722.setStyle({\"stick\": {}});\n\tviewer_17176179460742722.zoomTo();\nviewer_17176179460742722.render();\n});\n</script>",
      "text/html": [
       "<div id=\"3dmolviewer_17176179460742722\"  style=\"position: relative; width: 500px; height: 500px;\">\n",
       "        <p id=\"3dmolwarning_17176179460742722\" style=\"background-color:#ffcccc;color:black\">3Dmol.js failed to load for some reason.  Please check your browser console for error messages.<br></p>\n",
       "        </div>\n",
       "<script>\n",
       "\n",
       "var loadScriptAsync = function(uri){\n",
       "  return new Promise((resolve, reject) => {\n",
       "    //this is to ignore the existence of requirejs amd\n",
       "    var savedexports, savedmodule;\n",
       "    if (typeof exports !== 'undefined') savedexports = exports;\n",
       "    else exports = {}\n",
       "    if (typeof module !== 'undefined') savedmodule = module;\n",
       "    else module = {}\n",
       "\n",
       "    var tag = document.createElement('script');\n",
       "    tag.src = uri;\n",
       "    tag.async = true;\n",
       "    tag.onload = () => {\n",
       "        exports = savedexports;\n",
       "        module = savedmodule;\n",
       "        resolve();\n",
       "    };\n",
       "  var firstScriptTag = document.getElementsByTagName('script')[0];\n",
       "  firstScriptTag.parentNode.insertBefore(tag, firstScriptTag);\n",
       "});\n",
       "};\n",
       "\n",
       "if(typeof $3Dmolpromise === 'undefined') {\n",
       "$3Dmolpromise = null;\n",
       "  $3Dmolpromise = loadScriptAsync('https://cdnjs.cloudflare.com/ajax/libs/3Dmol/2.1.0/3Dmol-min.js');\n",
       "}\n",
       "\n",
       "var viewer_17176179460742722 = null;\n",
       "var warn = document.getElementById(\"3dmolwarning_17176179460742722\");\n",
       "if(warn) {\n",
       "    warn.parentNode.removeChild(warn);\n",
       "}\n",
       "$3Dmolpromise.then(function() {\n",
       "viewer_17176179460742722 = $3Dmol.createViewer(document.getElementById(\"3dmolviewer_17176179460742722\"),{backgroundColor:\"white\"});\n",
       "viewer_17176179460742722.zoomTo();\n",
       "\tviewer_17176179460742722.addModel(\"\\n     RDKit          3D\\n\\n 27 28  0  0  0  0  0  0  0  0999 V2000\\n   -2.9396    1.8623   -0.3857 N   0  0  0  0  0  0  0  0  0  0  0  0\\n   -1.6783    1.3806    0.1910 C   0  0  0  0  0  0  0  0  0  0  0  0\\n   -1.0626    0.1590   -0.5371 C   0  0  0  0  0  0  0  0  0  0  0  0\\n   -1.9811   -1.0789   -0.5554 C   0  0  0  0  0  0  0  0  0  0  0  0\\n   -1.5667   -1.8599    0.6806 C   0  0  0  0  0  0  0  0  0  0  0  0\\n   -0.0549   -1.6731    0.6973 C   0  0  0  0  0  0  0  0  0  0  0  0\\n    0.1270   -0.3151    0.2023 N   0  0  0  0  0  0  0  0  0  0  0  0\\n    1.3698    0.1910   -0.1304 C   0  0  0  0  0  0  0  0  0  0  0  0\\n    2.5446   -0.3305    0.4036 C   0  0  0  0  0  0  0  0  0  0  0  0\\n    3.7811    0.2178    0.0650 C   0  0  0  0  0  0  0  0  0  0  0  0\\n    3.8051    1.2869   -0.8004 C   0  0  0  0  0  0  0  0  0  0  0  0\\n    2.6792    1.8041   -1.3114 N   0  0  0  0  0  0  0  0  0  0  0  0\\n    1.4642    1.2517   -0.9641 N   0  0  0  0  0  0  0  0  0  0  0  0\\n   -3.6918    1.2174   -0.1512 H   0  0  0  0  0  0  0  0  0  0  0  0\\n   -3.1818    2.7473    0.0592 H   0  0  0  0  0  0  0  0  0  0  0  0\\n   -0.9586    2.2071    0.1671 H   0  0  0  0  0  0  0  0  0  0  0  0\\n   -1.8439    1.1486    1.2501 H   0  0  0  0  0  0  0  0  0  0  0  0\\n   -0.8333    0.4271   -1.5768 H   0  0  0  0  0  0  0  0  0  0  0  0\\n   -1.7620   -1.6784   -1.4486 H   0  0  0  0  0  0  0  0  0  0  0  0\\n   -3.0496   -0.8522   -0.5673 H   0  0  0  0  0  0  0  0  0  0  0  0\\n   -2.0168   -1.4167    1.5768 H   0  0  0  0  0  0  0  0  0  0  0  0\\n   -1.8568   -2.9132    0.6343 H   0  0  0  0  0  0  0  0  0  0  0  0\\n    0.3390   -1.8027    1.7105 H   0  0  0  0  0  0  0  0  0  0  0  0\\n    0.4214   -2.3988    0.0269 H   0  0  0  0  0  0  0  0  0  0  0  0\\n    2.5198   -1.1618    1.0982 H   0  0  0  0  0  0  0  0  0  0  0  0\\n    4.6995   -0.1838    0.4767 H   0  0  0  0  0  0  0  0  0  0  0  0\\n    4.7270    1.7643   -1.1080 H   0  0  0  0  0  0  0  0  0  0  0  0\\n  1  2  1  0\\n  2  3  1  0\\n  3  4  1  0\\n  4  5  1  0\\n  5  6  1  0\\n  6  7  1  0\\n  7  8  1  0\\n  8  9  2  0\\n  9 10  1  0\\n 10 11  2  0\\n 11 12  1  0\\n 12 13  2  0\\n  7  3  1  0\\n 13  8  1  0\\n  1 14  1  0\\n  1 15  1  0\\n  2 16  1  0\\n  2 17  1  0\\n  3 18  1  0\\n  4 19  1  0\\n  4 20  1  0\\n  5 21  1  0\\n  5 22  1  0\\n  6 23  1  0\\n  6 24  1  0\\n  9 25  1  0\\n 10 26  1  0\\n 11 27  1  0\\nM  END\\n\",\"mol\");\n",
       "\tviewer_17176179460742722.setStyle({\"stick\": {}});\n",
       "\tviewer_17176179460742722.zoomTo();\n",
       "viewer_17176179460742722.render();\n",
       "});\n",
       "</script>"
      ]
     },
     "metadata": {},
     "output_type": "display_data"
    }
   ],
   "source": [
    "smi = example_row[\"buildingblock3_smiles\"][0].as_py()\n",
    "print(f\"Original: {smi}\")\n",
    "smi = clean_smi(smi)\n",
    "print(f\"Cleaned:  {smi}\")\n",
    "show_mol(smi)"
   ]
  },
  {
   "cell_type": "code",
   "execution_count": 17,
   "metadata": {},
   "outputs": [
    {
     "name": "stdout",
     "output_type": "stream",
     "text": [
      "Original: C#CCOc1ccc(CNc2nc(NCC3CCCN3c3cccnn3)nc(N[C@@H](CC#C)CC(=O)N[Dy])n2)cc1\n",
      "Cleaned:  C#CCOc1ccc(CNc2nc(NCC3CCCN3c3cccnn3)nc(N[C@@H](CC#C)CC(N)=O)n2)cc1\n"
     ]
    },
    {
     "data": {
      "application/3dmoljs_load.v0": "<div id=\"3dmolviewer_17176179462511168\"  style=\"position: relative; width: 500px; height: 500px;\">\n        <p id=\"3dmolwarning_17176179462511168\" style=\"background-color:#ffcccc;color:black\">3Dmol.js failed to load for some reason.  Please check your browser console for error messages.<br></p>\n        </div>\n<script>\n\nvar loadScriptAsync = function(uri){\n  return new Promise((resolve, reject) => {\n    //this is to ignore the existence of requirejs amd\n    var savedexports, savedmodule;\n    if (typeof exports !== 'undefined') savedexports = exports;\n    else exports = {}\n    if (typeof module !== 'undefined') savedmodule = module;\n    else module = {}\n\n    var tag = document.createElement('script');\n    tag.src = uri;\n    tag.async = true;\n    tag.onload = () => {\n        exports = savedexports;\n        module = savedmodule;\n        resolve();\n    };\n  var firstScriptTag = document.getElementsByTagName('script')[0];\n  firstScriptTag.parentNode.insertBefore(tag, firstScriptTag);\n});\n};\n\nif(typeof $3Dmolpromise === 'undefined') {\n$3Dmolpromise = null;\n  $3Dmolpromise = loadScriptAsync('https://cdnjs.cloudflare.com/ajax/libs/3Dmol/2.1.0/3Dmol-min.js');\n}\n\nvar viewer_17176179462511168 = null;\nvar warn = document.getElementById(\"3dmolwarning_17176179462511168\");\nif(warn) {\n    warn.parentNode.removeChild(warn);\n}\n$3Dmolpromise.then(function() {\nviewer_17176179462511168 = $3Dmol.createViewer(document.getElementById(\"3dmolviewer_17176179462511168\"),{backgroundColor:\"white\"});\nviewer_17176179462511168.zoomTo();\n\tviewer_17176179462511168.addModel(\"\\n     RDKit          3D\\n\\n 72 75  0  0  0  0  0  0  0  0999 V2000\\n    9.4093   -4.9182   -1.6447 C   0  0  0  0  0  0  0  0  0  0  0  0\\n    8.2624   -4.8593   -1.2863 C   0  0  0  0  0  0  0  0  0  0  0  0\\n    6.8752   -4.7330   -0.8167 C   0  0  0  0  0  0  0  0  0  0  0  0\\n    6.7781   -3.5783    0.0250 O   0  0  0  0  0  0  0  0  0  0  0  0\\n    5.5067   -3.0930    0.1095 C   0  0  0  0  0  0  0  0  0  0  0  0\\n    4.8943   -3.0862    1.3609 C   0  0  0  0  0  0  0  0  0  0  0  0\\n    3.6030   -2.5720    1.4993 C   0  0  0  0  0  0  0  0  0  0  0  0\\n    2.9258   -2.0480    0.3873 C   0  0  0  0  0  0  0  0  0  0  0  0\\n    1.5244   -1.4982    0.5383 C   0  0  0  0  0  0  0  0  0  0  0  0\\n    1.5929   -0.2266    1.2290 N   0  0  0  0  0  0  0  0  0  0  0  0\\n    0.4034    0.4939    1.2073 C   0  0  0  0  0  0  0  0  0  0  0  0\\n   -0.7592   -0.1385    1.2689 N   0  0  0  0  0  0  0  0  0  0  0  0\\n   -1.8323    0.6335    1.2419 C   0  0  0  0  0  0  0  0  0  0  0  0\\n   -3.0542   -0.0229    1.3499 N   0  0  0  0  0  0  0  0  0  0  0  0\\n   -4.1049    0.4257    0.4338 C   0  0  0  0  0  0  0  0  0  0  0  0\\n   -3.8944   -0.1343   -0.9911 C   0  0  0  0  0  0  0  0  0  0  0  0\\n   -4.9033    0.3682   -2.0209 C   0  0  0  0  0  0  0  0  0  0  0  0\\n   -4.6036   -0.5434   -3.1985 C   0  0  0  0  0  0  0  0  0  0  0  0\\n   -4.3557   -1.9064   -2.5471 C   0  0  0  0  0  0  0  0  0  0  0  0\\n   -3.8779   -1.6281   -1.1608 N   0  0  0  0  0  0  0  0  0  0  0  0\\n   -4.7332   -2.3327   -0.2751 C   0  0  0  0  0  0  0  0  0  0  0  0\\n   -4.1935   -3.4003    0.4314 C   0  0  0  0  0  0  0  0  0  0  0  0\\n   -5.0042   -4.1370    1.2884 C   0  0  0  0  0  0  0  0  0  0  0  0\\n   -6.3329   -3.7777    1.3847 C   0  0  0  0  0  0  0  0  0  0  0  0\\n   -6.8526   -2.7473    0.6915 N   0  0  0  0  0  0  0  0  0  0  0  0\\n   -6.0457   -2.0256   -0.1478 N   0  0  0  0  0  0  0  0  0  0  0  0\\n   -1.7981    1.9558    1.1359 N   0  0  0  0  0  0  0  0  0  0  0  0\\n   -0.5937    2.4994    1.1174 C   0  0  0  0  0  0  0  0  0  0  0  0\\n   -0.5668    3.8842    1.0987 N   0  0  0  0  0  0  0  0  0  0  0  0\\n    0.5547    4.5443    0.4200 C   0  0  1  0  0  0  0  0  0  0  0  0\\n    0.0657    5.8451   -0.2709 C   0  0  0  0  0  0  0  0  0  0  0  0\\n   -0.4596    6.8549    0.6725 C   0  0  0  0  0  0  0  0  0  0  0  0\\n   -0.8790    7.6738    1.4458 C   0  0  0  0  0  0  0  0  0  0  0  0\\n    1.6938    4.7975    1.4215 C   0  0  0  0  0  0  0  0  0  0  0  0\\n    2.9597    5.1542    0.6915 C   0  0  0  0  0  0  0  0  0  0  0  0\\n    3.6469    4.1034    0.1583 N   0  0  0  0  0  0  0  0  0  0  0  0\\n    3.3468    6.3063    0.5277 O   0  0  0  0  0  0  0  0  0  0  0  0\\n    0.5387    1.8097    1.1155 N   0  0  0  0  0  0  0  0  0  0  0  0\\n    3.5733   -2.0159   -0.8574 C   0  0  0  0  0  0  0  0  0  0  0  0\\n    4.8644   -2.5292   -0.9941 C   0  0  0  0  0  0  0  0  0  0  0  0\\n   10.4326   -4.9480   -1.9468 H   0  0  0  0  0  0  0  0  0  0  0  0\\n    6.2090   -4.6841   -1.6844 H   0  0  0  0  0  0  0  0  0  0  0  0\\n    6.5968   -5.6203   -0.2269 H   0  0  0  0  0  0  0  0  0  0  0  0\\n    5.4185   -3.4813    2.2289 H   0  0  0  0  0  0  0  0  0  0  0  0\\n    3.1302   -2.5684    2.4776 H   0  0  0  0  0  0  0  0  0  0  0  0\\n    0.9204   -2.2225    1.1048 H   0  0  0  0  0  0  0  0  0  0  0  0\\n    1.0690   -1.3931   -0.4587 H   0  0  0  0  0  0  0  0  0  0  0  0\\n    2.3316    0.3909    0.9114 H   0  0  0  0  0  0  0  0  0  0  0  0\\n   -2.8528   -1.0150    1.2530 H   0  0  0  0  0  0  0  0  0  0  0  0\\n   -5.0684    0.1067    0.8467 H   0  0  0  0  0  0  0  0  0  0  0  0\\n   -4.1602    1.5229    0.3995 H   0  0  0  0  0  0  0  0  0  0  0  0\\n   -2.9014    0.2016   -1.3240 H   0  0  0  0  0  0  0  0  0  0  0  0\\n   -4.7550    1.4219   -2.2729 H   0  0  0  0  0  0  0  0  0  0  0  0\\n   -5.9355    0.2384   -1.6766 H   0  0  0  0  0  0  0  0  0  0  0  0\\n   -3.6945   -0.2096   -3.7193 H   0  0  0  0  0  0  0  0  0  0  0  0\\n   -5.4198   -0.5710   -3.9299 H   0  0  0  0  0  0  0  0  0  0  0  0\\n   -3.5872   -2.4654   -3.0974 H   0  0  0  0  0  0  0  0  0  0  0  0\\n   -5.2787   -2.5028   -2.5836 H   0  0  0  0  0  0  0  0  0  0  0  0\\n   -3.1409   -3.6482    0.3212 H   0  0  0  0  0  0  0  0  0  0  0  0\\n   -4.6052   -4.9698    1.8588 H   0  0  0  0  0  0  0  0  0  0  0  0\\n   -7.0263   -4.3006    2.0318 H   0  0  0  0  0  0  0  0  0  0  0  0\\n   -1.4964    4.2074    0.8568 H   0  0  0  0  0  0  0  0  0  0  0  0\\n    0.9094    3.9031   -0.3969 H   0  0  0  0  0  0  0  0  0  0  0  0\\n   -0.7385    5.5941   -0.9793 H   0  0  0  0  0  0  0  0  0  0  0  0\\n    0.8789    6.2803   -0.8651 H   0  0  0  0  0  0  0  0  0  0  0  0\\n   -1.2424    8.4013    2.1390 H   0  0  0  0  0  0  0  0  0  0  0  0\\n    1.8939    3.9167    2.0410 H   0  0  0  0  0  0  0  0  0  0  0  0\\n    1.4584    5.6056    2.1245 H   0  0  0  0  0  0  0  0  0  0  0  0\\n    3.4919    3.1545    0.4752 H   0  0  0  0  0  0  0  0  0  0  0  0\\n    4.5446    4.3189   -0.2635 H   0  0  0  0  0  0  0  0  0  0  0  0\\n    3.0783   -1.5900   -1.7284 H   0  0  0  0  0  0  0  0  0  0  0  0\\n    5.3650   -2.4719   -1.9574 H   0  0  0  0  0  0  0  0  0  0  0  0\\n  1  2  3  0\\n  2  3  1  0\\n  3  4  1  0\\n  4  5  1  0\\n  5  6  2  0\\n  6  7  1  0\\n  7  8  2  0\\n  8  9  1  0\\n  9 10  1  0\\n 10 11  1  0\\n 11 12  2  0\\n 12 13  1  0\\n 13 14  1  0\\n 14 15  1  0\\n 15 16  1  0\\n 16 17  1  0\\n 17 18  1  0\\n 18 19  1  0\\n 19 20  1  0\\n 20 21  1  0\\n 21 22  2  0\\n 22 23  1  0\\n 23 24  2  0\\n 24 25  1  0\\n 25 26  2  0\\n 13 27  2  0\\n 27 28  1  0\\n 28 29  1  0\\n 29 30  1  0\\n 30 31  1  0\\n 31 32  1  0\\n 32 33  3  0\\n 30 34  1  0\\n 34 35  1  0\\n 35 36  1  0\\n 35 37  2  0\\n 28 38  2  0\\n  8 39  1  0\\n 39 40  2  0\\n 40  5  1  0\\n 38 11  1  0\\n 20 16  1  0\\n 26 21  1  0\\n  1 41  1  0\\n  3 42  1  0\\n  3 43  1  0\\n  6 44  1  0\\n  7 45  1  0\\n  9 46  1  0\\n  9 47  1  0\\n 10 48  1  0\\n 14 49  1  0\\n 15 50  1  0\\n 15 51  1  0\\n 16 52  1  0\\n 17 53  1  0\\n 17 54  1  0\\n 18 55  1  0\\n 18 56  1  0\\n 19 57  1  0\\n 19 58  1  0\\n 22 59  1  0\\n 23 60  1  0\\n 24 61  1  0\\n 29 62  1  0\\n 30 63  1  6\\n 31 64  1  0\\n 31 65  1  0\\n 33 66  1  0\\n 34 67  1  0\\n 34 68  1  0\\n 36 69  1  0\\n 36 70  1  0\\n 39 71  1  0\\n 40 72  1  0\\nM  END\\n\",\"mol\");\n\tviewer_17176179462511168.setStyle({\"stick\": {}});\n\tviewer_17176179462511168.zoomTo();\nviewer_17176179462511168.render();\n});\n</script>",
      "text/html": [
       "<div id=\"3dmolviewer_17176179462511168\"  style=\"position: relative; width: 500px; height: 500px;\">\n",
       "        <p id=\"3dmolwarning_17176179462511168\" style=\"background-color:#ffcccc;color:black\">3Dmol.js failed to load for some reason.  Please check your browser console for error messages.<br></p>\n",
       "        </div>\n",
       "<script>\n",
       "\n",
       "var loadScriptAsync = function(uri){\n",
       "  return new Promise((resolve, reject) => {\n",
       "    //this is to ignore the existence of requirejs amd\n",
       "    var savedexports, savedmodule;\n",
       "    if (typeof exports !== 'undefined') savedexports = exports;\n",
       "    else exports = {}\n",
       "    if (typeof module !== 'undefined') savedmodule = module;\n",
       "    else module = {}\n",
       "\n",
       "    var tag = document.createElement('script');\n",
       "    tag.src = uri;\n",
       "    tag.async = true;\n",
       "    tag.onload = () => {\n",
       "        exports = savedexports;\n",
       "        module = savedmodule;\n",
       "        resolve();\n",
       "    };\n",
       "  var firstScriptTag = document.getElementsByTagName('script')[0];\n",
       "  firstScriptTag.parentNode.insertBefore(tag, firstScriptTag);\n",
       "});\n",
       "};\n",
       "\n",
       "if(typeof $3Dmolpromise === 'undefined') {\n",
       "$3Dmolpromise = null;\n",
       "  $3Dmolpromise = loadScriptAsync('https://cdnjs.cloudflare.com/ajax/libs/3Dmol/2.1.0/3Dmol-min.js');\n",
       "}\n",
       "\n",
       "var viewer_17176179462511168 = null;\n",
       "var warn = document.getElementById(\"3dmolwarning_17176179462511168\");\n",
       "if(warn) {\n",
       "    warn.parentNode.removeChild(warn);\n",
       "}\n",
       "$3Dmolpromise.then(function() {\n",
       "viewer_17176179462511168 = $3Dmol.createViewer(document.getElementById(\"3dmolviewer_17176179462511168\"),{backgroundColor:\"white\"});\n",
       "viewer_17176179462511168.zoomTo();\n",
       "\tviewer_17176179462511168.addModel(\"\\n     RDKit          3D\\n\\n 72 75  0  0  0  0  0  0  0  0999 V2000\\n    9.4093   -4.9182   -1.6447 C   0  0  0  0  0  0  0  0  0  0  0  0\\n    8.2624   -4.8593   -1.2863 C   0  0  0  0  0  0  0  0  0  0  0  0\\n    6.8752   -4.7330   -0.8167 C   0  0  0  0  0  0  0  0  0  0  0  0\\n    6.7781   -3.5783    0.0250 O   0  0  0  0  0  0  0  0  0  0  0  0\\n    5.5067   -3.0930    0.1095 C   0  0  0  0  0  0  0  0  0  0  0  0\\n    4.8943   -3.0862    1.3609 C   0  0  0  0  0  0  0  0  0  0  0  0\\n    3.6030   -2.5720    1.4993 C   0  0  0  0  0  0  0  0  0  0  0  0\\n    2.9258   -2.0480    0.3873 C   0  0  0  0  0  0  0  0  0  0  0  0\\n    1.5244   -1.4982    0.5383 C   0  0  0  0  0  0  0  0  0  0  0  0\\n    1.5929   -0.2266    1.2290 N   0  0  0  0  0  0  0  0  0  0  0  0\\n    0.4034    0.4939    1.2073 C   0  0  0  0  0  0  0  0  0  0  0  0\\n   -0.7592   -0.1385    1.2689 N   0  0  0  0  0  0  0  0  0  0  0  0\\n   -1.8323    0.6335    1.2419 C   0  0  0  0  0  0  0  0  0  0  0  0\\n   -3.0542   -0.0229    1.3499 N   0  0  0  0  0  0  0  0  0  0  0  0\\n   -4.1049    0.4257    0.4338 C   0  0  0  0  0  0  0  0  0  0  0  0\\n   -3.8944   -0.1343   -0.9911 C   0  0  0  0  0  0  0  0  0  0  0  0\\n   -4.9033    0.3682   -2.0209 C   0  0  0  0  0  0  0  0  0  0  0  0\\n   -4.6036   -0.5434   -3.1985 C   0  0  0  0  0  0  0  0  0  0  0  0\\n   -4.3557   -1.9064   -2.5471 C   0  0  0  0  0  0  0  0  0  0  0  0\\n   -3.8779   -1.6281   -1.1608 N   0  0  0  0  0  0  0  0  0  0  0  0\\n   -4.7332   -2.3327   -0.2751 C   0  0  0  0  0  0  0  0  0  0  0  0\\n   -4.1935   -3.4003    0.4314 C   0  0  0  0  0  0  0  0  0  0  0  0\\n   -5.0042   -4.1370    1.2884 C   0  0  0  0  0  0  0  0  0  0  0  0\\n   -6.3329   -3.7777    1.3847 C   0  0  0  0  0  0  0  0  0  0  0  0\\n   -6.8526   -2.7473    0.6915 N   0  0  0  0  0  0  0  0  0  0  0  0\\n   -6.0457   -2.0256   -0.1478 N   0  0  0  0  0  0  0  0  0  0  0  0\\n   -1.7981    1.9558    1.1359 N   0  0  0  0  0  0  0  0  0  0  0  0\\n   -0.5937    2.4994    1.1174 C   0  0  0  0  0  0  0  0  0  0  0  0\\n   -0.5668    3.8842    1.0987 N   0  0  0  0  0  0  0  0  0  0  0  0\\n    0.5547    4.5443    0.4200 C   0  0  1  0  0  0  0  0  0  0  0  0\\n    0.0657    5.8451   -0.2709 C   0  0  0  0  0  0  0  0  0  0  0  0\\n   -0.4596    6.8549    0.6725 C   0  0  0  0  0  0  0  0  0  0  0  0\\n   -0.8790    7.6738    1.4458 C   0  0  0  0  0  0  0  0  0  0  0  0\\n    1.6938    4.7975    1.4215 C   0  0  0  0  0  0  0  0  0  0  0  0\\n    2.9597    5.1542    0.6915 C   0  0  0  0  0  0  0  0  0  0  0  0\\n    3.6469    4.1034    0.1583 N   0  0  0  0  0  0  0  0  0  0  0  0\\n    3.3468    6.3063    0.5277 O   0  0  0  0  0  0  0  0  0  0  0  0\\n    0.5387    1.8097    1.1155 N   0  0  0  0  0  0  0  0  0  0  0  0\\n    3.5733   -2.0159   -0.8574 C   0  0  0  0  0  0  0  0  0  0  0  0\\n    4.8644   -2.5292   -0.9941 C   0  0  0  0  0  0  0  0  0  0  0  0\\n   10.4326   -4.9480   -1.9468 H   0  0  0  0  0  0  0  0  0  0  0  0\\n    6.2090   -4.6841   -1.6844 H   0  0  0  0  0  0  0  0  0  0  0  0\\n    6.5968   -5.6203   -0.2269 H   0  0  0  0  0  0  0  0  0  0  0  0\\n    5.4185   -3.4813    2.2289 H   0  0  0  0  0  0  0  0  0  0  0  0\\n    3.1302   -2.5684    2.4776 H   0  0  0  0  0  0  0  0  0  0  0  0\\n    0.9204   -2.2225    1.1048 H   0  0  0  0  0  0  0  0  0  0  0  0\\n    1.0690   -1.3931   -0.4587 H   0  0  0  0  0  0  0  0  0  0  0  0\\n    2.3316    0.3909    0.9114 H   0  0  0  0  0  0  0  0  0  0  0  0\\n   -2.8528   -1.0150    1.2530 H   0  0  0  0  0  0  0  0  0  0  0  0\\n   -5.0684    0.1067    0.8467 H   0  0  0  0  0  0  0  0  0  0  0  0\\n   -4.1602    1.5229    0.3995 H   0  0  0  0  0  0  0  0  0  0  0  0\\n   -2.9014    0.2016   -1.3240 H   0  0  0  0  0  0  0  0  0  0  0  0\\n   -4.7550    1.4219   -2.2729 H   0  0  0  0  0  0  0  0  0  0  0  0\\n   -5.9355    0.2384   -1.6766 H   0  0  0  0  0  0  0  0  0  0  0  0\\n   -3.6945   -0.2096   -3.7193 H   0  0  0  0  0  0  0  0  0  0  0  0\\n   -5.4198   -0.5710   -3.9299 H   0  0  0  0  0  0  0  0  0  0  0  0\\n   -3.5872   -2.4654   -3.0974 H   0  0  0  0  0  0  0  0  0  0  0  0\\n   -5.2787   -2.5028   -2.5836 H   0  0  0  0  0  0  0  0  0  0  0  0\\n   -3.1409   -3.6482    0.3212 H   0  0  0  0  0  0  0  0  0  0  0  0\\n   -4.6052   -4.9698    1.8588 H   0  0  0  0  0  0  0  0  0  0  0  0\\n   -7.0263   -4.3006    2.0318 H   0  0  0  0  0  0  0  0  0  0  0  0\\n   -1.4964    4.2074    0.8568 H   0  0  0  0  0  0  0  0  0  0  0  0\\n    0.9094    3.9031   -0.3969 H   0  0  0  0  0  0  0  0  0  0  0  0\\n   -0.7385    5.5941   -0.9793 H   0  0  0  0  0  0  0  0  0  0  0  0\\n    0.8789    6.2803   -0.8651 H   0  0  0  0  0  0  0  0  0  0  0  0\\n   -1.2424    8.4013    2.1390 H   0  0  0  0  0  0  0  0  0  0  0  0\\n    1.8939    3.9167    2.0410 H   0  0  0  0  0  0  0  0  0  0  0  0\\n    1.4584    5.6056    2.1245 H   0  0  0  0  0  0  0  0  0  0  0  0\\n    3.4919    3.1545    0.4752 H   0  0  0  0  0  0  0  0  0  0  0  0\\n    4.5446    4.3189   -0.2635 H   0  0  0  0  0  0  0  0  0  0  0  0\\n    3.0783   -1.5900   -1.7284 H   0  0  0  0  0  0  0  0  0  0  0  0\\n    5.3650   -2.4719   -1.9574 H   0  0  0  0  0  0  0  0  0  0  0  0\\n  1  2  3  0\\n  2  3  1  0\\n  3  4  1  0\\n  4  5  1  0\\n  5  6  2  0\\n  6  7  1  0\\n  7  8  2  0\\n  8  9  1  0\\n  9 10  1  0\\n 10 11  1  0\\n 11 12  2  0\\n 12 13  1  0\\n 13 14  1  0\\n 14 15  1  0\\n 15 16  1  0\\n 16 17  1  0\\n 17 18  1  0\\n 18 19  1  0\\n 19 20  1  0\\n 20 21  1  0\\n 21 22  2  0\\n 22 23  1  0\\n 23 24  2  0\\n 24 25  1  0\\n 25 26  2  0\\n 13 27  2  0\\n 27 28  1  0\\n 28 29  1  0\\n 29 30  1  0\\n 30 31  1  0\\n 31 32  1  0\\n 32 33  3  0\\n 30 34  1  0\\n 34 35  1  0\\n 35 36  1  0\\n 35 37  2  0\\n 28 38  2  0\\n  8 39  1  0\\n 39 40  2  0\\n 40  5  1  0\\n 38 11  1  0\\n 20 16  1  0\\n 26 21  1  0\\n  1 41  1  0\\n  3 42  1  0\\n  3 43  1  0\\n  6 44  1  0\\n  7 45  1  0\\n  9 46  1  0\\n  9 47  1  0\\n 10 48  1  0\\n 14 49  1  0\\n 15 50  1  0\\n 15 51  1  0\\n 16 52  1  0\\n 17 53  1  0\\n 17 54  1  0\\n 18 55  1  0\\n 18 56  1  0\\n 19 57  1  0\\n 19 58  1  0\\n 22 59  1  0\\n 23 60  1  0\\n 24 61  1  0\\n 29 62  1  0\\n 30 63  1  6\\n 31 64  1  0\\n 31 65  1  0\\n 33 66  1  0\\n 34 67  1  0\\n 34 68  1  0\\n 36 69  1  0\\n 36 70  1  0\\n 39 71  1  0\\n 40 72  1  0\\nM  END\\n\",\"mol\");\n",
       "\tviewer_17176179462511168.setStyle({\"stick\": {}});\n",
       "\tviewer_17176179462511168.zoomTo();\n",
       "viewer_17176179462511168.render();\n",
       "});\n",
       "</script>"
      ]
     },
     "metadata": {},
     "output_type": "display_data"
    }
   ],
   "source": [
    "smi = example_row[\"molecule_smiles\"][0].as_py()\n",
    "print(f\"Original: {smi}\")\n",
    "smi = clean_smi(smi)\n",
    "print(f\"Cleaned:  {smi}\")\n",
    "show_mol(smi)"
   ]
  },
  {
   "cell_type": "markdown",
   "metadata": {},
   "source": [
    "### Querying data\n",
    "\n"
   ]
  },
  {
   "cell_type": "code",
   "execution_count": 18,
   "metadata": {},
   "outputs": [],
   "source": [
    "import pyarrow.compute as pc"
   ]
  },
  {
   "cell_type": "markdown",
   "metadata": {},
   "source": [
    "[`Scanner`](https://arrow.apache.org/docs/python/generated/pyarrow.dataset.FileSystemDataset.html#pyarrow.dataset.FileSystemDataset.scanner)"
   ]
  },
  {
   "cell_type": "code",
   "execution_count": 19,
   "metadata": {},
   "outputs": [],
   "source": [
    "condition = (pc.field(\"binds\") == 1)\n",
    "query = data_train.scanner(filter=condition)"
   ]
  },
  {
   "cell_type": "code",
   "execution_count": 20,
   "metadata": {},
   "outputs": [
    {
     "name": "stdout",
     "output_type": "stream",
     "text": [
      "pyarrow.Table\n",
      "id: int64\n",
      "buildingblock1_smiles: string\n",
      "buildingblock2_smiles: string\n",
      "buildingblock3_smiles: string\n",
      "molecule_smiles: string\n",
      "protein_name: string\n",
      "binds: int64\n",
      "----\n",
      "id: [[466]]\n",
      "buildingblock1_smiles: [[\"C#CC[C@@H](CC(=O)O)NC(=O)OCC1c2ccccc2-c2ccccc21\"]]\n",
      "buildingblock2_smiles: [[\"C#CCOc1ccc(CN)cc1.Cl\"]]\n",
      "buildingblock3_smiles: [[\"Cc1cc2cc(CN)ccc2[nH]1\"]]\n",
      "molecule_smiles: [[\"C#CCOc1ccc(CNc2nc(NCc3ccc4[nH]c(C)cc4c3)nc(N[C@@H](CC#C)CC(=O)N[Dy])n2)cc1\"]]\n",
      "protein_name: [[\"HSA\"]]\n",
      "binds: [[1]]\n"
     ]
    }
   ],
   "source": [
    "example_row_binds = query.head(num_rows=1)\n",
    "print(example_row_binds)"
   ]
  },
  {
   "cell_type": "code",
   "execution_count": 21,
   "metadata": {},
   "outputs": [
    {
     "name": "stdout",
     "output_type": "stream",
     "text": [
      "Original: C#CCOc1ccc(CNc2nc(NCc3ccc4[nH]c(C)cc4c3)nc(N[C@@H](CC#C)CC(=O)N[Dy])n2)cc1\n",
      "Cleaned:  C#CCOc1ccc(CNc2nc(NCc3ccc4[nH]c(C)cc4c3)nc(N[C@@H](CC#C)CC(N)=O)n2)cc1\n"
     ]
    },
    {
     "data": {
      "application/3dmoljs_load.v0": "<div id=\"3dmolviewer_17176179465401974\"  style=\"position: relative; width: 500px; height: 500px;\">\n        <p id=\"3dmolwarning_17176179465401974\" style=\"background-color:#ffcccc;color:black\">3Dmol.js failed to load for some reason.  Please check your browser console for error messages.<br></p>\n        </div>\n<script>\n\nvar loadScriptAsync = function(uri){\n  return new Promise((resolve, reject) => {\n    //this is to ignore the existence of requirejs amd\n    var savedexports, savedmodule;\n    if (typeof exports !== 'undefined') savedexports = exports;\n    else exports = {}\n    if (typeof module !== 'undefined') savedmodule = module;\n    else module = {}\n\n    var tag = document.createElement('script');\n    tag.src = uri;\n    tag.async = true;\n    tag.onload = () => {\n        exports = savedexports;\n        module = savedmodule;\n        resolve();\n    };\n  var firstScriptTag = document.getElementsByTagName('script')[0];\n  firstScriptTag.parentNode.insertBefore(tag, firstScriptTag);\n});\n};\n\nif(typeof $3Dmolpromise === 'undefined') {\n$3Dmolpromise = null;\n  $3Dmolpromise = loadScriptAsync('https://cdnjs.cloudflare.com/ajax/libs/3Dmol/2.1.0/3Dmol-min.js');\n}\n\nvar viewer_17176179465401974 = null;\nvar warn = document.getElementById(\"3dmolwarning_17176179465401974\");\nif(warn) {\n    warn.parentNode.removeChild(warn);\n}\n$3Dmolpromise.then(function() {\nviewer_17176179465401974 = $3Dmol.createViewer(document.getElementById(\"3dmolviewer_17176179465401974\"),{backgroundColor:\"white\"});\nviewer_17176179465401974.zoomTo();\n\tviewer_17176179465401974.addModel(\"\\n     RDKit          3D\\n\\n 69 72  0  0  0  0  0  0  0  0999 V2000\\n    8.5150    4.8275   -2.3823 C   0  0  0  0  0  0  0  0  0  0  0  0\\n    8.0043    3.9522   -1.7370 C   0  0  0  0  0  0  0  0  0  0  0  0\\n    7.3961    2.8798   -0.9340 C   0  0  0  0  0  0  0  0  0  0  0  0\\n    5.9779    3.0352   -0.9467 O   0  0  0  0  0  0  0  0  0  0  0  0\\n    5.2502    2.1620   -0.1855 C   0  0  0  0  0  0  0  0  0  0  0  0\\n    3.8778    2.4185   -0.1551 C   0  0  0  0  0  0  0  0  0  0  0  0\\n    3.0156    1.6098    0.5894 C   0  0  0  0  0  0  0  0  0  0  0  0\\n    3.5181    0.5281    1.3221 C   0  0  0  0  0  0  0  0  0  0  0  0\\n    2.5918   -0.3545    2.1260 C   0  0  0  0  0  0  0  0  0  0  0  0\\n    2.1713   -1.5085    1.3563 N   0  0  0  0  0  0  0  0  0  0  0  0\\n    1.0556   -1.3482    0.5474 C   0  0  0  0  0  0  0  0  0  0  0  0\\n    0.0699   -0.5428    0.9170 N   0  0  0  0  0  0  0  0  0  0  0  0\\n   -0.9679   -0.4873    0.0953 C   0  0  0  0  0  0  0  0  0  0  0  0\\n   -2.0481    0.3314    0.3879 N   0  0  0  0  0  0  0  0  0  0  0  0\\n   -2.3399    0.4587    1.8019 C   0  0  0  0  0  0  0  0  0  0  0  0\\n   -3.6812    1.1389    1.9657 C   0  0  0  0  0  0  0  0  0  0  0  0\\n   -4.8094    0.4083    2.3597 C   0  0  0  0  0  0  0  0  0  0  0  0\\n   -6.0620    1.0159    2.5016 C   0  0  0  0  0  0  0  0  0  0  0  0\\n   -6.1525    2.3841    2.2281 C   0  0  0  0  0  0  0  0  0  0  0  0\\n   -7.2371    3.2295    2.2756 N   0  0  0  0  0  0  0  0  0  0  0  0\\n   -6.8732    4.5016    1.9080 C   0  0  0  0  0  0  0  0  0  0  0  0\\n   -7.8484    5.6181    1.8458 C   0  0  0  0  0  0  0  0  0  0  0  0\\n   -5.5214    4.4747    1.6305 C   0  0  0  0  0  0  0  0  0  0  0  0\\n   -5.0572    3.1454    1.8264 C   0  0  0  0  0  0  0  0  0  0  0  0\\n   -3.8065    2.5139    1.6907 C   0  0  0  0  0  0  0  0  0  0  0  0\\n   -1.0701   -1.1856   -1.0240 N   0  0  0  0  0  0  0  0  0  0  0  0\\n   -0.0424   -1.9706   -1.3048 C   0  0  0  0  0  0  0  0  0  0  0  0\\n   -0.1666   -2.7013   -2.4796 N   0  0  0  0  0  0  0  0  0  0  0  0\\n    0.3886   -4.0636   -2.4855 C   0  0  1  0  0  0  0  0  0  0  0  0\\n   -0.6568   -5.1003   -2.0050 C   0  0  0  0  0  0  0  0  0  0  0  0\\n   -0.9481   -4.9957   -0.5649 C   0  0  0  0  0  0  0  0  0  0  0  0\\n   -1.1610   -4.9236    0.6149 C   0  0  0  0  0  0  0  0  0  0  0  0\\n    0.8124   -4.3558   -3.9320 C   0  0  0  0  0  0  0  0  0  0  0  0\\n    1.6759   -5.5880   -4.0144 C   0  0  0  0  0  0  0  0  0  0  0  0\\n    2.9728   -5.4262   -3.6308 N   0  0  0  0  0  0  0  0  0  0  0  0\\n    1.2525   -6.6812   -4.3701 O   0  0  0  0  0  0  0  0  0  0  0  0\\n    1.0461   -2.0768   -0.5582 N   0  0  0  0  0  0  0  0  0  0  0  0\\n    4.8935    0.2620    1.2747 C   0  0  0  0  0  0  0  0  0  0  0  0\\n    5.7551    1.0752    0.5286 C   0  0  0  0  0  0  0  0  0  0  0  0\\n    8.9773    5.6022   -2.9481 H   0  0  0  0  0  0  0  0  0  0  0  0\\n    7.6722    1.9092   -1.3664 H   0  0  0  0  0  0  0  0  0  0  0  0\\n    7.7764    2.9477    0.0940 H   0  0  0  0  0  0  0  0  0  0  0  0\\n    3.4725    3.2567   -0.7176 H   0  0  0  0  0  0  0  0  0  0  0  0\\n    1.9486    1.8290    0.5906 H   0  0  0  0  0  0  0  0  0  0  0  0\\n    3.1397   -0.7175    3.0061 H   0  0  0  0  0  0  0  0  0  0  0  0\\n    1.7562    0.2267    2.5376 H   0  0  0  0  0  0  0  0  0  0  0  0\\n    2.8931   -1.9181    0.7746 H   0  0  0  0  0  0  0  0  0  0  0  0\\n   -2.8259    0.0078   -0.1752 H   0  0  0  0  0  0  0  0  0  0  0  0\\n   -2.3649   -0.5233    2.2957 H   0  0  0  0  0  0  0  0  0  0  0  0\\n   -1.5749    1.0620    2.3110 H   0  0  0  0  0  0  0  0  0  0  0  0\\n   -4.7244   -0.6578    2.5617 H   0  0  0  0  0  0  0  0  0  0  0  0\\n   -6.9278    0.4391    2.8092 H   0  0  0  0  0  0  0  0  0  0  0  0\\n   -8.1712    2.9424    2.5322 H   0  0  0  0  0  0  0  0  0  0  0  0\\n   -7.5367    6.4368    2.5034 H   0  0  0  0  0  0  0  0  0  0  0  0\\n   -8.8487    5.2984    2.1541 H   0  0  0  0  0  0  0  0  0  0  0  0\\n   -7.9161    6.0046    0.8233 H   0  0  0  0  0  0  0  0  0  0  0  0\\n   -4.9283    5.3206    1.3086 H   0  0  0  0  0  0  0  0  0  0  0  0\\n   -2.9423    3.0866    1.3633 H   0  0  0  0  0  0  0  0  0  0  0  0\\n   -1.1406   -2.6268   -2.7562 H   0  0  0  0  0  0  0  0  0  0  0  0\\n    1.2803   -4.1313   -1.8487 H   0  0  0  0  0  0  0  0  0  0  0  0\\n   -0.2952   -6.1159   -2.1988 H   0  0  0  0  0  0  0  0  0  0  0  0\\n   -1.5894   -4.9833   -2.5708 H   0  0  0  0  0  0  0  0  0  0  0  0\\n   -1.3389   -4.8558    1.6632 H   0  0  0  0  0  0  0  0  0  0  0  0\\n   -0.0577   -4.4884   -4.5861 H   0  0  0  0  0  0  0  0  0  0  0  0\\n    1.3836   -3.5152   -4.3467 H   0  0  0  0  0  0  0  0  0  0  0  0\\n    3.5843   -6.2264   -3.7518 H   0  0  0  0  0  0  0  0  0  0  0  0\\n    3.3903   -4.5155   -3.4968 H   0  0  0  0  0  0  0  0  0  0  0  0\\n    5.3064   -0.5819    1.8233 H   0  0  0  0  0  0  0  0  0  0  0  0\\n    6.8116    0.8261    0.5279 H   0  0  0  0  0  0  0  0  0  0  0  0\\n  1  2  3  0\\n  2  3  1  0\\n  3  4  1  0\\n  4  5  1  0\\n  5  6  2  0\\n  6  7  1  0\\n  7  8  2  0\\n  8  9  1  0\\n  9 10  1  0\\n 10 11  1  0\\n 11 12  2  0\\n 12 13  1  0\\n 13 14  1  0\\n 14 15  1  0\\n 15 16  1  0\\n 16 17  2  0\\n 17 18  1  0\\n 18 19  2  0\\n 19 20  1  0\\n 20 21  1  0\\n 21 22  1  0\\n 21 23  2  0\\n 23 24  1  0\\n 24 25  2  0\\n 13 26  2  0\\n 26 27  1  0\\n 27 28  1  0\\n 28 29  1  0\\n 29 30  1  0\\n 30 31  1  0\\n 31 32  3  0\\n 29 33  1  0\\n 33 34  1  0\\n 34 35  1  0\\n 34 36  2  0\\n 27 37  2  0\\n  8 38  1  0\\n 38 39  2  0\\n 39  5  1  0\\n 37 11  1  0\\n 25 16  1  0\\n 24 19  1  0\\n  1 40  1  0\\n  3 41  1  0\\n  3 42  1  0\\n  6 43  1  0\\n  7 44  1  0\\n  9 45  1  0\\n  9 46  1  0\\n 10 47  1  0\\n 14 48  1  0\\n 15 49  1  0\\n 15 50  1  0\\n 17 51  1  0\\n 18 52  1  0\\n 20 53  1  0\\n 22 54  1  0\\n 22 55  1  0\\n 22 56  1  0\\n 23 57  1  0\\n 25 58  1  0\\n 28 59  1  0\\n 29 60  1  1\\n 30 61  1  0\\n 30 62  1  0\\n 32 63  1  0\\n 33 64  1  0\\n 33 65  1  0\\n 35 66  1  0\\n 35 67  1  0\\n 38 68  1  0\\n 39 69  1  0\\nM  END\\n\",\"mol\");\n\tviewer_17176179465401974.setStyle({\"stick\": {}});\n\tviewer_17176179465401974.zoomTo();\nviewer_17176179465401974.render();\n});\n</script>",
      "text/html": [
       "<div id=\"3dmolviewer_17176179465401974\"  style=\"position: relative; width: 500px; height: 500px;\">\n",
       "        <p id=\"3dmolwarning_17176179465401974\" style=\"background-color:#ffcccc;color:black\">3Dmol.js failed to load for some reason.  Please check your browser console for error messages.<br></p>\n",
       "        </div>\n",
       "<script>\n",
       "\n",
       "var loadScriptAsync = function(uri){\n",
       "  return new Promise((resolve, reject) => {\n",
       "    //this is to ignore the existence of requirejs amd\n",
       "    var savedexports, savedmodule;\n",
       "    if (typeof exports !== 'undefined') savedexports = exports;\n",
       "    else exports = {}\n",
       "    if (typeof module !== 'undefined') savedmodule = module;\n",
       "    else module = {}\n",
       "\n",
       "    var tag = document.createElement('script');\n",
       "    tag.src = uri;\n",
       "    tag.async = true;\n",
       "    tag.onload = () => {\n",
       "        exports = savedexports;\n",
       "        module = savedmodule;\n",
       "        resolve();\n",
       "    };\n",
       "  var firstScriptTag = document.getElementsByTagName('script')[0];\n",
       "  firstScriptTag.parentNode.insertBefore(tag, firstScriptTag);\n",
       "});\n",
       "};\n",
       "\n",
       "if(typeof $3Dmolpromise === 'undefined') {\n",
       "$3Dmolpromise = null;\n",
       "  $3Dmolpromise = loadScriptAsync('https://cdnjs.cloudflare.com/ajax/libs/3Dmol/2.1.0/3Dmol-min.js');\n",
       "}\n",
       "\n",
       "var viewer_17176179465401974 = null;\n",
       "var warn = document.getElementById(\"3dmolwarning_17176179465401974\");\n",
       "if(warn) {\n",
       "    warn.parentNode.removeChild(warn);\n",
       "}\n",
       "$3Dmolpromise.then(function() {\n",
       "viewer_17176179465401974 = $3Dmol.createViewer(document.getElementById(\"3dmolviewer_17176179465401974\"),{backgroundColor:\"white\"});\n",
       "viewer_17176179465401974.zoomTo();\n",
       "\tviewer_17176179465401974.addModel(\"\\n     RDKit          3D\\n\\n 69 72  0  0  0  0  0  0  0  0999 V2000\\n    8.5150    4.8275   -2.3823 C   0  0  0  0  0  0  0  0  0  0  0  0\\n    8.0043    3.9522   -1.7370 C   0  0  0  0  0  0  0  0  0  0  0  0\\n    7.3961    2.8798   -0.9340 C   0  0  0  0  0  0  0  0  0  0  0  0\\n    5.9779    3.0352   -0.9467 O   0  0  0  0  0  0  0  0  0  0  0  0\\n    5.2502    2.1620   -0.1855 C   0  0  0  0  0  0  0  0  0  0  0  0\\n    3.8778    2.4185   -0.1551 C   0  0  0  0  0  0  0  0  0  0  0  0\\n    3.0156    1.6098    0.5894 C   0  0  0  0  0  0  0  0  0  0  0  0\\n    3.5181    0.5281    1.3221 C   0  0  0  0  0  0  0  0  0  0  0  0\\n    2.5918   -0.3545    2.1260 C   0  0  0  0  0  0  0  0  0  0  0  0\\n    2.1713   -1.5085    1.3563 N   0  0  0  0  0  0  0  0  0  0  0  0\\n    1.0556   -1.3482    0.5474 C   0  0  0  0  0  0  0  0  0  0  0  0\\n    0.0699   -0.5428    0.9170 N   0  0  0  0  0  0  0  0  0  0  0  0\\n   -0.9679   -0.4873    0.0953 C   0  0  0  0  0  0  0  0  0  0  0  0\\n   -2.0481    0.3314    0.3879 N   0  0  0  0  0  0  0  0  0  0  0  0\\n   -2.3399    0.4587    1.8019 C   0  0  0  0  0  0  0  0  0  0  0  0\\n   -3.6812    1.1389    1.9657 C   0  0  0  0  0  0  0  0  0  0  0  0\\n   -4.8094    0.4083    2.3597 C   0  0  0  0  0  0  0  0  0  0  0  0\\n   -6.0620    1.0159    2.5016 C   0  0  0  0  0  0  0  0  0  0  0  0\\n   -6.1525    2.3841    2.2281 C   0  0  0  0  0  0  0  0  0  0  0  0\\n   -7.2371    3.2295    2.2756 N   0  0  0  0  0  0  0  0  0  0  0  0\\n   -6.8732    4.5016    1.9080 C   0  0  0  0  0  0  0  0  0  0  0  0\\n   -7.8484    5.6181    1.8458 C   0  0  0  0  0  0  0  0  0  0  0  0\\n   -5.5214    4.4747    1.6305 C   0  0  0  0  0  0  0  0  0  0  0  0\\n   -5.0572    3.1454    1.8264 C   0  0  0  0  0  0  0  0  0  0  0  0\\n   -3.8065    2.5139    1.6907 C   0  0  0  0  0  0  0  0  0  0  0  0\\n   -1.0701   -1.1856   -1.0240 N   0  0  0  0  0  0  0  0  0  0  0  0\\n   -0.0424   -1.9706   -1.3048 C   0  0  0  0  0  0  0  0  0  0  0  0\\n   -0.1666   -2.7013   -2.4796 N   0  0  0  0  0  0  0  0  0  0  0  0\\n    0.3886   -4.0636   -2.4855 C   0  0  1  0  0  0  0  0  0  0  0  0\\n   -0.6568   -5.1003   -2.0050 C   0  0  0  0  0  0  0  0  0  0  0  0\\n   -0.9481   -4.9957   -0.5649 C   0  0  0  0  0  0  0  0  0  0  0  0\\n   -1.1610   -4.9236    0.6149 C   0  0  0  0  0  0  0  0  0  0  0  0\\n    0.8124   -4.3558   -3.9320 C   0  0  0  0  0  0  0  0  0  0  0  0\\n    1.6759   -5.5880   -4.0144 C   0  0  0  0  0  0  0  0  0  0  0  0\\n    2.9728   -5.4262   -3.6308 N   0  0  0  0  0  0  0  0  0  0  0  0\\n    1.2525   -6.6812   -4.3701 O   0  0  0  0  0  0  0  0  0  0  0  0\\n    1.0461   -2.0768   -0.5582 N   0  0  0  0  0  0  0  0  0  0  0  0\\n    4.8935    0.2620    1.2747 C   0  0  0  0  0  0  0  0  0  0  0  0\\n    5.7551    1.0752    0.5286 C   0  0  0  0  0  0  0  0  0  0  0  0\\n    8.9773    5.6022   -2.9481 H   0  0  0  0  0  0  0  0  0  0  0  0\\n    7.6722    1.9092   -1.3664 H   0  0  0  0  0  0  0  0  0  0  0  0\\n    7.7764    2.9477    0.0940 H   0  0  0  0  0  0  0  0  0  0  0  0\\n    3.4725    3.2567   -0.7176 H   0  0  0  0  0  0  0  0  0  0  0  0\\n    1.9486    1.8290    0.5906 H   0  0  0  0  0  0  0  0  0  0  0  0\\n    3.1397   -0.7175    3.0061 H   0  0  0  0  0  0  0  0  0  0  0  0\\n    1.7562    0.2267    2.5376 H   0  0  0  0  0  0  0  0  0  0  0  0\\n    2.8931   -1.9181    0.7746 H   0  0  0  0  0  0  0  0  0  0  0  0\\n   -2.8259    0.0078   -0.1752 H   0  0  0  0  0  0  0  0  0  0  0  0\\n   -2.3649   -0.5233    2.2957 H   0  0  0  0  0  0  0  0  0  0  0  0\\n   -1.5749    1.0620    2.3110 H   0  0  0  0  0  0  0  0  0  0  0  0\\n   -4.7244   -0.6578    2.5617 H   0  0  0  0  0  0  0  0  0  0  0  0\\n   -6.9278    0.4391    2.8092 H   0  0  0  0  0  0  0  0  0  0  0  0\\n   -8.1712    2.9424    2.5322 H   0  0  0  0  0  0  0  0  0  0  0  0\\n   -7.5367    6.4368    2.5034 H   0  0  0  0  0  0  0  0  0  0  0  0\\n   -8.8487    5.2984    2.1541 H   0  0  0  0  0  0  0  0  0  0  0  0\\n   -7.9161    6.0046    0.8233 H   0  0  0  0  0  0  0  0  0  0  0  0\\n   -4.9283    5.3206    1.3086 H   0  0  0  0  0  0  0  0  0  0  0  0\\n   -2.9423    3.0866    1.3633 H   0  0  0  0  0  0  0  0  0  0  0  0\\n   -1.1406   -2.6268   -2.7562 H   0  0  0  0  0  0  0  0  0  0  0  0\\n    1.2803   -4.1313   -1.8487 H   0  0  0  0  0  0  0  0  0  0  0  0\\n   -0.2952   -6.1159   -2.1988 H   0  0  0  0  0  0  0  0  0  0  0  0\\n   -1.5894   -4.9833   -2.5708 H   0  0  0  0  0  0  0  0  0  0  0  0\\n   -1.3389   -4.8558    1.6632 H   0  0  0  0  0  0  0  0  0  0  0  0\\n   -0.0577   -4.4884   -4.5861 H   0  0  0  0  0  0  0  0  0  0  0  0\\n    1.3836   -3.5152   -4.3467 H   0  0  0  0  0  0  0  0  0  0  0  0\\n    3.5843   -6.2264   -3.7518 H   0  0  0  0  0  0  0  0  0  0  0  0\\n    3.3903   -4.5155   -3.4968 H   0  0  0  0  0  0  0  0  0  0  0  0\\n    5.3064   -0.5819    1.8233 H   0  0  0  0  0  0  0  0  0  0  0  0\\n    6.8116    0.8261    0.5279 H   0  0  0  0  0  0  0  0  0  0  0  0\\n  1  2  3  0\\n  2  3  1  0\\n  3  4  1  0\\n  4  5  1  0\\n  5  6  2  0\\n  6  7  1  0\\n  7  8  2  0\\n  8  9  1  0\\n  9 10  1  0\\n 10 11  1  0\\n 11 12  2  0\\n 12 13  1  0\\n 13 14  1  0\\n 14 15  1  0\\n 15 16  1  0\\n 16 17  2  0\\n 17 18  1  0\\n 18 19  2  0\\n 19 20  1  0\\n 20 21  1  0\\n 21 22  1  0\\n 21 23  2  0\\n 23 24  1  0\\n 24 25  2  0\\n 13 26  2  0\\n 26 27  1  0\\n 27 28  1  0\\n 28 29  1  0\\n 29 30  1  0\\n 30 31  1  0\\n 31 32  3  0\\n 29 33  1  0\\n 33 34  1  0\\n 34 35  1  0\\n 34 36  2  0\\n 27 37  2  0\\n  8 38  1  0\\n 38 39  2  0\\n 39  5  1  0\\n 37 11  1  0\\n 25 16  1  0\\n 24 19  1  0\\n  1 40  1  0\\n  3 41  1  0\\n  3 42  1  0\\n  6 43  1  0\\n  7 44  1  0\\n  9 45  1  0\\n  9 46  1  0\\n 10 47  1  0\\n 14 48  1  0\\n 15 49  1  0\\n 15 50  1  0\\n 17 51  1  0\\n 18 52  1  0\\n 20 53  1  0\\n 22 54  1  0\\n 22 55  1  0\\n 22 56  1  0\\n 23 57  1  0\\n 25 58  1  0\\n 28 59  1  0\\n 29 60  1  1\\n 30 61  1  0\\n 30 62  1  0\\n 32 63  1  0\\n 33 64  1  0\\n 33 65  1  0\\n 35 66  1  0\\n 35 67  1  0\\n 38 68  1  0\\n 39 69  1  0\\nM  END\\n\",\"mol\");\n",
       "\tviewer_17176179465401974.setStyle({\"stick\": {}});\n",
       "\tviewer_17176179465401974.zoomTo();\n",
       "viewer_17176179465401974.render();\n",
       "});\n",
       "</script>"
      ]
     },
     "metadata": {},
     "output_type": "display_data"
    }
   ],
   "source": [
    "smi = example_row_binds[\"molecule_smiles\"][0].as_py()\n",
    "print(f\"Original: {smi}\")\n",
    "smi = clean_smi(smi)\n",
    "print(f\"Cleaned:  {smi}\")\n",
    "show_mol(smi)"
   ]
  },
  {
   "cell_type": "markdown",
   "metadata": {},
   "source": [
    "## Distribution\n"
   ]
  },
  {
   "cell_type": "markdown",
   "metadata": {},
   "source": [
    "### Binding"
   ]
  },
  {
   "cell_type": "code",
   "execution_count": 22,
   "metadata": {},
   "outputs": [],
   "source": [
    "no_bind_scanner = data_train.scanner(filter=(pc.field(\"binds\") == 0))\n",
    "bind_scanner = data_train.scanner(filter=(pc.field(\"binds\") == 1))"
   ]
  },
  {
   "cell_type": "code",
   "execution_count": 23,
   "metadata": {},
   "outputs": [
    {
     "name": "stdout",
     "output_type": "stream",
     "text": [
      "Total rows of\n",
      "   No binding: 293656924\n",
      "   Binding:    1589906\n"
     ]
    }
   ],
   "source": [
    "n_no_bind = 0\n",
    "for batch in no_bind_scanner.to_batches():\n",
    "    n_no_bind += batch.num_rows\n",
    "\n",
    "n_bind = 0\n",
    "for batch in bind_scanner.to_batches():\n",
    "    n_bind += batch.num_rows\n",
    "\n",
    "print(\"Total rows of\")\n",
    "print(f\"   No binding: {n_no_bind}\")\n",
    "print(f\"   Binding:    {n_bind}\")"
   ]
  },
  {
   "cell_type": "code",
   "execution_count": 24,
   "metadata": {},
   "outputs": [],
   "source": [
    "import matplotlib.pyplot as plt"
   ]
  },
  {
   "cell_type": "code",
   "execution_count": 25,
   "metadata": {},
   "outputs": [
    {
     "name": "stdout",
     "output_type": "stream",
     "text": [
      "Total observations: 295,246,830\n",
      "No binding: 0.995\n",
      "Binding:    0.005\n"
     ]
    },
    {
     "data": {
      "image/png": "[encoded data removed]",
      "text/plain": [
       "<Figure size 800x600 with 1 Axes>"
      ]
     },
     "metadata": {},
     "output_type": "display_data"
    }
   ],
   "source": [
    "labels = ['No Bind', 'Bind']\n",
    "total = n_no_bind + n_bind\n",
    "values = [n_no_bind/total, n_bind/total]\n",
    "\n",
    "print(f\"Total observations: {total:,}\")\n",
    "print(f\"No binding: {values[0]:.3f}\")\n",
    "print(f\"Binding:    {values[1]:.3f}\")\n",
    "\n",
    "plt.figure(figsize=(8, 6))\n",
    "plt.bar(labels, values, color=['#f94144', '#025099'])\n",
    "\n",
    "# Add title and labels\n",
    "plt.ylabel('Number of Rows')\n",
    "\n",
    "# Show the plot\n",
    "plt.tight_layout()\n",
    "plt.show()"
   ]
  },
  {
   "cell_type": "markdown",
   "metadata": {},
   "source": [
    "### Targets\n"
   ]
  },
  {
   "cell_type": "code",
   "execution_count": 26,
   "metadata": {},
   "outputs": [],
   "source": [
    "from collections import defaultdict"
   ]
  },
  {
   "cell_type": "code",
   "execution_count": 27,
   "metadata": {},
   "outputs": [],
   "source": [
    "# Create a scanner to read the dataset\n",
    "scanner = data_train.scanner()\n",
    "\n",
    "# Initialize a defaultdict to store the value counts\n",
    "protein_counts = defaultdict(int)\n",
    "\n",
    "# Iterate over the batches\n",
    "for batch in scanner.to_batches():\n",
    "    # Get the column from the batch\n",
    "    column = batch['protein_name']\n",
    "    \n",
    "    # Convert the column to a dictionary of value counts\n",
    "    batch_value_counts = dict(zip(column.to_pylist(), pc.value_counts(column).to_pylist()))\n",
    "    \n",
    "    # Update the value counts dictionary\n",
    "    for value, count in batch_value_counts.items():\n",
    "        protein_counts[value] += int(count[\"counts\"])\n"
   ]
  },
  {
   "cell_type": "code",
   "execution_count": 28,
   "metadata": {},
   "outputs": [
    {
     "name": "stdout",
     "output_type": "stream",
     "text": [
      "BRD4: 98415610\n",
      "HSA: 98415610\n",
      "sEH: 98415610\n"
     ]
    }
   ],
   "source": [
    "# Print the value counts\n",
    "for value, count in protein_counts.items():\n",
    "    print(f\"{value}: {count}\")"
   ]
  }
 ],
 "metadata": {
  "kernelspec": {
   "display_name": "biosc1540-2024s-dev",
   "language": "python",
   "name": "python3"
  },
  "language_info": {
   "codemirror_mode": {
    "name": "ipython",
    "version": 3
   },
   "file_extension": ".py",
   "mimetype": "text/x-python",
   "name": "python",
   "nbconvert_exporter": "python",
   "pygments_lexer": "ipython3",
   "version": "3.11.9"
  }
 },
 "nbformat": 4,
 "nbformat_minor": 2
}
