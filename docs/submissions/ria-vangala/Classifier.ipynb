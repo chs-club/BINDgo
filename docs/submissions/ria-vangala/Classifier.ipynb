{
 "cells": [
  {
   "cell_type": "markdown",
   "id": "e9ea51ed",
   "metadata": {},
   "source": [
    "# Gaussian Process Classification\n",
    "GaussianProcessClassigier is used for probalistic classification (test predictions are in the form of class probabilities)\n",
    "Can perform a \"one vs one\" or \"one vs rest\" "
   ]
  },
  {
   "cell_type": "markdown",
   "id": "9c1539c7",
   "metadata": {},
   "source": [
    "One vs Rest: one binary GPC is fitted for each pair of classes, whih is trained to separate these 2 classes.\n",
    "One vs One: computationally cheaper, solves many problem involving only a subset of the whole training set instead of a fewer problems on the whole dataset "
   ]
  },
  {
   "cell_type": "code",
   "execution_count": null,
   "id": "d47659b1",
   "metadata": {},
   "outputs": [],
   "source": [
    "#Data & Processing\n",
    "import pyarrow.dataset as ds\n",
    "import pyarrow.compute as pc\n",
    "\n",
    "PATH_TRAIN_DATA = \"../../../data/train.parquet\"\n",
    "PATH_TEST_DATA = \"../../../data/test.parquet\"\n",
    "DATA = ds.dataset(source=PATH_TRAIN_DATA, format=\"parquet\")\n",
    "DATA_TEST = ds.dataset(source=PATH_TEST_DATA, format=\"parquet\")      "
   ]
  },
  {
   "cell_type": "code",
   "execution_count": null,
   "id": "e53ec838",
   "metadata": {},
   "outputs": [],
   "source": [
    "scanner_no_bind = DATA.scanner(filter=(pc.field(\"binds\") == 0))\n",
    "scanner_bind = DATA.scanner(filter=(pc.field(\"binds\") == 1))"
   ]
  },
  {
   "cell_type": "code",
   "execution_count": null,
   "id": "5246cc2c",
   "metadata": {},
   "outputs": [],
   "source": [
    "import numpy as np\n",
    "import numpy.typing as npt"
   ]
  }
 ],
 "metadata": {
  "kernelspec": {
   "display_name": "Python 3 (ipykernel)",
   "language": "python",
   "name": "python3"
  },
  "language_info": {
   "codemirror_mode": {
    "name": "ipython",
    "version": 3
   },
   "file_extension": ".py",
   "mimetype": "text/x-python",
   "name": "python",
   "nbconvert_exporter": "python",
   "pygments_lexer": "ipython3",
   "version": "3.11.7"
  }
 },
 "nbformat": 4,
 "nbformat_minor": 5
}
