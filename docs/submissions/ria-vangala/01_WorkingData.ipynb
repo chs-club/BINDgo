{
 "cells": [
  {
   "cell_type": "markdown",
   "metadata": {},
   "source": [
    "# Data Exploration\n"
   ]
  },
  {
   "cell_type": "code",
   "execution_count": 39,
   "metadata": {},
   "outputs": [],
   "source": [
    "import polars as pl\n",
    "data_test = pl.read_parquet(source=\"../../../data/test.parquet\")"
   ]
  },
  {
   "cell_type": "code",
   "execution_count": 46,
   "metadata": {},
   "outputs": [],
   "source": [
    "#ParquetFile and then this is returns a pyarrow Dataset\n",
    "import pyarrow.dataset as ds\n",
    "path_train_data = \"../../../data/train.parquet\"\n",
    "data_train = ds.dataset(source=path_train_data, format=\"parquet\")"
   ]
  },
  {
   "cell_type": "code",
   "execution_count": 47,
   "metadata": {},
   "outputs": [
    {
     "name": "stdout",
     "output_type": "stream",
     "text": [
      "pyarrow.Table\n",
      "id: int64\n",
      "buildingblock1_smiles: string\n",
      "buildingblock2_smiles: string\n",
      "buildingblock3_smiles: string\n",
      "molecule_smiles: string\n",
      "protein_name: string\n",
      "binds: int64\n",
      "----\n",
      "id: [[0]]\n",
      "buildingblock1_smiles: [[\"C#CC[C@@H](CC(=O)O)NC(=O)OCC1c2ccccc2-c2ccccc21\"]]\n",
      "buildingblock2_smiles: [[\"C#CCOc1ccc(CN)cc1.Cl\"]]\n",
      "buildingblock3_smiles: [[\"Br.Br.NCC1CCCN1c1cccnn1\"]]\n",
      "molecule_smiles: [[\"C#CCOc1ccc(CNc2nc(NCC3CCCN3c3cccnn3)nc(N[C@@H](CC#C)CC(=O)N[Dy])n2)cc1\"]]\n",
      "protein_name: [[\"BRD4\"]]\n",
      "binds: [[0]]\n"
     ]
    }
   ],
   "source": [
    "data_train.head(num_rows=5)\n",
    "example_row = data_train.head(num_rows=1)\n",
    "print(example_row)           "
   ]
  },
  {
   "cell_type": "code",
   "execution_count": 48,
   "metadata": {},
   "outputs": [],
   "source": [
    "from rdkit import Chem\n",
    "from rdkit.Chem import AllChem\n",
    "import py3Dmol"
   ]
  },
  {
   "cell_type": "code",
   "execution_count": 49,
   "metadata": {},
   "outputs": [],
   "source": [
    "def get_mol(smi):\n",
    "    mol = Chem.MolFromSmiles(smi)\n",
    "    mol = Chem.AddHs(mol)\n",
    "    AllChem.EmbedMolecule(mol)\n",
    "    AllChem.MMFFOptimizeMolecule(mol, maxIters=200)\n",
    "    return mol"
   ]
  },
  {
   "cell_type": "code",
   "execution_count": 50,
   "metadata": {},
   "outputs": [],
   "source": [
    "\n",
    "def show_mol(smi, style=\"stick\"):\n",
    "    \n",
    "    mol = get_mol(smi)\n",
    "    mblock = Chem.MolToMolBlock(mol)\n",
    "\n",
    "    view = py3Dmol.view(width=500, height=500)\n",
    "    view.addModel(mblock, \"mol\")\n",
    "    view.setStyle({style: {}})\n",
    "    view.zoomTo()\n",
    "    view.show()\n",
    "        "
   ]
  },
  {
   "cell_type": "code",
   "execution_count": 51,
   "metadata": {},
   "outputs": [
    {
     "name": "stdout",
     "output_type": "stream",
     "text": [
      "C#CC[C@@H](CC(=O)O)NC(=O)OCC1c2ccccc2-c2ccccc21\n"
     ]
    },
    {
     "data": {
      "application/3dmoljs_load.v0": "<div id=\"3dmolviewer_1718411387834136\"  style=\"position: relative; width: 500px; height: 500px;\">\n        <p id=\"3dmolwarning_1718411387834136\" style=\"background-color:#ffcccc;color:black\">3Dmol.js failed to load for some reason.  Please check your browser console for error messages.<br></p>\n        </div>\n<script>\n\nvar loadScriptAsync = function(uri){\n  return new Promise((resolve, reject) => {\n    //this is to ignore the existence of requirejs amd\n    var savedexports, savedmodule;\n    if (typeof exports !== 'undefined') savedexports = exports;\n    else exports = {}\n    if (typeof module !== 'undefined') savedmodule = module;\n    else module = {}\n\n    var tag = document.createElement('script');\n    tag.src = uri;\n    tag.async = true;\n    tag.onload = () => {\n        exports = savedexports;\n        module = savedmodule;\n        resolve();\n    };\n  var firstScriptTag = document.getElementsByTagName('script')[0];\n  firstScriptTag.parentNode.insertBefore(tag, firstScriptTag);\n});\n};\n\nif(typeof $3Dmolpromise === 'undefined') {\n$3Dmolpromise = null;\n  $3Dmolpromise = loadScriptAsync('https://cdnjs.cloudflare.com/ajax/libs/3Dmol/2.1.0/3Dmol-min.js');\n}\n\nvar viewer_1718411387834136 = null;\nvar warn = document.getElementById(\"3dmolwarning_1718411387834136\");\nif(warn) {\n    warn.parentNode.removeChild(warn);\n}\n$3Dmolpromise.then(function() {\nviewer_1718411387834136 = $3Dmol.createViewer(document.getElementById(\"3dmolviewer_1718411387834136\"),{backgroundColor:\"white\"});\nviewer_1718411387834136.zoomTo();\n\tviewer_1718411387834136.addModel(\"\\n     RDKit          3D\\n\\n 45 47  0  0  0  0  0  0  0  0999 V2000\\n    4.3681    3.3973    2.0571 C   0  0  0  0  0  0  0  0  0  0  0  0\\n    4.5576    2.3276    1.5451 C   0  0  0  0  0  0  0  0  0  0  0  0\\n    4.7974    1.0168    0.9120 C   0  0  0  0  0  0  0  0  0  0  0  0\\n    3.7578   -0.0520    1.3155 C   0  0  1  0  0  0  0  0  0  0  0  0\\n    3.7293   -0.3546    2.8222 C   0  0  0  0  0  0  0  0  0  0  0  0\\n    5.0091   -0.9796    3.2989 C   0  0  0  0  0  0  0  0  0  0  0  0\\n    5.9283   -1.3996    2.6179 O   0  0  0  0  0  0  0  0  0  0  0  0\\n    5.0595   -1.0622    4.6431 O   0  0  0  0  0  0  0  0  0  0  0  0\\n    2.4238    0.3322    0.8472 N   0  0  0  0  0  0  0  0  0  0  0  0\\n    1.4321   -0.5702    0.6159 C   0  0  0  0  0  0  0  0  0  0  0  0\\n    1.5526   -1.7832    0.6757 O   0  0  0  0  0  0  0  0  0  0  0  0\\n    0.2890    0.0953    0.3297 O   0  0  0  0  0  0  0  0  0  0  0  0\\n   -0.8349   -0.7584    0.0433 C   0  0  0  0  0  0  0  0  0  0  0  0\\n   -2.0543    0.1095   -0.2826 C   0  0  0  0  0  0  0  0  0  0  0  0\\n   -2.0231    0.6639   -1.7058 C   0  0  0  0  0  0  0  0  0  0  0  0\\n   -1.0711    1.4836   -2.2930 C   0  0  0  0  0  0  0  0  0  0  0  0\\n   -1.2624    1.8705   -3.6208 C   0  0  0  0  0  0  0  0  0  0  0  0\\n   -2.3919    1.4430   -4.3377 C   0  0  0  0  0  0  0  0  0  0  0  0\\n   -3.3522    0.6219   -3.7384 C   0  0  0  0  0  0  0  0  0  0  0  0\\n   -3.1631    0.2367   -2.4211 C   0  0  0  0  0  0  0  0  0  0  0  0\\n   -3.9784   -0.5891   -1.5564 C   0  0  0  0  0  0  0  0  0  0  0  0\\n   -5.1820   -1.2310   -1.7979 C   0  0  0  0  0  0  0  0  0  0  0  0\\n   -5.7645   -1.9678   -0.7621 C   0  0  0  0  0  0  0  0  0  0  0  0\\n   -5.1466   -2.0528    0.4962 C   0  0  0  0  0  0  0  0  0  0  0  0\\n   -3.9336   -1.4062    0.7414 C   0  0  0  0  0  0  0  0  0  0  0  0\\n   -3.3555   -0.6849   -0.2929 C   0  0  0  0  0  0  0  0  0  0  0  0\\n    4.2077    4.3489    2.5105 H   0  0  0  0  0  0  0  0  0  0  0  0\\n    4.7683    1.1460   -0.1777 H   0  0  0  0  0  0  0  0  0  0  0  0\\n    5.8107    0.6800    1.1540 H   0  0  0  0  0  0  0  0  0  0  0  0\\n    4.0189   -0.9774    0.7843 H   0  0  0  0  0  0  0  0  0  0  0  0\\n    3.5399    0.5583    3.3973 H   0  0  0  0  0  0  0  0  0  0  0  0\\n    2.9225   -1.0619    3.0484 H   0  0  0  0  0  0  0  0  0  0  0  0\\n    5.9167   -1.5007    4.8281 H   0  0  0  0  0  0  0  0  0  0  0  0\\n    2.1301    1.2992    0.8955 H   0  0  0  0  0  0  0  0  0  0  0  0\\n   -1.0312   -1.3651    0.9357 H   0  0  0  0  0  0  0  0  0  0  0  0\\n   -0.5888   -1.4272   -0.7918 H   0  0  0  0  0  0  0  0  0  0  0  0\\n   -2.1485    0.9523    0.4135 H   0  0  0  0  0  0  0  0  0  0  0  0\\n   -0.1985    1.8191   -1.7422 H   0  0  0  0  0  0  0  0  0  0  0  0\\n   -0.5298    2.5108   -4.1069 H   0  0  0  0  0  0  0  0  0  0  0  0\\n   -2.5214    1.7566   -5.3709 H   0  0  0  0  0  0  0  0  0  0  0  0\\n   -4.2223    0.2999   -4.3002 H   0  0  0  0  0  0  0  0  0  0  0  0\\n   -5.6700   -1.1680   -2.7647 H   0  0  0  0  0  0  0  0  0  0  0  0\\n   -6.7094   -2.4792   -0.9312 H   0  0  0  0  0  0  0  0  0  0  0  0\\n   -5.6210   -2.6280    1.2883 H   0  0  0  0  0  0  0  0  0  0  0  0\\n   -3.4650   -1.4705    1.7180 H   0  0  0  0  0  0  0  0  0  0  0  0\\n  1  2  3  0\\n  2  3  1  0\\n  3  4  1  0\\n  4  5  1  0\\n  5  6  1  0\\n  6  7  2  0\\n  6  8  1  0\\n  4  9  1  0\\n  9 10  1  0\\n 10 11  2  0\\n 10 12  1  0\\n 12 13  1  0\\n 13 14  1  0\\n 14 15  1  0\\n 15 16  2  0\\n 16 17  1  0\\n 17 18  2  0\\n 18 19  1  0\\n 19 20  2  0\\n 20 21  1  0\\n 21 22  2  0\\n 22 23  1  0\\n 23 24  2  0\\n 24 25  1  0\\n 25 26  2  0\\n 26 14  1  0\\n 20 15  1  0\\n 26 21  1  0\\n  1 27  1  0\\n  3 28  1  0\\n  3 29  1  0\\n  4 30  1  6\\n  5 31  1  0\\n  5 32  1  0\\n  8 33  1  0\\n  9 34  1  0\\n 13 35  1  0\\n 13 36  1  0\\n 14 37  1  0\\n 16 38  1  0\\n 17 39  1  0\\n 18 40  1  0\\n 19 41  1  0\\n 22 42  1  0\\n 23 43  1  0\\n 24 44  1  0\\n 25 45  1  0\\nM  END\\n\",\"mol\");\n\tviewer_1718411387834136.setStyle({\"stick\": {}});\n\tviewer_1718411387834136.zoomTo();\nviewer_1718411387834136.render();\n});\n</script>",
      "text/html": [
       "<div id=\"3dmolviewer_1718411387834136\"  style=\"position: relative; width: 500px; height: 500px;\">\n",
       "        <p id=\"3dmolwarning_1718411387834136\" style=\"background-color:#ffcccc;color:black\">3Dmol.js failed to load for some reason.  Please check your browser console for error messages.<br></p>\n",
       "        </div>\n",
       "<script>\n",
       "\n",
       "var loadScriptAsync = function(uri){\n",
       "  return new Promise((resolve, reject) => {\n",
       "    //this is to ignore the existence of requirejs amd\n",
       "    var savedexports, savedmodule;\n",
       "    if (typeof exports !== 'undefined') savedexports = exports;\n",
       "    else exports = {}\n",
       "    if (typeof module !== 'undefined') savedmodule = module;\n",
       "    else module = {}\n",
       "\n",
       "    var tag = document.createElement('script');\n",
       "    tag.src = uri;\n",
       "    tag.async = true;\n",
       "    tag.onload = () => {\n",
       "        exports = savedexports;\n",
       "        module = savedmodule;\n",
       "        resolve();\n",
       "    };\n",
       "  var firstScriptTag = document.getElementsByTagName('script')[0];\n",
       "  firstScriptTag.parentNode.insertBefore(tag, firstScriptTag);\n",
       "});\n",
       "};\n",
       "\n",
       "if(typeof $3Dmolpromise === 'undefined') {\n",
       "$3Dmolpromise = null;\n",
       "  $3Dmolpromise = loadScriptAsync('https://cdnjs.cloudflare.com/ajax/libs/3Dmol/2.1.0/3Dmol-min.js');\n",
       "}\n",
       "\n",
       "var viewer_1718411387834136 = null;\n",
       "var warn = document.getElementById(\"3dmolwarning_1718411387834136\");\n",
       "if(warn) {\n",
       "    warn.parentNode.removeChild(warn);\n",
       "}\n",
       "$3Dmolpromise.then(function() {\n",
       "viewer_1718411387834136 = $3Dmol.createViewer(document.getElementById(\"3dmolviewer_1718411387834136\"),{backgroundColor:\"white\"});\n",
       "viewer_1718411387834136.zoomTo();\n",
       "\tviewer_1718411387834136.addModel(\"\\n     RDKit          3D\\n\\n 45 47  0  0  0  0  0  0  0  0999 V2000\\n    4.3681    3.3973    2.0571 C   0  0  0  0  0  0  0  0  0  0  0  0\\n    4.5576    2.3276    1.5451 C   0  0  0  0  0  0  0  0  0  0  0  0\\n    4.7974    1.0168    0.9120 C   0  0  0  0  0  0  0  0  0  0  0  0\\n    3.7578   -0.0520    1.3155 C   0  0  1  0  0  0  0  0  0  0  0  0\\n    3.7293   -0.3546    2.8222 C   0  0  0  0  0  0  0  0  0  0  0  0\\n    5.0091   -0.9796    3.2989 C   0  0  0  0  0  0  0  0  0  0  0  0\\n    5.9283   -1.3996    2.6179 O   0  0  0  0  0  0  0  0  0  0  0  0\\n    5.0595   -1.0622    4.6431 O   0  0  0  0  0  0  0  0  0  0  0  0\\n    2.4238    0.3322    0.8472 N   0  0  0  0  0  0  0  0  0  0  0  0\\n    1.4321   -0.5702    0.6159 C   0  0  0  0  0  0  0  0  0  0  0  0\\n    1.5526   -1.7832    0.6757 O   0  0  0  0  0  0  0  0  0  0  0  0\\n    0.2890    0.0953    0.3297 O   0  0  0  0  0  0  0  0  0  0  0  0\\n   -0.8349   -0.7584    0.0433 C   0  0  0  0  0  0  0  0  0  0  0  0\\n   -2.0543    0.1095   -0.2826 C   0  0  0  0  0  0  0  0  0  0  0  0\\n   -2.0231    0.6639   -1.7058 C   0  0  0  0  0  0  0  0  0  0  0  0\\n   -1.0711    1.4836   -2.2930 C   0  0  0  0  0  0  0  0  0  0  0  0\\n   -1.2624    1.8705   -3.6208 C   0  0  0  0  0  0  0  0  0  0  0  0\\n   -2.3919    1.4430   -4.3377 C   0  0  0  0  0  0  0  0  0  0  0  0\\n   -3.3522    0.6219   -3.7384 C   0  0  0  0  0  0  0  0  0  0  0  0\\n   -3.1631    0.2367   -2.4211 C   0  0  0  0  0  0  0  0  0  0  0  0\\n   -3.9784   -0.5891   -1.5564 C   0  0  0  0  0  0  0  0  0  0  0  0\\n   -5.1820   -1.2310   -1.7979 C   0  0  0  0  0  0  0  0  0  0  0  0\\n   -5.7645   -1.9678   -0.7621 C   0  0  0  0  0  0  0  0  0  0  0  0\\n   -5.1466   -2.0528    0.4962 C   0  0  0  0  0  0  0  0  0  0  0  0\\n   -3.9336   -1.4062    0.7414 C   0  0  0  0  0  0  0  0  0  0  0  0\\n   -3.3555   -0.6849   -0.2929 C   0  0  0  0  0  0  0  0  0  0  0  0\\n    4.2077    4.3489    2.5105 H   0  0  0  0  0  0  0  0  0  0  0  0\\n    4.7683    1.1460   -0.1777 H   0  0  0  0  0  0  0  0  0  0  0  0\\n    5.8107    0.6800    1.1540 H   0  0  0  0  0  0  0  0  0  0  0  0\\n    4.0189   -0.9774    0.7843 H   0  0  0  0  0  0  0  0  0  0  0  0\\n    3.5399    0.5583    3.3973 H   0  0  0  0  0  0  0  0  0  0  0  0\\n    2.9225   -1.0619    3.0484 H   0  0  0  0  0  0  0  0  0  0  0  0\\n    5.9167   -1.5007    4.8281 H   0  0  0  0  0  0  0  0  0  0  0  0\\n    2.1301    1.2992    0.8955 H   0  0  0  0  0  0  0  0  0  0  0  0\\n   -1.0312   -1.3651    0.9357 H   0  0  0  0  0  0  0  0  0  0  0  0\\n   -0.5888   -1.4272   -0.7918 H   0  0  0  0  0  0  0  0  0  0  0  0\\n   -2.1485    0.9523    0.4135 H   0  0  0  0  0  0  0  0  0  0  0  0\\n   -0.1985    1.8191   -1.7422 H   0  0  0  0  0  0  0  0  0  0  0  0\\n   -0.5298    2.5108   -4.1069 H   0  0  0  0  0  0  0  0  0  0  0  0\\n   -2.5214    1.7566   -5.3709 H   0  0  0  0  0  0  0  0  0  0  0  0\\n   -4.2223    0.2999   -4.3002 H   0  0  0  0  0  0  0  0  0  0  0  0\\n   -5.6700   -1.1680   -2.7647 H   0  0  0  0  0  0  0  0  0  0  0  0\\n   -6.7094   -2.4792   -0.9312 H   0  0  0  0  0  0  0  0  0  0  0  0\\n   -5.6210   -2.6280    1.2883 H   0  0  0  0  0  0  0  0  0  0  0  0\\n   -3.4650   -1.4705    1.7180 H   0  0  0  0  0  0  0  0  0  0  0  0\\n  1  2  3  0\\n  2  3  1  0\\n  3  4  1  0\\n  4  5  1  0\\n  5  6  1  0\\n  6  7  2  0\\n  6  8  1  0\\n  4  9  1  0\\n  9 10  1  0\\n 10 11  2  0\\n 10 12  1  0\\n 12 13  1  0\\n 13 14  1  0\\n 14 15  1  0\\n 15 16  2  0\\n 16 17  1  0\\n 17 18  2  0\\n 18 19  1  0\\n 19 20  2  0\\n 20 21  1  0\\n 21 22  2  0\\n 22 23  1  0\\n 23 24  2  0\\n 24 25  1  0\\n 25 26  2  0\\n 26 14  1  0\\n 20 15  1  0\\n 26 21  1  0\\n  1 27  1  0\\n  3 28  1  0\\n  3 29  1  0\\n  4 30  1  6\\n  5 31  1  0\\n  5 32  1  0\\n  8 33  1  0\\n  9 34  1  0\\n 13 35  1  0\\n 13 36  1  0\\n 14 37  1  0\\n 16 38  1  0\\n 17 39  1  0\\n 18 40  1  0\\n 19 41  1  0\\n 22 42  1  0\\n 23 43  1  0\\n 24 44  1  0\\n 25 45  1  0\\nM  END\\n\",\"mol\");\n",
       "\tviewer_1718411387834136.setStyle({\"stick\": {}});\n",
       "\tviewer_1718411387834136.zoomTo();\n",
       "viewer_1718411387834136.render();\n",
       "});\n",
       "</script>"
      ]
     },
     "metadata": {},
     "output_type": "display_data"
    }
   ],
   "source": [
    "\n",
    "smi = example_row[\"buildingblock1_smiles\"][0].as_py()\n",
    "print(smi)\n",
    "show_mol(smi)\n",
    "        "
   ]
  },
  {
   "cell_type": "code",
   "execution_count": 52,
   "metadata": {},
   "outputs": [
    {
     "name": "stdout",
     "output_type": "stream",
     "text": [
      "C#CCOc1ccc(CN)cc1.Cl\n"
     ]
    },
    {
     "data": {
      "application/3dmoljs_load.v0": "<div id=\"3dmolviewer_171841143244315\"  style=\"position: relative; width: 500px; height: 500px;\">\n        <p id=\"3dmolwarning_171841143244315\" style=\"background-color:#ffcccc;color:black\">3Dmol.js failed to load for some reason.  Please check your browser console for error messages.<br></p>\n        </div>\n<script>\n\nvar loadScriptAsync = function(uri){\n  return new Promise((resolve, reject) => {\n    //this is to ignore the existence of requirejs amd\n    var savedexports, savedmodule;\n    if (typeof exports !== 'undefined') savedexports = exports;\n    else exports = {}\n    if (typeof module !== 'undefined') savedmodule = module;\n    else module = {}\n\n    var tag = document.createElement('script');\n    tag.src = uri;\n    tag.async = true;\n    tag.onload = () => {\n        exports = savedexports;\n        module = savedmodule;\n        resolve();\n    };\n  var firstScriptTag = document.getElementsByTagName('script')[0];\n  firstScriptTag.parentNode.insertBefore(tag, firstScriptTag);\n});\n};\n\nif(typeof $3Dmolpromise === 'undefined') {\n$3Dmolpromise = null;\n  $3Dmolpromise = loadScriptAsync('https://cdnjs.cloudflare.com/ajax/libs/3Dmol/2.1.0/3Dmol-min.js');\n}\n\nvar viewer_171841143244315 = null;\nvar warn = document.getElementById(\"3dmolwarning_171841143244315\");\nif(warn) {\n    warn.parentNode.removeChild(warn);\n}\n$3Dmolpromise.then(function() {\nviewer_171841143244315 = $3Dmol.createViewer(document.getElementById(\"3dmolviewer_171841143244315\"),{backgroundColor:\"white\"});\nviewer_171841143244315.zoomTo();\n\tviewer_171841143244315.addModel(\"\\n     RDKit          3D\\n\\n 25 24  0  0  0  0  0  0  0  0999 V2000\\n    4.9284    0.9829   -1.8420 C   0  0  0  0  0  0  0  0  0  0  0  0\\n    4.2692    0.9904   -1.3201 C   0  0  0  0  0  0  0  0  0  0  0  0\\n    3.0692    1.0156   -0.3419 C   0  0  0  0  0  0  0  0  0  0  0  0\\n    2.0141    0.4756   -1.0342 O   0  0  0  0  0  0  0  0  0  0  0  0\\n    0.7412    0.2202   -0.6528 C   0  0  0  0  0  0  0  0  0  0  0  0\\n   -0.2373   -0.3250   -1.4629 C   0  0  0  0  0  0  0  0  0  0  0  0\\n   -1.5092   -0.5933   -1.0383 C   0  0  0  0  0  0  0  0  0  0  0  0\\n   -1.8860   -0.3256    0.2531 C   0  0  0  0  0  0  0  0  0  0  0  0\\n   -3.2535   -0.7308    0.7509 C   0  0  0  0  0  0  0  0  0  0  0  0\\n   -3.5478   -0.2438    2.0698 N   0  0  0  0  0  0  0  0  0  0  0  0\\n   -0.9657    0.2208    1.1253 C   0  0  0  0  0  0  0  0  0  0  0  0\\n    0.3346    0.4869    0.6525 C   0  0  0  0  0  0  0  0  0  0  0  0\\n    0.6915    0.0000    0.0000 Cl  0  0  0  0  0  0  0  0  0  0  0  0\\n    6.0195    0.9582   -2.6914 H   0  0  0  0  0  0  0  0  0  0  0  0\\n    3.3562    0.5839    0.6222 H   0  0  0  0  0  0  0  0  0  0  0  0\\n    2.9083    2.1168   -0.1428 H   0  0  0  0  0  0  0  0  0  0  0  0\\n    0.0912   -0.5151   -2.5097 H   0  0  0  0  0  0  0  0  0  0  0  0\\n   -2.2572   -1.0467   -1.7397 H   0  0  0  0  0  0  0  0  0  0  0  0\\n   -3.2376   -1.8807    0.8343 H   0  0  0  0  0  0  0  0  0  0  0  0\\n   -4.0416   -0.4919   -0.0038 H   0  0  0  0  0  0  0  0  0  0  0  0\\n   -3.1336   -0.8318    2.7887 H   0  0  0  0  0  0  0  0  0  0  0  0\\n   -3.4626    0.7599    2.2220 H   0  0  0  0  0  0  0  0  0  0  0  0\\n   -1.2555    0.4545    2.1325 H   0  0  0  0  0  0  0  0  0  0  0  0\\n    1.0557    0.9089    1.3282 H   0  0  0  0  0  0  0  0  0  0  0  0\\n   -0.6915    0.0000    0.0000 H   0  0  0  0  0  0  0  0  0  0  0  0\\n  1  2  3  0\\n  2  3  1  0\\n  3  4  1  0\\n  4  5  1  0\\n  5  6  2  0\\n  6  7  1  0\\n  7  8  2  0\\n  8  9  1  0\\n  9 10  1  0\\n  8 11  1  0\\n 11 12  2  0\\n 12  5  1  0\\n  1 14  1  0\\n  3 15  1  0\\n  3 16  1  0\\n  6 17  1  0\\n  7 18  1  0\\n  9 19  1  0\\n  9 20  1  0\\n 10 21  1  0\\n 10 22  1  0\\n 11 23  1  0\\n 12 24  1  0\\n 13 25  1  0\\nM  END\\n\",\"mol\");\n\tviewer_171841143244315.setStyle({\"stick\": {}});\n\tviewer_171841143244315.zoomTo();\nviewer_171841143244315.render();\n});\n</script>",
      "text/html": [
       "<div id=\"3dmolviewer_171841143244315\"  style=\"position: relative; width: 500px; height: 500px;\">\n",
       "        <p id=\"3dmolwarning_171841143244315\" style=\"background-color:#ffcccc;color:black\">3Dmol.js failed to load for some reason.  Please check your browser console for error messages.<br></p>\n",
       "        </div>\n",
       "<script>\n",
       "\n",
       "var loadScriptAsync = function(uri){\n",
       "  return new Promise((resolve, reject) => {\n",
       "    //this is to ignore the existence of requirejs amd\n",
       "    var savedexports, savedmodule;\n",
       "    if (typeof exports !== 'undefined') savedexports = exports;\n",
       "    else exports = {}\n",
       "    if (typeof module !== 'undefined') savedmodule = module;\n",
       "    else module = {}\n",
       "\n",
       "    var tag = document.createElement('script');\n",
       "    tag.src = uri;\n",
       "    tag.async = true;\n",
       "    tag.onload = () => {\n",
       "        exports = savedexports;\n",
       "        module = savedmodule;\n",
       "        resolve();\n",
       "    };\n",
       "  var firstScriptTag = document.getElementsByTagName('script')[0];\n",
       "  firstScriptTag.parentNode.insertBefore(tag, firstScriptTag);\n",
       "});\n",
       "};\n",
       "\n",
       "if(typeof $3Dmolpromise === 'undefined') {\n",
       "$3Dmolpromise = null;\n",
       "  $3Dmolpromise = loadScriptAsync('https://cdnjs.cloudflare.com/ajax/libs/3Dmol/2.1.0/3Dmol-min.js');\n",
       "}\n",
       "\n",
       "var viewer_171841143244315 = null;\n",
       "var warn = document.getElementById(\"3dmolwarning_171841143244315\");\n",
       "if(warn) {\n",
       "    warn.parentNode.removeChild(warn);\n",
       "}\n",
       "$3Dmolpromise.then(function() {\n",
       "viewer_171841143244315 = $3Dmol.createViewer(document.getElementById(\"3dmolviewer_171841143244315\"),{backgroundColor:\"white\"});\n",
       "viewer_171841143244315.zoomTo();\n",
       "\tviewer_171841143244315.addModel(\"\\n     RDKit          3D\\n\\n 25 24  0  0  0  0  0  0  0  0999 V2000\\n    4.9284    0.9829   -1.8420 C   0  0  0  0  0  0  0  0  0  0  0  0\\n    4.2692    0.9904   -1.3201 C   0  0  0  0  0  0  0  0  0  0  0  0\\n    3.0692    1.0156   -0.3419 C   0  0  0  0  0  0  0  0  0  0  0  0\\n    2.0141    0.4756   -1.0342 O   0  0  0  0  0  0  0  0  0  0  0  0\\n    0.7412    0.2202   -0.6528 C   0  0  0  0  0  0  0  0  0  0  0  0\\n   -0.2373   -0.3250   -1.4629 C   0  0  0  0  0  0  0  0  0  0  0  0\\n   -1.5092   -0.5933   -1.0383 C   0  0  0  0  0  0  0  0  0  0  0  0\\n   -1.8860   -0.3256    0.2531 C   0  0  0  0  0  0  0  0  0  0  0  0\\n   -3.2535   -0.7308    0.7509 C   0  0  0  0  0  0  0  0  0  0  0  0\\n   -3.5478   -0.2438    2.0698 N   0  0  0  0  0  0  0  0  0  0  0  0\\n   -0.9657    0.2208    1.1253 C   0  0  0  0  0  0  0  0  0  0  0  0\\n    0.3346    0.4869    0.6525 C   0  0  0  0  0  0  0  0  0  0  0  0\\n    0.6915    0.0000    0.0000 Cl  0  0  0  0  0  0  0  0  0  0  0  0\\n    6.0195    0.9582   -2.6914 H   0  0  0  0  0  0  0  0  0  0  0  0\\n    3.3562    0.5839    0.6222 H   0  0  0  0  0  0  0  0  0  0  0  0\\n    2.9083    2.1168   -0.1428 H   0  0  0  0  0  0  0  0  0  0  0  0\\n    0.0912   -0.5151   -2.5097 H   0  0  0  0  0  0  0  0  0  0  0  0\\n   -2.2572   -1.0467   -1.7397 H   0  0  0  0  0  0  0  0  0  0  0  0\\n   -3.2376   -1.8807    0.8343 H   0  0  0  0  0  0  0  0  0  0  0  0\\n   -4.0416   -0.4919   -0.0038 H   0  0  0  0  0  0  0  0  0  0  0  0\\n   -3.1336   -0.8318    2.7887 H   0  0  0  0  0  0  0  0  0  0  0  0\\n   -3.4626    0.7599    2.2220 H   0  0  0  0  0  0  0  0  0  0  0  0\\n   -1.2555    0.4545    2.1325 H   0  0  0  0  0  0  0  0  0  0  0  0\\n    1.0557    0.9089    1.3282 H   0  0  0  0  0  0  0  0  0  0  0  0\\n   -0.6915    0.0000    0.0000 H   0  0  0  0  0  0  0  0  0  0  0  0\\n  1  2  3  0\\n  2  3  1  0\\n  3  4  1  0\\n  4  5  1  0\\n  5  6  2  0\\n  6  7  1  0\\n  7  8  2  0\\n  8  9  1  0\\n  9 10  1  0\\n  8 11  1  0\\n 11 12  2  0\\n 12  5  1  0\\n  1 14  1  0\\n  3 15  1  0\\n  3 16  1  0\\n  6 17  1  0\\n  7 18  1  0\\n  9 19  1  0\\n  9 20  1  0\\n 10 21  1  0\\n 10 22  1  0\\n 11 23  1  0\\n 12 24  1  0\\n 13 25  1  0\\nM  END\\n\",\"mol\");\n",
       "\tviewer_171841143244315.setStyle({\"stick\": {}});\n",
       "\tviewer_171841143244315.zoomTo();\n",
       "viewer_171841143244315.render();\n",
       "});\n",
       "</script>"
      ]
     },
     "metadata": {},
     "output_type": "display_data"
    }
   ],
   "source": [
    "#Cleaning the smiles\n",
    "smi = example_row[\"buildingblock2_smiles\"][0].as_py()\n",
    "print(smi)\n",
    "show_mol(smi)  "
   ]
  },
  {
   "cell_type": "markdown",
   "metadata": {},
   "source": [
    "# 01 Molecular Features"
   ]
  },
  {
   "cell_type": "code",
   "execution_count": 63,
   "metadata": {},
   "outputs": [],
   "source": [
    "\n",
    "def clean_smi(smi):\n",
    "\n",
    "    # Remove [Dy] from smiles\n",
    "    smi = smi.replace(\"[Dy]\", \"\")\n",
    "\n",
    "    # Convert SMILES to a RDKit molecule object\n",
    "    mol = Chem.MolFromSmiles(smi)\n",
    "    if mol is None:\n",
    "        raise ValueError(\"Invalid SMILES string\")\n",
    "    \n",
    "    # Remove any salts or fragments\n",
    "    mol = Chem.RemoveHs(mol)  # Remove explicit hydrogens\n",
    "    fragments = Chem.GetMolFrags(mol, asMols=True)\n",
    "    \n",
    "    # Keep the largest fragment\n",
    "    largest_fragment = max(fragments, default=mol, key=lambda m: m.GetNumAtoms())\n",
    "    \n",
    "    # Standardize the molecule\n",
    "    AllChem.Compute2DCoords(largest_fragment)  # Compute 2D coordinates\n",
    "    \n",
    "    # Convert the molecule back to a canonical SMILES string\n",
    "    cleaned_smiles = Chem.MolToSmiles(largest_fragment, canonical=True)\n",
    "    return cleaned_smiles\n",
    "        "
   ]
  },
  {
   "cell_type": "code",
   "execution_count": 64,
   "metadata": {},
   "outputs": [
    {
     "name": "stdout",
     "output_type": "stream",
     "text": [
      "Original: C#CCOc1ccc(CN)cc1.Cl\n",
      "Cleaned:  C#CCOc1ccc(CN)cc1\n"
     ]
    },
    {
     "data": {
      "application/3dmoljs_load.v0": "<div id=\"3dmolviewer_17184115885247061\"  style=\"position: relative; width: 500px; height: 500px;\">\n        <p id=\"3dmolwarning_17184115885247061\" style=\"background-color:#ffcccc;color:black\">3Dmol.js failed to load for some reason.  Please check your browser console for error messages.<br></p>\n        </div>\n<script>\n\nvar loadScriptAsync = function(uri){\n  return new Promise((resolve, reject) => {\n    //this is to ignore the existence of requirejs amd\n    var savedexports, savedmodule;\n    if (typeof exports !== 'undefined') savedexports = exports;\n    else exports = {}\n    if (typeof module !== 'undefined') savedmodule = module;\n    else module = {}\n\n    var tag = document.createElement('script');\n    tag.src = uri;\n    tag.async = true;\n    tag.onload = () => {\n        exports = savedexports;\n        module = savedmodule;\n        resolve();\n    };\n  var firstScriptTag = document.getElementsByTagName('script')[0];\n  firstScriptTag.parentNode.insertBefore(tag, firstScriptTag);\n});\n};\n\nif(typeof $3Dmolpromise === 'undefined') {\n$3Dmolpromise = null;\n  $3Dmolpromise = loadScriptAsync('https://cdnjs.cloudflare.com/ajax/libs/3Dmol/2.1.0/3Dmol-min.js');\n}\n\nvar viewer_17184115885247061 = null;\nvar warn = document.getElementById(\"3dmolwarning_17184115885247061\");\nif(warn) {\n    warn.parentNode.removeChild(warn);\n}\n$3Dmolpromise.then(function() {\nviewer_17184115885247061 = $3Dmol.createViewer(document.getElementById(\"3dmolviewer_17184115885247061\"),{backgroundColor:\"white\"});\nviewer_17184115885247061.zoomTo();\n\tviewer_17184115885247061.addModel(\"\\n     RDKit          3D\\n\\n 23 23  0  0  0  0  0  0  0  0999 V2000\\n    4.9698   -1.8926    2.0181 C   0  0  0  0  0  0  0  0  0  0  0  0\\n    3.8246   -1.8096    1.6650 C   0  0  0  0  0  0  0  0  0  0  0  0\\n    2.4230   -1.7082    1.2327 C   0  0  0  0  0  0  0  0  0  0  0  0\\n    2.1724   -0.3783    0.7830 O   0  0  0  0  0  0  0  0  0  0  0  0\\n    0.9121   -0.0985    0.3321 C   0  0  0  0  0  0  0  0  0  0  0  0\\n   -0.1622   -0.9866    0.2831 C   0  0  0  0  0  0  0  0  0  0  0  0\\n   -1.4041   -0.5623   -0.2045 C   0  0  0  0  0  0  0  0  0  0  0  0\\n   -1.5866    0.7519   -0.6557 C   0  0  0  0  0  0  0  0  0  0  0  0\\n   -2.9315    1.2123   -1.1549 C   0  0  0  0  0  0  0  0  0  0  0  0\\n   -3.7448    1.7441   -0.0682 N   0  0  0  0  0  0  0  0  0  0  0  0\\n   -0.5070    1.6406   -0.5951 C   0  0  0  0  0  0  0  0  0  0  0  0\\n    0.7309    1.2146   -0.1078 C   0  0  0  0  0  0  0  0  0  0  0  0\\n    5.9869   -1.9581    2.3293 H   0  0  0  0  0  0  0  0  0  0  0  0\\n    2.2474   -2.4204    0.4178 H   0  0  0  0  0  0  0  0  0  0  0  0\\n    1.7694   -1.9479    2.0798 H   0  0  0  0  0  0  0  0  0  0  0  0\\n   -0.0748   -2.0152    0.6162 H   0  0  0  0  0  0  0  0  0  0  0  0\\n   -2.2323   -1.2677   -0.2313 H   0  0  0  0  0  0  0  0  0  0  0  0\\n   -3.4594    0.3801   -1.6348 H   0  0  0  0  0  0  0  0  0  0  0  0\\n   -2.8036    1.9793   -1.9274 H   0  0  0  0  0  0  0  0  0  0  0  0\\n   -3.8351    1.0291    0.6524 H   0  0  0  0  0  0  0  0  0  0  0  0\\n   -3.2370    2.5097    0.3736 H   0  0  0  0  0  0  0  0  0  0  0  0\\n   -0.6212    2.6699   -0.9276 H   0  0  0  0  0  0  0  0  0  0  0  0\\n    1.5631    1.9139   -0.0696 H   0  0  0  0  0  0  0  0  0  0  0  0\\n  1  2  3  0\\n  2  3  1  0\\n  3  4  1  0\\n  4  5  1  0\\n  5  6  2  0\\n  6  7  1  0\\n  7  8  2  0\\n  8  9  1  0\\n  9 10  1  0\\n  8 11  1  0\\n 11 12  2  0\\n 12  5  1  0\\n  1 13  1  0\\n  3 14  1  0\\n  3 15  1  0\\n  6 16  1  0\\n  7 17  1  0\\n  9 18  1  0\\n  9 19  1  0\\n 10 20  1  0\\n 10 21  1  0\\n 11 22  1  0\\n 12 23  1  0\\nM  END\\n\",\"mol\");\n\tviewer_17184115885247061.setStyle({\"stick\": {}});\n\tviewer_17184115885247061.zoomTo();\nviewer_17184115885247061.render();\n});\n</script>",
      "text/html": [
       "<div id=\"3dmolviewer_17184115885247061\"  style=\"position: relative; width: 500px; height: 500px;\">\n",
       "        <p id=\"3dmolwarning_17184115885247061\" style=\"background-color:#ffcccc;color:black\">3Dmol.js failed to load for some reason.  Please check your browser console for error messages.<br></p>\n",
       "        </div>\n",
       "<script>\n",
       "\n",
       "var loadScriptAsync = function(uri){\n",
       "  return new Promise((resolve, reject) => {\n",
       "    //this is to ignore the existence of requirejs amd\n",
       "    var savedexports, savedmodule;\n",
       "    if (typeof exports !== 'undefined') savedexports = exports;\n",
       "    else exports = {}\n",
       "    if (typeof module !== 'undefined') savedmodule = module;\n",
       "    else module = {}\n",
       "\n",
       "    var tag = document.createElement('script');\n",
       "    tag.src = uri;\n",
       "    tag.async = true;\n",
       "    tag.onload = () => {\n",
       "        exports = savedexports;\n",
       "        module = savedmodule;\n",
       "        resolve();\n",
       "    };\n",
       "  var firstScriptTag = document.getElementsByTagName('script')[0];\n",
       "  firstScriptTag.parentNode.insertBefore(tag, firstScriptTag);\n",
       "});\n",
       "};\n",
       "\n",
       "if(typeof $3Dmolpromise === 'undefined') {\n",
       "$3Dmolpromise = null;\n",
       "  $3Dmolpromise = loadScriptAsync('https://cdnjs.cloudflare.com/ajax/libs/3Dmol/2.1.0/3Dmol-min.js');\n",
       "}\n",
       "\n",
       "var viewer_17184115885247061 = null;\n",
       "var warn = document.getElementById(\"3dmolwarning_17184115885247061\");\n",
       "if(warn) {\n",
       "    warn.parentNode.removeChild(warn);\n",
       "}\n",
       "$3Dmolpromise.then(function() {\n",
       "viewer_17184115885247061 = $3Dmol.createViewer(document.getElementById(\"3dmolviewer_17184115885247061\"),{backgroundColor:\"white\"});\n",
       "viewer_17184115885247061.zoomTo();\n",
       "\tviewer_17184115885247061.addModel(\"\\n     RDKit          3D\\n\\n 23 23  0  0  0  0  0  0  0  0999 V2000\\n    4.9698   -1.8926    2.0181 C   0  0  0  0  0  0  0  0  0  0  0  0\\n    3.8246   -1.8096    1.6650 C   0  0  0  0  0  0  0  0  0  0  0  0\\n    2.4230   -1.7082    1.2327 C   0  0  0  0  0  0  0  0  0  0  0  0\\n    2.1724   -0.3783    0.7830 O   0  0  0  0  0  0  0  0  0  0  0  0\\n    0.9121   -0.0985    0.3321 C   0  0  0  0  0  0  0  0  0  0  0  0\\n   -0.1622   -0.9866    0.2831 C   0  0  0  0  0  0  0  0  0  0  0  0\\n   -1.4041   -0.5623   -0.2045 C   0  0  0  0  0  0  0  0  0  0  0  0\\n   -1.5866    0.7519   -0.6557 C   0  0  0  0  0  0  0  0  0  0  0  0\\n   -2.9315    1.2123   -1.1549 C   0  0  0  0  0  0  0  0  0  0  0  0\\n   -3.7448    1.7441   -0.0682 N   0  0  0  0  0  0  0  0  0  0  0  0\\n   -0.5070    1.6406   -0.5951 C   0  0  0  0  0  0  0  0  0  0  0  0\\n    0.7309    1.2146   -0.1078 C   0  0  0  0  0  0  0  0  0  0  0  0\\n    5.9869   -1.9581    2.3293 H   0  0  0  0  0  0  0  0  0  0  0  0\\n    2.2474   -2.4204    0.4178 H   0  0  0  0  0  0  0  0  0  0  0  0\\n    1.7694   -1.9479    2.0798 H   0  0  0  0  0  0  0  0  0  0  0  0\\n   -0.0748   -2.0152    0.6162 H   0  0  0  0  0  0  0  0  0  0  0  0\\n   -2.2323   -1.2677   -0.2313 H   0  0  0  0  0  0  0  0  0  0  0  0\\n   -3.4594    0.3801   -1.6348 H   0  0  0  0  0  0  0  0  0  0  0  0\\n   -2.8036    1.9793   -1.9274 H   0  0  0  0  0  0  0  0  0  0  0  0\\n   -3.8351    1.0291    0.6524 H   0  0  0  0  0  0  0  0  0  0  0  0\\n   -3.2370    2.5097    0.3736 H   0  0  0  0  0  0  0  0  0  0  0  0\\n   -0.6212    2.6699   -0.9276 H   0  0  0  0  0  0  0  0  0  0  0  0\\n    1.5631    1.9139   -0.0696 H   0  0  0  0  0  0  0  0  0  0  0  0\\n  1  2  3  0\\n  2  3  1  0\\n  3  4  1  0\\n  4  5  1  0\\n  5  6  2  0\\n  6  7  1  0\\n  7  8  2  0\\n  8  9  1  0\\n  9 10  1  0\\n  8 11  1  0\\n 11 12  2  0\\n 12  5  1  0\\n  1 13  1  0\\n  3 14  1  0\\n  3 15  1  0\\n  6 16  1  0\\n  7 17  1  0\\n  9 18  1  0\\n  9 19  1  0\\n 10 20  1  0\\n 10 21  1  0\\n 11 22  1  0\\n 12 23  1  0\\nM  END\\n\",\"mol\");\n",
       "\tviewer_17184115885247061.setStyle({\"stick\": {}});\n",
       "\tviewer_17184115885247061.zoomTo();\n",
       "viewer_17184115885247061.render();\n",
       "});\n",
       "</script>"
      ]
     },
     "metadata": {},
     "output_type": "display_data"
    }
   ],
   "source": [
    "smi = example_row[\"buildingblock2_smiles\"][0].as_py()\n",
    "print(f\"Original: {smi}\")\n",
    "smi = clean_smi(smi)\n",
    "print(f\"Cleaned:  {smi}\")\n",
    "show_mol(smi)\n",
    "        "
   ]
  },
  {
   "cell_type": "code",
   "execution_count": 65,
   "metadata": {},
   "outputs": [
    {
     "name": "stdout",
     "output_type": "stream",
     "text": [
      "Original: Br.Br.NCC1CCCN1c1cccnn1\n",
      "Cleaned:  NCC1CCCN1c1cccnn1\n"
     ]
    },
    {
     "data": {
      "application/3dmoljs_load.v0": "<div id=\"3dmolviewer_1718411611146293\"  style=\"position: relative; width: 500px; height: 500px;\">\n        <p id=\"3dmolwarning_1718411611146293\" style=\"background-color:#ffcccc;color:black\">3Dmol.js failed to load for some reason.  Please check your browser console for error messages.<br></p>\n        </div>\n<script>\n\nvar loadScriptAsync = function(uri){\n  return new Promise((resolve, reject) => {\n    //this is to ignore the existence of requirejs amd\n    var savedexports, savedmodule;\n    if (typeof exports !== 'undefined') savedexports = exports;\n    else exports = {}\n    if (typeof module !== 'undefined') savedmodule = module;\n    else module = {}\n\n    var tag = document.createElement('script');\n    tag.src = uri;\n    tag.async = true;\n    tag.onload = () => {\n        exports = savedexports;\n        module = savedmodule;\n        resolve();\n    };\n  var firstScriptTag = document.getElementsByTagName('script')[0];\n  firstScriptTag.parentNode.insertBefore(tag, firstScriptTag);\n});\n};\n\nif(typeof $3Dmolpromise === 'undefined') {\n$3Dmolpromise = null;\n  $3Dmolpromise = loadScriptAsync('https://cdnjs.cloudflare.com/ajax/libs/3Dmol/2.1.0/3Dmol-min.js');\n}\n\nvar viewer_1718411611146293 = null;\nvar warn = document.getElementById(\"3dmolwarning_1718411611146293\");\nif(warn) {\n    warn.parentNode.removeChild(warn);\n}\n$3Dmolpromise.then(function() {\nviewer_1718411611146293 = $3Dmol.createViewer(document.getElementById(\"3dmolviewer_1718411611146293\"),{backgroundColor:\"white\"});\nviewer_1718411611146293.zoomTo();\n\tviewer_1718411611146293.addModel(\"\\n     RDKit          3D\\n\\n 27 28  0  0  0  0  0  0  0  0999 V2000\\n   -2.9399    1.8618   -0.3857 N   0  0  0  0  0  0  0  0  0  0  0  0\\n   -1.6786    1.3802    0.1911 C   0  0  0  0  0  0  0  0  0  0  0  0\\n   -1.0626    0.1590   -0.5373 C   0  0  0  0  0  0  0  0  0  0  0  0\\n   -1.9807   -1.0792   -0.5562 C   0  0  0  0  0  0  0  0  0  0  0  0\\n   -1.5664   -1.8604    0.6797 C   0  0  0  0  0  0  0  0  0  0  0  0\\n   -0.0547   -1.6733    0.6968 C   0  0  0  0  0  0  0  0  0  0  0  0\\n    0.1270   -0.3152    0.2023 N   0  0  0  0  0  0  0  0  0  0  0  0\\n    1.3698    0.1913   -0.1301 C   0  0  0  0  0  0  0  0  0  0  0  0\\n    2.5446   -0.3301    0.4041 C   0  0  0  0  0  0  0  0  0  0  0  0\\n    3.7811    0.2185    0.0659 C   0  0  0  0  0  0  0  0  0  0  0  0\\n    3.8050    1.2879   -0.7992 C   0  0  0  0  0  0  0  0  0  0  0  0\\n    2.6792    1.8050   -1.3103 N   0  0  0  0  0  0  0  0  0  0  0  0\\n    1.4642    1.2523   -0.9634 N   0  0  0  0  0  0  0  0  0  0  0  0\\n   -3.6920    1.2167   -0.1516 H   0  0  0  0  0  0  0  0  0  0  0  0\\n   -3.1824    2.7467    0.0593 H   0  0  0  0  0  0  0  0  0  0  0  0\\n   -0.9590    2.2069    0.1676 H   0  0  0  0  0  0  0  0  0  0  0  0\\n   -1.8444    1.1479    1.2501 H   0  0  0  0  0  0  0  0  0  0  0  0\\n   -0.8330    0.4274   -1.5769 H   0  0  0  0  0  0  0  0  0  0  0  0\\n   -1.7614   -1.6783   -1.4495 H   0  0  0  0  0  0  0  0  0  0  0  0\\n   -3.0494   -0.8527   -0.5682 H   0  0  0  0  0  0  0  0  0  0  0  0\\n   -2.0168   -1.4176    1.5759 H   0  0  0  0  0  0  0  0  0  0  0  0\\n   -1.8563   -2.9138    0.6330 H   0  0  0  0  0  0  0  0  0  0  0  0\\n    0.3390   -1.8032    1.7100 H   0  0  0  0  0  0  0  0  0  0  0  0\\n    0.4218   -2.3988    0.0262 H   0  0  0  0  0  0  0  0  0  0  0  0\\n    2.5198   -1.1616    1.0984 H   0  0  0  0  0  0  0  0  0  0  0  0\\n    4.6994   -0.1830    0.4776 H   0  0  0  0  0  0  0  0  0  0  0  0\\n    4.7269    1.7656   -1.1064 H   0  0  0  0  0  0  0  0  0  0  0  0\\n  1  2  1  0\\n  2  3  1  0\\n  3  4  1  0\\n  4  5  1  0\\n  5  6  1  0\\n  6  7  1  0\\n  7  8  1  0\\n  8  9  2  0\\n  9 10  1  0\\n 10 11  2  0\\n 11 12  1  0\\n 12 13  2  0\\n  7  3  1  0\\n 13  8  1  0\\n  1 14  1  0\\n  1 15  1  0\\n  2 16  1  0\\n  2 17  1  0\\n  3 18  1  0\\n  4 19  1  0\\n  4 20  1  0\\n  5 21  1  0\\n  5 22  1  0\\n  6 23  1  0\\n  6 24  1  0\\n  9 25  1  0\\n 10 26  1  0\\n 11 27  1  0\\nM  END\\n\",\"mol\");\n\tviewer_1718411611146293.setStyle({\"stick\": {}});\n\tviewer_1718411611146293.zoomTo();\nviewer_1718411611146293.render();\n});\n</script>",
      "text/html": [
       "<div id=\"3dmolviewer_1718411611146293\"  style=\"position: relative; width: 500px; height: 500px;\">\n",
       "        <p id=\"3dmolwarning_1718411611146293\" style=\"background-color:#ffcccc;color:black\">3Dmol.js failed to load for some reason.  Please check your browser console for error messages.<br></p>\n",
       "        </div>\n",
       "<script>\n",
       "\n",
       "var loadScriptAsync = function(uri){\n",
       "  return new Promise((resolve, reject) => {\n",
       "    //this is to ignore the existence of requirejs amd\n",
       "    var savedexports, savedmodule;\n",
       "    if (typeof exports !== 'undefined') savedexports = exports;\n",
       "    else exports = {}\n",
       "    if (typeof module !== 'undefined') savedmodule = module;\n",
       "    else module = {}\n",
       "\n",
       "    var tag = document.createElement('script');\n",
       "    tag.src = uri;\n",
       "    tag.async = true;\n",
       "    tag.onload = () => {\n",
       "        exports = savedexports;\n",
       "        module = savedmodule;\n",
       "        resolve();\n",
       "    };\n",
       "  var firstScriptTag = document.getElementsByTagName('script')[0];\n",
       "  firstScriptTag.parentNode.insertBefore(tag, firstScriptTag);\n",
       "});\n",
       "};\n",
       "\n",
       "if(typeof $3Dmolpromise === 'undefined') {\n",
       "$3Dmolpromise = null;\n",
       "  $3Dmolpromise = loadScriptAsync('https://cdnjs.cloudflare.com/ajax/libs/3Dmol/2.1.0/3Dmol-min.js');\n",
       "}\n",
       "\n",
       "var viewer_1718411611146293 = null;\n",
       "var warn = document.getElementById(\"3dmolwarning_1718411611146293\");\n",
       "if(warn) {\n",
       "    warn.parentNode.removeChild(warn);\n",
       "}\n",
       "$3Dmolpromise.then(function() {\n",
       "viewer_1718411611146293 = $3Dmol.createViewer(document.getElementById(\"3dmolviewer_1718411611146293\"),{backgroundColor:\"white\"});\n",
       "viewer_1718411611146293.zoomTo();\n",
       "\tviewer_1718411611146293.addModel(\"\\n     RDKit          3D\\n\\n 27 28  0  0  0  0  0  0  0  0999 V2000\\n   -2.9399    1.8618   -0.3857 N   0  0  0  0  0  0  0  0  0  0  0  0\\n   -1.6786    1.3802    0.1911 C   0  0  0  0  0  0  0  0  0  0  0  0\\n   -1.0626    0.1590   -0.5373 C   0  0  0  0  0  0  0  0  0  0  0  0\\n   -1.9807   -1.0792   -0.5562 C   0  0  0  0  0  0  0  0  0  0  0  0\\n   -1.5664   -1.8604    0.6797 C   0  0  0  0  0  0  0  0  0  0  0  0\\n   -0.0547   -1.6733    0.6968 C   0  0  0  0  0  0  0  0  0  0  0  0\\n    0.1270   -0.3152    0.2023 N   0  0  0  0  0  0  0  0  0  0  0  0\\n    1.3698    0.1913   -0.1301 C   0  0  0  0  0  0  0  0  0  0  0  0\\n    2.5446   -0.3301    0.4041 C   0  0  0  0  0  0  0  0  0  0  0  0\\n    3.7811    0.2185    0.0659 C   0  0  0  0  0  0  0  0  0  0  0  0\\n    3.8050    1.2879   -0.7992 C   0  0  0  0  0  0  0  0  0  0  0  0\\n    2.6792    1.8050   -1.3103 N   0  0  0  0  0  0  0  0  0  0  0  0\\n    1.4642    1.2523   -0.9634 N   0  0  0  0  0  0  0  0  0  0  0  0\\n   -3.6920    1.2167   -0.1516 H   0  0  0  0  0  0  0  0  0  0  0  0\\n   -3.1824    2.7467    0.0593 H   0  0  0  0  0  0  0  0  0  0  0  0\\n   -0.9590    2.2069    0.1676 H   0  0  0  0  0  0  0  0  0  0  0  0\\n   -1.8444    1.1479    1.2501 H   0  0  0  0  0  0  0  0  0  0  0  0\\n   -0.8330    0.4274   -1.5769 H   0  0  0  0  0  0  0  0  0  0  0  0\\n   -1.7614   -1.6783   -1.4495 H   0  0  0  0  0  0  0  0  0  0  0  0\\n   -3.0494   -0.8527   -0.5682 H   0  0  0  0  0  0  0  0  0  0  0  0\\n   -2.0168   -1.4176    1.5759 H   0  0  0  0  0  0  0  0  0  0  0  0\\n   -1.8563   -2.9138    0.6330 H   0  0  0  0  0  0  0  0  0  0  0  0\\n    0.3390   -1.8032    1.7100 H   0  0  0  0  0  0  0  0  0  0  0  0\\n    0.4218   -2.3988    0.0262 H   0  0  0  0  0  0  0  0  0  0  0  0\\n    2.5198   -1.1616    1.0984 H   0  0  0  0  0  0  0  0  0  0  0  0\\n    4.6994   -0.1830    0.4776 H   0  0  0  0  0  0  0  0  0  0  0  0\\n    4.7269    1.7656   -1.1064 H   0  0  0  0  0  0  0  0  0  0  0  0\\n  1  2  1  0\\n  2  3  1  0\\n  3  4  1  0\\n  4  5  1  0\\n  5  6  1  0\\n  6  7  1  0\\n  7  8  1  0\\n  8  9  2  0\\n  9 10  1  0\\n 10 11  2  0\\n 11 12  1  0\\n 12 13  2  0\\n  7  3  1  0\\n 13  8  1  0\\n  1 14  1  0\\n  1 15  1  0\\n  2 16  1  0\\n  2 17  1  0\\n  3 18  1  0\\n  4 19  1  0\\n  4 20  1  0\\n  5 21  1  0\\n  5 22  1  0\\n  6 23  1  0\\n  6 24  1  0\\n  9 25  1  0\\n 10 26  1  0\\n 11 27  1  0\\nM  END\\n\",\"mol\");\n",
       "\tviewer_1718411611146293.setStyle({\"stick\": {}});\n",
       "\tviewer_1718411611146293.zoomTo();\n",
       "viewer_1718411611146293.render();\n",
       "});\n",
       "</script>"
      ]
     },
     "metadata": {},
     "output_type": "display_data"
    }
   ],
   "source": [
    "smi = example_row[\"buildingblock3_smiles\"][0].as_py()\n",
    "print(f\"Original: {smi}\")\n",
    "smi = clean_smi(smi)\n",
    "print(f\"Cleaned:  {smi}\")\n",
    "show_mol(smi)\n",
    "        "
   ]
  },
  {
   "cell_type": "code",
   "execution_count": 66,
   "metadata": {},
   "outputs": [],
   "source": [
    "#Querying data\n",
    "import pyarrow.compute as pc\n",
    "condition = (pc.field(\"binds\") == 1)\n",
    "query = data_train.scanner(filter=condition)\n",
    "        "
   ]
  },
  {
   "cell_type": "code",
   "execution_count": 67,
   "metadata": {},
   "outputs": [
    {
     "name": "stdout",
     "output_type": "stream",
     "text": [
      "pyarrow.Table\n",
      "id: int64\n",
      "buildingblock1_smiles: string\n",
      "buildingblock2_smiles: string\n",
      "buildingblock3_smiles: string\n",
      "molecule_smiles: string\n",
      "protein_name: string\n",
      "binds: int64\n",
      "----\n",
      "id: [[466]]\n",
      "buildingblock1_smiles: [[\"C#CC[C@@H](CC(=O)O)NC(=O)OCC1c2ccccc2-c2ccccc21\"]]\n",
      "buildingblock2_smiles: [[\"C#CCOc1ccc(CN)cc1.Cl\"]]\n",
      "buildingblock3_smiles: [[\"Cc1cc2cc(CN)ccc2[nH]1\"]]\n",
      "molecule_smiles: [[\"C#CCOc1ccc(CNc2nc(NCc3ccc4[nH]c(C)cc4c3)nc(N[C@@H](CC#C)CC(=O)N[Dy])n2)cc1\"]]\n",
      "protein_name: [[\"HSA\"]]\n",
      "binds: [[1]]\n"
     ]
    }
   ],
   "source": [
    "example_row_binds = query.head(num_rows=1)\n",
    "print(example_row_binds)\n",
    "        "
   ]
  },
  {
   "cell_type": "code",
   "execution_count": 68,
   "metadata": {},
   "outputs": [
    {
     "name": "stdout",
     "output_type": "stream",
     "text": [
      "Original: C#CCOc1ccc(CNc2nc(NCc3ccc4[nH]c(C)cc4c3)nc(N[C@@H](CC#C)CC(=O)N[Dy])n2)cc1\n",
      "Cleaned:  C#CCOc1ccc(CNc2nc(NCc3ccc4[nH]c(C)cc4c3)nc(N[C@@H](CC#C)CC(N)=O)n2)cc1\n"
     ]
    },
    {
     "data": {
      "application/3dmoljs_load.v0": "<div id=\"3dmolviewer_1718411776734266\"  style=\"position: relative; width: 500px; height: 500px;\">\n        <p id=\"3dmolwarning_1718411776734266\" style=\"background-color:#ffcccc;color:black\">3Dmol.js failed to load for some reason.  Please check your browser console for error messages.<br></p>\n        </div>\n<script>\n\nvar loadScriptAsync = function(uri){\n  return new Promise((resolve, reject) => {\n    //this is to ignore the existence of requirejs amd\n    var savedexports, savedmodule;\n    if (typeof exports !== 'undefined') savedexports = exports;\n    else exports = {}\n    if (typeof module !== 'undefined') savedmodule = module;\n    else module = {}\n\n    var tag = document.createElement('script');\n    tag.src = uri;\n    tag.async = true;\n    tag.onload = () => {\n        exports = savedexports;\n        module = savedmodule;\n        resolve();\n    };\n  var firstScriptTag = document.getElementsByTagName('script')[0];\n  firstScriptTag.parentNode.insertBefore(tag, firstScriptTag);\n});\n};\n\nif(typeof $3Dmolpromise === 'undefined') {\n$3Dmolpromise = null;\n  $3Dmolpromise = loadScriptAsync('https://cdnjs.cloudflare.com/ajax/libs/3Dmol/2.1.0/3Dmol-min.js');\n}\n\nvar viewer_1718411776734266 = null;\nvar warn = document.getElementById(\"3dmolwarning_1718411776734266\");\nif(warn) {\n    warn.parentNode.removeChild(warn);\n}\n$3Dmolpromise.then(function() {\nviewer_1718411776734266 = $3Dmol.createViewer(document.getElementById(\"3dmolviewer_1718411776734266\"),{backgroundColor:\"white\"});\nviewer_1718411776734266.zoomTo();\n\tviewer_1718411776734266.addModel(\"\\n     RDKit          3D\\n\\n 69 72  0  0  0  0  0  0  0  0999 V2000\\n    9.0570   -4.6425    0.6299 C   0  0  0  0  0  0  0  0  0  0  0  0\\n    8.7257   -3.5377    0.9660 C   0  0  0  0  0  0  0  0  0  0  0  0\\n    8.3159   -2.1879    1.3772 C   0  0  0  0  0  0  0  0  0  0  0  0\\n    7.0936   -2.2208    2.1192 O   0  0  0  0  0  0  0  0  0  0  0  0\\n    5.9266   -2.0524    1.4261 C   0  0  0  0  0  0  0  0  0  0  0  0\\n    5.7489   -2.2657    0.0594 C   0  0  0  0  0  0  0  0  0  0  0  0\\n    4.4939   -2.0621   -0.5247 C   0  0  0  0  0  0  0  0  0  0  0  0\\n    3.3968   -1.6563    0.2492 C   0  0  0  0  0  0  0  0  0  0  0  0\\n    2.0549   -1.4090   -0.4011 C   0  0  0  0  0  0  0  0  0  0  0  0\\n    2.1116   -0.1538   -1.1184 N   0  0  0  0  0  0  0  0  0  0  0  0\\n    0.8972    0.2963   -1.6133 C   0  0  0  0  0  0  0  0  0  0  0  0\\n   -0.0227   -0.5668   -2.0184 N   0  0  0  0  0  0  0  0  0  0  0  0\\n   -1.1415   -0.0360   -2.4875 C   0  0  0  0  0  0  0  0  0  0  0  0\\n   -2.1029   -0.9439   -2.9103 N   0  0  0  0  0  0  0  0  0  0  0  0\\n   -3.4797   -0.5988   -2.6128 C   0  0  0  0  0  0  0  0  0  0  0  0\\n   -3.8524   -1.0219   -1.2087 C   0  0  0  0  0  0  0  0  0  0  0  0\\n   -3.6705   -0.1473   -0.1292 C   0  0  0  0  0  0  0  0  0  0  0  0\\n   -3.9800   -0.5268    1.1819 C   0  0  0  0  0  0  0  0  0  0  0  0\\n   -4.4847   -1.8162    1.3810 C   0  0  0  0  0  0  0  0  0  0  0  0\\n   -4.8689   -2.4533    2.5400 N   0  0  0  0  0  0  0  0  0  0  0  0\\n   -5.3048   -3.7273    2.2679 C   0  0  0  0  0  0  0  0  0  0  0  0\\n   -5.7802   -4.6383    3.3371 C   0  0  0  0  0  0  0  0  0  0  0  0\\n   -5.1974   -3.9126    0.9046 C   0  0  0  0  0  0  0  0  0  0  0  0\\n   -4.6790   -2.7165    0.3362 C   0  0  0  0  0  0  0  0  0  0  0  0\\n   -4.3506   -2.3175   -0.9748 C   0  0  0  0  0  0  0  0  0  0  0  0\\n   -1.3725    1.2677   -2.5670 N   0  0  0  0  0  0  0  0  0  0  0  0\\n   -0.3935    2.0509   -2.1457 C   0  0  0  0  0  0  0  0  0  0  0  0\\n   -0.6314    3.4102   -2.2442 N   0  0  0  0  0  0  0  0  0  0  0  0\\n   -0.0636    4.2877   -1.2116 C   0  0  1  0  0  0  0  0  0  0  0  0\\n   -0.0409    5.7411   -1.7475 C   0  0  0  0  0  0  0  0  0  0  0  0\\n   -1.3814    6.2864   -2.0436 C   0  0  0  0  0  0  0  0  0  0  0  0\\n   -2.4568    6.7455   -2.3153 C   0  0  0  0  0  0  0  0  0  0  0  0\\n   -0.8547    4.1496    0.1006 C   0  0  0  0  0  0  0  0  0  0  0  0\\n   -0.1950    4.8879    1.2415 C   0  0  0  0  0  0  0  0  0  0  0  0\\n   -0.9929    5.0724    2.3338 N   0  0  0  0  0  0  0  0  0  0  0  0\\n    0.9678    5.2710    1.2447 O   0  0  0  0  0  0  0  0  0  0  0  0\\n    0.7460    1.6106   -1.6368 N   0  0  0  0  0  0  0  0  0  0  0  0\\n    3.5812   -1.4495    1.6219 C   0  0  0  0  0  0  0  0  0  0  0  0\\n    4.8348   -1.6570    2.2033 C   0  0  0  0  0  0  0  0  0  0  0  0\\n    9.3473   -5.6239    0.3334 H   0  0  0  0  0  0  0  0  0  0  0  0\\n    8.2680   -1.4890    0.5338 H   0  0  0  0  0  0  0  0  0  0  0  0\\n    9.0749   -1.7830    2.0562 H   0  0  0  0  0  0  0  0  0  0  0  0\\n    6.5603   -2.5996   -0.5793 H   0  0  0  0  0  0  0  0  0  0  0  0\\n    4.3727   -2.2171   -1.5962 H   0  0  0  0  0  0  0  0  0  0  0  0\\n    1.8332   -2.2429   -1.0782 H   0  0  0  0  0  0  0  0  0  0  0  0\\n    1.2704   -1.3937    0.3666 H   0  0  0  0  0  0  0  0  0  0  0  0\\n    2.5382    0.6155   -0.6146 H   0  0  0  0  0  0  0  0  0  0  0  0\\n   -1.8156   -1.8495   -2.5551 H   0  0  0  0  0  0  0  0  0  0  0  0\\n   -3.7094    0.4624   -2.7720 H   0  0  0  0  0  0  0  0  0  0  0  0\\n   -4.1242   -1.1338   -3.3216 H   0  0  0  0  0  0  0  0  0  0  0  0\\n   -3.2727    0.8510   -0.3047 H   0  0  0  0  0  0  0  0  0  0  0  0\\n   -3.8298    0.1576    2.0098 H   0  0  0  0  0  0  0  0  0  0  0  0\\n   -4.8231   -2.0381    3.4597 H   0  0  0  0  0  0  0  0  0  0  0  0\\n   -5.8146   -5.6732    2.9818 H   0  0  0  0  0  0  0  0  0  0  0  0\\n   -5.1144   -4.6015    4.2061 H   0  0  0  0  0  0  0  0  0  0  0  0\\n   -6.7871   -4.3540    3.6600 H   0  0  0  0  0  0  0  0  0  0  0  0\\n   -5.4614   -4.8148    0.3677 H   0  0  0  0  0  0  0  0  0  0  0  0\\n   -4.4877   -3.0143   -1.7975 H   0  0  0  0  0  0  0  0  0  0  0  0\\n   -1.6083    3.5550   -2.4714 H   0  0  0  0  0  0  0  0  0  0  0  0\\n    0.9856    4.0162   -1.0351 H   0  0  0  0  0  0  0  0  0  0  0  0\\n    0.4624    6.4007   -1.0330 H   0  0  0  0  0  0  0  0  0  0  0  0\\n    0.5575    5.7701   -2.6674 H   0  0  0  0  0  0  0  0  0  0  0  0\\n   -3.4027    7.1615   -2.5751 H   0  0  0  0  0  0  0  0  0  0  0  0\\n   -1.8873    4.5008   -0.0178 H   0  0  0  0  0  0  0  0  0  0  0  0\\n   -0.9131    3.0962    0.4010 H   0  0  0  0  0  0  0  0  0  0  0  0\\n   -1.9891    4.9031    2.3212 H   0  0  0  0  0  0  0  0  0  0  0  0\\n   -0.6046    5.5994    3.1060 H   0  0  0  0  0  0  0  0  0  0  0  0\\n    2.7539   -1.1245    2.2489 H   0  0  0  0  0  0  0  0  0  0  0  0\\n    4.9666   -1.4963    3.2710 H   0  0  0  0  0  0  0  0  0  0  0  0\\n  1  2  3  0\\n  2  3  1  0\\n  3  4  1  0\\n  4  5  1  0\\n  5  6  2  0\\n  6  7  1  0\\n  7  8  2  0\\n  8  9  1  0\\n  9 10  1  0\\n 10 11  1  0\\n 11 12  2  0\\n 12 13  1  0\\n 13 14  1  0\\n 14 15  1  0\\n 15 16  1  0\\n 16 17  2  0\\n 17 18  1  0\\n 18 19  2  0\\n 19 20  1  0\\n 20 21  1  0\\n 21 22  1  0\\n 21 23  2  0\\n 23 24  1  0\\n 24 25  2  0\\n 13 26  2  0\\n 26 27  1  0\\n 27 28  1  0\\n 28 29  1  0\\n 29 30  1  0\\n 30 31  1  0\\n 31 32  3  0\\n 29 33  1  0\\n 33 34  1  0\\n 34 35  1  0\\n 34 36  2  0\\n 27 37  2  0\\n  8 38  1  0\\n 38 39  2  0\\n 39  5  1  0\\n 37 11  1  0\\n 25 16  1  0\\n 24 19  1  0\\n  1 40  1  0\\n  3 41  1  0\\n  3 42  1  0\\n  6 43  1  0\\n  7 44  1  0\\n  9 45  1  0\\n  9 46  1  0\\n 10 47  1  0\\n 14 48  1  0\\n 15 49  1  0\\n 15 50  1  0\\n 17 51  1  0\\n 18 52  1  0\\n 20 53  1  0\\n 22 54  1  0\\n 22 55  1  0\\n 22 56  1  0\\n 23 57  1  0\\n 25 58  1  0\\n 28 59  1  0\\n 29 60  1  1\\n 30 61  1  0\\n 30 62  1  0\\n 32 63  1  0\\n 33 64  1  0\\n 33 65  1  0\\n 35 66  1  0\\n 35 67  1  0\\n 38 68  1  0\\n 39 69  1  0\\nM  END\\n\",\"mol\");\n\tviewer_1718411776734266.setStyle({\"stick\": {}});\n\tviewer_1718411776734266.zoomTo();\nviewer_1718411776734266.render();\n});\n</script>",
      "text/html": [
       "<div id=\"3dmolviewer_1718411776734266\"  style=\"position: relative; width: 500px; height: 500px;\">\n",
       "        <p id=\"3dmolwarning_1718411776734266\" style=\"background-color:#ffcccc;color:black\">3Dmol.js failed to load for some reason.  Please check your browser console for error messages.<br></p>\n",
       "        </div>\n",
       "<script>\n",
       "\n",
       "var loadScriptAsync = function(uri){\n",
       "  return new Promise((resolve, reject) => {\n",
       "    //this is to ignore the existence of requirejs amd\n",
       "    var savedexports, savedmodule;\n",
       "    if (typeof exports !== 'undefined') savedexports = exports;\n",
       "    else exports = {}\n",
       "    if (typeof module !== 'undefined') savedmodule = module;\n",
       "    else module = {}\n",
       "\n",
       "    var tag = document.createElement('script');\n",
       "    tag.src = uri;\n",
       "    tag.async = true;\n",
       "    tag.onload = () => {\n",
       "        exports = savedexports;\n",
       "        module = savedmodule;\n",
       "        resolve();\n",
       "    };\n",
       "  var firstScriptTag = document.getElementsByTagName('script')[0];\n",
       "  firstScriptTag.parentNode.insertBefore(tag, firstScriptTag);\n",
       "});\n",
       "};\n",
       "\n",
       "if(typeof $3Dmolpromise === 'undefined') {\n",
       "$3Dmolpromise = null;\n",
       "  $3Dmolpromise = loadScriptAsync('https://cdnjs.cloudflare.com/ajax/libs/3Dmol/2.1.0/3Dmol-min.js');\n",
       "}\n",
       "\n",
       "var viewer_1718411776734266 = null;\n",
       "var warn = document.getElementById(\"3dmolwarning_1718411776734266\");\n",
       "if(warn) {\n",
       "    warn.parentNode.removeChild(warn);\n",
       "}\n",
       "$3Dmolpromise.then(function() {\n",
       "viewer_1718411776734266 = $3Dmol.createViewer(document.getElementById(\"3dmolviewer_1718411776734266\"),{backgroundColor:\"white\"});\n",
       "viewer_1718411776734266.zoomTo();\n",
       "\tviewer_1718411776734266.addModel(\"\\n     RDKit          3D\\n\\n 69 72  0  0  0  0  0  0  0  0999 V2000\\n    9.0570   -4.6425    0.6299 C   0  0  0  0  0  0  0  0  0  0  0  0\\n    8.7257   -3.5377    0.9660 C   0  0  0  0  0  0  0  0  0  0  0  0\\n    8.3159   -2.1879    1.3772 C   0  0  0  0  0  0  0  0  0  0  0  0\\n    7.0936   -2.2208    2.1192 O   0  0  0  0  0  0  0  0  0  0  0  0\\n    5.9266   -2.0524    1.4261 C   0  0  0  0  0  0  0  0  0  0  0  0\\n    5.7489   -2.2657    0.0594 C   0  0  0  0  0  0  0  0  0  0  0  0\\n    4.4939   -2.0621   -0.5247 C   0  0  0  0  0  0  0  0  0  0  0  0\\n    3.3968   -1.6563    0.2492 C   0  0  0  0  0  0  0  0  0  0  0  0\\n    2.0549   -1.4090   -0.4011 C   0  0  0  0  0  0  0  0  0  0  0  0\\n    2.1116   -0.1538   -1.1184 N   0  0  0  0  0  0  0  0  0  0  0  0\\n    0.8972    0.2963   -1.6133 C   0  0  0  0  0  0  0  0  0  0  0  0\\n   -0.0227   -0.5668   -2.0184 N   0  0  0  0  0  0  0  0  0  0  0  0\\n   -1.1415   -0.0360   -2.4875 C   0  0  0  0  0  0  0  0  0  0  0  0\\n   -2.1029   -0.9439   -2.9103 N   0  0  0  0  0  0  0  0  0  0  0  0\\n   -3.4797   -0.5988   -2.6128 C   0  0  0  0  0  0  0  0  0  0  0  0\\n   -3.8524   -1.0219   -1.2087 C   0  0  0  0  0  0  0  0  0  0  0  0\\n   -3.6705   -0.1473   -0.1292 C   0  0  0  0  0  0  0  0  0  0  0  0\\n   -3.9800   -0.5268    1.1819 C   0  0  0  0  0  0  0  0  0  0  0  0\\n   -4.4847   -1.8162    1.3810 C   0  0  0  0  0  0  0  0  0  0  0  0\\n   -4.8689   -2.4533    2.5400 N   0  0  0  0  0  0  0  0  0  0  0  0\\n   -5.3048   -3.7273    2.2679 C   0  0  0  0  0  0  0  0  0  0  0  0\\n   -5.7802   -4.6383    3.3371 C   0  0  0  0  0  0  0  0  0  0  0  0\\n   -5.1974   -3.9126    0.9046 C   0  0  0  0  0  0  0  0  0  0  0  0\\n   -4.6790   -2.7165    0.3362 C   0  0  0  0  0  0  0  0  0  0  0  0\\n   -4.3506   -2.3175   -0.9748 C   0  0  0  0  0  0  0  0  0  0  0  0\\n   -1.3725    1.2677   -2.5670 N   0  0  0  0  0  0  0  0  0  0  0  0\\n   -0.3935    2.0509   -2.1457 C   0  0  0  0  0  0  0  0  0  0  0  0\\n   -0.6314    3.4102   -2.2442 N   0  0  0  0  0  0  0  0  0  0  0  0\\n   -0.0636    4.2877   -1.2116 C   0  0  1  0  0  0  0  0  0  0  0  0\\n   -0.0409    5.7411   -1.7475 C   0  0  0  0  0  0  0  0  0  0  0  0\\n   -1.3814    6.2864   -2.0436 C   0  0  0  0  0  0  0  0  0  0  0  0\\n   -2.4568    6.7455   -2.3153 C   0  0  0  0  0  0  0  0  0  0  0  0\\n   -0.8547    4.1496    0.1006 C   0  0  0  0  0  0  0  0  0  0  0  0\\n   -0.1950    4.8879    1.2415 C   0  0  0  0  0  0  0  0  0  0  0  0\\n   -0.9929    5.0724    2.3338 N   0  0  0  0  0  0  0  0  0  0  0  0\\n    0.9678    5.2710    1.2447 O   0  0  0  0  0  0  0  0  0  0  0  0\\n    0.7460    1.6106   -1.6368 N   0  0  0  0  0  0  0  0  0  0  0  0\\n    3.5812   -1.4495    1.6219 C   0  0  0  0  0  0  0  0  0  0  0  0\\n    4.8348   -1.6570    2.2033 C   0  0  0  0  0  0  0  0  0  0  0  0\\n    9.3473   -5.6239    0.3334 H   0  0  0  0  0  0  0  0  0  0  0  0\\n    8.2680   -1.4890    0.5338 H   0  0  0  0  0  0  0  0  0  0  0  0\\n    9.0749   -1.7830    2.0562 H   0  0  0  0  0  0  0  0  0  0  0  0\\n    6.5603   -2.5996   -0.5793 H   0  0  0  0  0  0  0  0  0  0  0  0\\n    4.3727   -2.2171   -1.5962 H   0  0  0  0  0  0  0  0  0  0  0  0\\n    1.8332   -2.2429   -1.0782 H   0  0  0  0  0  0  0  0  0  0  0  0\\n    1.2704   -1.3937    0.3666 H   0  0  0  0  0  0  0  0  0  0  0  0\\n    2.5382    0.6155   -0.6146 H   0  0  0  0  0  0  0  0  0  0  0  0\\n   -1.8156   -1.8495   -2.5551 H   0  0  0  0  0  0  0  0  0  0  0  0\\n   -3.7094    0.4624   -2.7720 H   0  0  0  0  0  0  0  0  0  0  0  0\\n   -4.1242   -1.1338   -3.3216 H   0  0  0  0  0  0  0  0  0  0  0  0\\n   -3.2727    0.8510   -0.3047 H   0  0  0  0  0  0  0  0  0  0  0  0\\n   -3.8298    0.1576    2.0098 H   0  0  0  0  0  0  0  0  0  0  0  0\\n   -4.8231   -2.0381    3.4597 H   0  0  0  0  0  0  0  0  0  0  0  0\\n   -5.8146   -5.6732    2.9818 H   0  0  0  0  0  0  0  0  0  0  0  0\\n   -5.1144   -4.6015    4.2061 H   0  0  0  0  0  0  0  0  0  0  0  0\\n   -6.7871   -4.3540    3.6600 H   0  0  0  0  0  0  0  0  0  0  0  0\\n   -5.4614   -4.8148    0.3677 H   0  0  0  0  0  0  0  0  0  0  0  0\\n   -4.4877   -3.0143   -1.7975 H   0  0  0  0  0  0  0  0  0  0  0  0\\n   -1.6083    3.5550   -2.4714 H   0  0  0  0  0  0  0  0  0  0  0  0\\n    0.9856    4.0162   -1.0351 H   0  0  0  0  0  0  0  0  0  0  0  0\\n    0.4624    6.4007   -1.0330 H   0  0  0  0  0  0  0  0  0  0  0  0\\n    0.5575    5.7701   -2.6674 H   0  0  0  0  0  0  0  0  0  0  0  0\\n   -3.4027    7.1615   -2.5751 H   0  0  0  0  0  0  0  0  0  0  0  0\\n   -1.8873    4.5008   -0.0178 H   0  0  0  0  0  0  0  0  0  0  0  0\\n   -0.9131    3.0962    0.4010 H   0  0  0  0  0  0  0  0  0  0  0  0\\n   -1.9891    4.9031    2.3212 H   0  0  0  0  0  0  0  0  0  0  0  0\\n   -0.6046    5.5994    3.1060 H   0  0  0  0  0  0  0  0  0  0  0  0\\n    2.7539   -1.1245    2.2489 H   0  0  0  0  0  0  0  0  0  0  0  0\\n    4.9666   -1.4963    3.2710 H   0  0  0  0  0  0  0  0  0  0  0  0\\n  1  2  3  0\\n  2  3  1  0\\n  3  4  1  0\\n  4  5  1  0\\n  5  6  2  0\\n  6  7  1  0\\n  7  8  2  0\\n  8  9  1  0\\n  9 10  1  0\\n 10 11  1  0\\n 11 12  2  0\\n 12 13  1  0\\n 13 14  1  0\\n 14 15  1  0\\n 15 16  1  0\\n 16 17  2  0\\n 17 18  1  0\\n 18 19  2  0\\n 19 20  1  0\\n 20 21  1  0\\n 21 22  1  0\\n 21 23  2  0\\n 23 24  1  0\\n 24 25  2  0\\n 13 26  2  0\\n 26 27  1  0\\n 27 28  1  0\\n 28 29  1  0\\n 29 30  1  0\\n 30 31  1  0\\n 31 32  3  0\\n 29 33  1  0\\n 33 34  1  0\\n 34 35  1  0\\n 34 36  2  0\\n 27 37  2  0\\n  8 38  1  0\\n 38 39  2  0\\n 39  5  1  0\\n 37 11  1  0\\n 25 16  1  0\\n 24 19  1  0\\n  1 40  1  0\\n  3 41  1  0\\n  3 42  1  0\\n  6 43  1  0\\n  7 44  1  0\\n  9 45  1  0\\n  9 46  1  0\\n 10 47  1  0\\n 14 48  1  0\\n 15 49  1  0\\n 15 50  1  0\\n 17 51  1  0\\n 18 52  1  0\\n 20 53  1  0\\n 22 54  1  0\\n 22 55  1  0\\n 22 56  1  0\\n 23 57  1  0\\n 25 58  1  0\\n 28 59  1  0\\n 29 60  1  1\\n 30 61  1  0\\n 30 62  1  0\\n 32 63  1  0\\n 33 64  1  0\\n 33 65  1  0\\n 35 66  1  0\\n 35 67  1  0\\n 38 68  1  0\\n 39 69  1  0\\nM  END\\n\",\"mol\");\n",
       "\tviewer_1718411776734266.setStyle({\"stick\": {}});\n",
       "\tviewer_1718411776734266.zoomTo();\n",
       "viewer_1718411776734266.render();\n",
       "});\n",
       "</script>"
      ]
     },
     "metadata": {},
     "output_type": "display_data"
    }
   ],
   "source": [
    "smi = example_row_binds[\"molecule_smiles\"][0].as_py()\n",
    "print(f\"Original: {smi}\")\n",
    "smi = clean_smi(smi)\n",
    "print(f\"Cleaned:  {smi}\")\n",
    "show_mol(smi)      "
   ]
  },
  {
   "cell_type": "code",
   "execution_count": 71,
   "metadata": {},
   "outputs": [],
   "source": [
    "#Binding\n",
    "no_bind_scanner = data_train.scanner(filter=(pc.field(\"binds\") == 0))\n",
    "bind_scanner = data_train.scanner(filter=(pc.field(\"binds\") == 1)) \n",
    "\n",
    "        "
   ]
  },
  {
   "cell_type": "code",
   "execution_count": 72,
   "metadata": {},
   "outputs": [
    {
     "name": "stdout",
     "output_type": "stream",
     "text": [
      "Total rows of\n",
      "   No binding: 293656924\n",
      "   Binding:    1589906\n"
     ]
    }
   ],
   "source": [
    "n_no_bind = 0\n",
    "for batch in no_bind_scanner.to_batches():\n",
    "    n_no_bind += batch.num_rows\n",
    "\n",
    "n_bind = 0\n",
    "for batch in bind_scanner.to_batches():\n",
    "    n_bind += batch.num_rows\n",
    "\n",
    "print(\"Total rows of\")\n",
    "print(f\"   No binding: {n_no_bind}\")\n",
    "print(f\"   Binding:    {n_bind}\")"
   ]
  },
  {
   "cell_type": "code",
   "execution_count": 73,
   "metadata": {},
   "outputs": [
    {
     "name": "stderr",
     "output_type": "stream",
     "text": [
      "Matplotlib is building the font cache; this may take a moment.\n"
     ]
    },
    {
     "name": "stdout",
     "output_type": "stream",
     "text": [
      "Total observations: 295,246,830\n",
      "No binding: 0.995\n",
      "Binding:    0.005\n"
     ]
    },
    {
     "data": {
      "image/png": "[encoded data removed]",
      "text/plain": [
       "<Figure size 800x600 with 1 Axes>"
      ]
     },
     "metadata": {},
     "output_type": "display_data"
    }
   ],
   "source": [
    "\n",
    "import matplotlib.pyplot as plt\n",
    "labels = ['No Bind', 'Bind']\n",
    "total = n_no_bind + n_bind\n",
    "values = [n_no_bind/total, n_bind/total]\n",
    "\n",
    "print(f\"Total observations: {total:,}\")\n",
    "print(f\"No binding: {values[0]:.3f}\")\n",
    "print(f\"Binding:    {values[1]:.3f}\")\n",
    "\n",
    "plt.figure(figsize=(8, 6))\n",
    "plt.bar(labels, values, color=['#f94144', '#025099'])\n",
    "\n",
    "# Add title and labels\n",
    "plt.ylabel('Number of Rows')\n",
    "\n",
    "# Show the plot\n",
    "plt.tight_layout()\n",
    "plt.show()\n",
    "        "
   ]
  },
  {
   "cell_type": "markdown",
   "metadata": {},
   "source": [
    "Target"
   ]
  }
 ],
 "metadata": {
  "kernelspec": {
   "display_name": "Python 3 (ipykernel)",
   "language": "python",
   "name": "python3"
  },
  "language_info": {
   "codemirror_mode": {
    "name": "ipython",
    "version": 3
   },
   "file_extension": ".py",
   "mimetype": "text/x-python",
   "name": "python",
   "nbconvert_exporter": "python",
   "pygments_lexer": "ipython3",
   "version": "3.11.9"
  }
 },
 "nbformat": 4,
 "nbformat_minor": 2
}
