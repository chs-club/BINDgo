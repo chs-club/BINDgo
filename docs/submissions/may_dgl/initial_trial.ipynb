{
 "cells": [
  {
   "cell_type": "markdown",
   "metadata": {},
   "source": [
    "# 01 Example\n",
    "\n",
    "Here is a starter Jupyter notebook to get started.\n"
   ]
  },
  {
   "cell_type": "code",
   "execution_count": 6,
   "metadata": {},
   "outputs": [
    {
     "data": {
      "text/plain": [
       "pyarrow.Table\n",
       "id: int64\n",
       "buildingblock1_smiles: string\n",
       "buildingblock2_smiles: string\n",
       "buildingblock3_smiles: string\n",
       "molecule_smiles: string\n",
       "protein_name: string\n",
       "binds: int64\n",
       "----\n",
       "id: [[0,1,2,3,4]]\n",
       "buildingblock1_smiles: [[\"C#CC[C@@H](CC(=O)O)NC(=O)OCC1c2ccccc2-c2ccccc21\",\"C#CC[C@@H](CC(=O)O)NC(=O)OCC1c2ccccc2-c2ccccc21\",\"C#CC[C@@H](CC(=O)O)NC(=O)OCC1c2ccccc2-c2ccccc21\",\"C#CC[C@@H](CC(=O)O)NC(=O)OCC1c2ccccc2-c2ccccc21\",\"C#CC[C@@H](CC(=O)O)NC(=O)OCC1c2ccccc2-c2ccccc21\"]]\n",
       "buildingblock2_smiles: [[\"C#CCOc1ccc(CN)cc1.Cl\",\"C#CCOc1ccc(CN)cc1.Cl\",\"C#CCOc1ccc(CN)cc1.Cl\",\"C#CCOc1ccc(CN)cc1.Cl\",\"C#CCOc1ccc(CN)cc1.Cl\"]]\n",
       "buildingblock3_smiles: [[\"Br.Br.NCC1CCCN1c1cccnn1\",\"Br.Br.NCC1CCCN1c1cccnn1\",\"Br.Br.NCC1CCCN1c1cccnn1\",\"Br.NCc1cccc(Br)n1\",\"Br.NCc1cccc(Br)n1\"]]\n",
       "molecule_smiles: [[\"C#CCOc1ccc(CNc2nc(NCC3CCCN3c3cccnn3)nc(N[C@@H](CC#C)CC(=O)N[Dy])n2)cc1\",\"C#CCOc1ccc(CNc2nc(NCC3CCCN3c3cccnn3)nc(N[C@@H](CC#C)CC(=O)N[Dy])n2)cc1\",\"C#CCOc1ccc(CNc2nc(NCC3CCCN3c3cccnn3)nc(N[C@@H](CC#C)CC(=O)N[Dy])n2)cc1\",\"C#CCOc1ccc(CNc2nc(NCc3cccc(Br)n3)nc(N[C@@H](CC#C)CC(=O)N[Dy])n2)cc1\",\"C#CCOc1ccc(CNc2nc(NCc3cccc(Br)n3)nc(N[C@@H](CC#C)CC(=O)N[Dy])n2)cc1\"]]\n",
       "protein_name: [[\"BRD4\",\"HSA\",\"sEH\",\"BRD4\",\"HSA\"]]\n",
       "binds: [[0,0,0,0,0]]"
      ]
     },
     "execution_count": 6,
     "metadata": {},
     "output_type": "execute_result"
    }
   ],
   "source": [
    "import pyarrow.dataset as ds\n",
    "from loguru import logger\n",
    "path_train_data = \"../../../data/train.parquet\"\n",
    "data_train = ds.dataset(source=path_train_data, format=\"parquet\")\n",
    "\n",
    "data_train.head(num_rows=5)\n"
   ]
  },
  {
   "cell_type": "code",
   "execution_count": 7,
   "metadata": {},
   "outputs": [
    {
     "name": "stderr",
     "output_type": "stream",
     "text": [
      "\u001b[32m2024-06-11 09:55:32.130\u001b[0m | \u001b[1mINFO    \u001b[0m | \u001b[36m__main__\u001b[0m:\u001b[36m<module>\u001b[0m:\u001b[36m6\u001b[0m - \u001b[1mNumber of compounds targeting BRD4 protein 98415610\u001b[0m\n",
      "\u001b[32m2024-06-11 09:55:32.250\u001b[0m | \u001b[1mINFO    \u001b[0m | \u001b[36m__main__\u001b[0m:\u001b[36m<module>\u001b[0m:\u001b[36m9\u001b[0m - \u001b[1mNumber of compounds targeting BRD4 protein and binds is 1 456964\u001b[0m\n"
     ]
    }
   ],
   "source": [
    "#filter using scanner to get the rows where the protein_name is BRD4\n",
    "data_brd4 = data_train.scanner(filter=ds.field(\"protein_name\") == \"BRD4\")\n",
    "\n",
    "data_brd4=data_brd4.to_table().to_pandas()\n",
    "#find the number of rows in the dataset\n",
    "logger.info(f\"Number of compounds targeting BRD4 protein {len(data_brd4)}\")\n",
    "#find the rows where the binds is 1\n",
    "data_brd4_binds = data_brd4[data_brd4[\"binds\"]==1]\n",
    "logger.info(f\"Number of compounds targeting BRD4 protein and binds is 1 {len(data_brd4_binds)}\")\n"
   ]
  },
  {
   "cell_type": "code",
   "execution_count": 8,
   "metadata": {},
   "outputs": [
    {
     "name": "stderr",
     "output_type": "stream",
     "text": [
      "\u001b[32m2024-06-11 09:56:27.576\u001b[0m | \u001b[1mINFO    \u001b[0m | \u001b[36m__main__\u001b[0m:\u001b[36m<module>\u001b[0m:\u001b[36m7\u001b[0m - \u001b[1mNumber of compounds targeting HSA protein 98415610\u001b[0m\n",
      "\u001b[32m2024-06-11 09:56:27.770\u001b[0m | \u001b[1mINFO    \u001b[0m | \u001b[36m__main__\u001b[0m:\u001b[36m<module>\u001b[0m:\u001b[36m10\u001b[0m - \u001b[1mNumber of compounds targeting HSA protein and binds is 1 408410\u001b[0m\n"
     ]
    }
   ],
   "source": [
    "#filter using scanner to get the rows where the protein_name is protein_name: HSA\n",
    "\n",
    "data_hsa = data_train.scanner(filter=ds.field(\"protein_name\") == \"HSA\")\n",
    "\n",
    "data_hsa=data_hsa.to_table().to_pandas()\n",
    "#find the number of rows in the dataset\n",
    "logger.info(f\"Number of compounds targeting HSA protein {len(data_hsa)}\")\n",
    "#find the rows where the binds is 1\n",
    "data_hsa_binds = data_hsa[data_hsa[\"binds\"]==1]\n",
    "logger.info(f\"Number of compounds targeting HSA protein and binds is 1 {len(data_hsa_binds)}\")"
   ]
  },
  {
   "cell_type": "code",
   "execution_count": 9,
   "metadata": {},
   "outputs": [
    {
     "name": "stderr",
     "output_type": "stream",
     "text": [
      "\u001b[32m2024-06-11 09:57:24.692\u001b[0m | \u001b[1mINFO    \u001b[0m | \u001b[36m__main__\u001b[0m:\u001b[36m<module>\u001b[0m:\u001b[36m5\u001b[0m - \u001b[1mNumber of compounds targeting sEH protein 98415610\u001b[0m\n",
      "\u001b[32m2024-06-11 09:57:24.905\u001b[0m | \u001b[1mINFO    \u001b[0m | \u001b[36m__main__\u001b[0m:\u001b[36m<module>\u001b[0m:\u001b[36m8\u001b[0m - \u001b[1mNumber of compounds targeting sEH protein and binds is 1 724532\u001b[0m\n"
     ]
    }
   ],
   "source": [
    "data_seh = data_train.scanner(filter=ds.field(\"protein_name\") == \"sEH\")\n",
    "\n",
    "data_seh=data_seh.to_table().to_pandas()\n",
    "#find the number of rows in the dataset\n",
    "logger.info(f\"Number of compounds targeting sEH protein {len(data_seh)}\")\n",
    "#find the rows where the binds is 1\n",
    "data_seh_binds = data_seh[data_seh[\"binds\"]==1]\n",
    "logger.info(f\"Number of compounds targeting sEH protein and binds is 1 {len(data_seh_binds)}\")"
   ]
  },
  {
   "cell_type": "code",
   "execution_count": 20,
   "metadata": {},
   "outputs": [
    {
     "ename": "KeyboardInterrupt",
     "evalue": "",
     "output_type": "error",
     "traceback": [
      "\u001b[0;31m---------------------------------------------------------------------------\u001b[0m",
      "\u001b[0;31mKeyboardInterrupt\u001b[0m                         Traceback (most recent call last)",
      "Cell \u001b[0;32mIn[20], line 93\u001b[0m\n\u001b[1;32m     91\u001b[0m \u001b[38;5;66;03m# Placeholder example usage\u001b[39;00m\n\u001b[1;32m     92\u001b[0m smiles \u001b[38;5;241m=\u001b[39m data_brd4[\u001b[38;5;124m'\u001b[39m\u001b[38;5;124mmolecule_smiles\u001b[39m\u001b[38;5;124m'\u001b[39m]\u001b[38;5;241m.\u001b[39mtolist()\n\u001b[0;32m---> 93\u001b[0m cleaned_smiles \u001b[38;5;241m=\u001b[39m \u001b[43mclean_smi\u001b[49m\u001b[43m(\u001b[49m\u001b[43msmiles\u001b[49m\u001b[43m)\u001b[49m\n\u001b[1;32m     94\u001b[0m mol_graph \u001b[38;5;241m=\u001b[39m smiles_to_dgl_graph(cleaned_smiles)\n\u001b[1;32m     95\u001b[0m mol_graph\n",
      "Cell \u001b[0;32mIn[20], line 19\u001b[0m, in \u001b[0;36mclean_smi\u001b[0;34m(smi)\u001b[0m\n\u001b[1;32m      8\u001b[0m \u001b[38;5;250m\u001b[39m\u001b[38;5;124mr\u001b[39m\u001b[38;5;124;03m\"\"\" Clean a SMILES string by removing salts and fragments.\u001b[39;00m\n\u001b[1;32m      9\u001b[0m \u001b[38;5;124;03mParameters\u001b[39;00m\n\u001b[1;32m     10\u001b[0m \u001b[38;5;124;03m----------\u001b[39;00m\n\u001b[0;32m   (...)\u001b[0m\n\u001b[1;32m     16\u001b[0m \u001b[38;5;124;03m    The cleaned SMILES string.\u001b[39;00m\n\u001b[1;32m     17\u001b[0m \u001b[38;5;124;03m\"\"\"\u001b[39;00m\n\u001b[1;32m     18\u001b[0m \u001b[38;5;28;01mif\u001b[39;00m \u001b[38;5;28misinstance\u001b[39m(smi, \u001b[38;5;28mlist\u001b[39m):\n\u001b[0;32m---> 19\u001b[0m     \u001b[38;5;28;01mreturn\u001b[39;00m \u001b[43m[\u001b[49m\u001b[43mclean_smi\u001b[49m\u001b[43m(\u001b[49m\u001b[43ms\u001b[49m\u001b[43m)\u001b[49m\u001b[43m \u001b[49m\u001b[38;5;28;43;01mfor\u001b[39;49;00m\u001b[43m \u001b[49m\u001b[43ms\u001b[49m\u001b[43m \u001b[49m\u001b[38;5;129;43;01min\u001b[39;49;00m\u001b[43m \u001b[49m\u001b[43msmi\u001b[49m\u001b[43m]\u001b[49m\n\u001b[1;32m     20\u001b[0m \u001b[38;5;66;03m# Remove [Dy] from smiles\u001b[39;00m\n\u001b[1;32m     21\u001b[0m smi \u001b[38;5;241m=\u001b[39m smi\u001b[38;5;241m.\u001b[39mreplace(\u001b[38;5;124m\"\u001b[39m\u001b[38;5;124m[Dy]\u001b[39m\u001b[38;5;124m\"\u001b[39m, \u001b[38;5;124m\"\u001b[39m\u001b[38;5;124m\"\u001b[39m)\n",
      "Cell \u001b[0;32mIn[20], line 19\u001b[0m, in \u001b[0;36m<listcomp>\u001b[0;34m(.0)\u001b[0m\n\u001b[1;32m      8\u001b[0m \u001b[38;5;250m\u001b[39m\u001b[38;5;124mr\u001b[39m\u001b[38;5;124;03m\"\"\" Clean a SMILES string by removing salts and fragments.\u001b[39;00m\n\u001b[1;32m      9\u001b[0m \u001b[38;5;124;03mParameters\u001b[39;00m\n\u001b[1;32m     10\u001b[0m \u001b[38;5;124;03m----------\u001b[39;00m\n\u001b[0;32m   (...)\u001b[0m\n\u001b[1;32m     16\u001b[0m \u001b[38;5;124;03m    The cleaned SMILES string.\u001b[39;00m\n\u001b[1;32m     17\u001b[0m \u001b[38;5;124;03m\"\"\"\u001b[39;00m\n\u001b[1;32m     18\u001b[0m \u001b[38;5;28;01mif\u001b[39;00m \u001b[38;5;28misinstance\u001b[39m(smi, \u001b[38;5;28mlist\u001b[39m):\n\u001b[0;32m---> 19\u001b[0m     \u001b[38;5;28;01mreturn\u001b[39;00m [\u001b[43mclean_smi\u001b[49m\u001b[43m(\u001b[49m\u001b[43ms\u001b[49m\u001b[43m)\u001b[49m \u001b[38;5;28;01mfor\u001b[39;00m s \u001b[38;5;129;01min\u001b[39;00m smi]\n\u001b[1;32m     20\u001b[0m \u001b[38;5;66;03m# Remove [Dy] from smiles\u001b[39;00m\n\u001b[1;32m     21\u001b[0m smi \u001b[38;5;241m=\u001b[39m smi\u001b[38;5;241m.\u001b[39mreplace(\u001b[38;5;124m\"\u001b[39m\u001b[38;5;124m[Dy]\u001b[39m\u001b[38;5;124m\"\u001b[39m, \u001b[38;5;124m\"\u001b[39m\u001b[38;5;124m\"\u001b[39m)\n",
      "Cell \u001b[0;32mIn[20], line 24\u001b[0m, in \u001b[0;36mclean_smi\u001b[0;34m(smi)\u001b[0m\n\u001b[1;32m     21\u001b[0m smi \u001b[38;5;241m=\u001b[39m smi\u001b[38;5;241m.\u001b[39mreplace(\u001b[38;5;124m\"\u001b[39m\u001b[38;5;124m[Dy]\u001b[39m\u001b[38;5;124m\"\u001b[39m, \u001b[38;5;124m\"\u001b[39m\u001b[38;5;124m\"\u001b[39m)\n\u001b[1;32m     23\u001b[0m \u001b[38;5;66;03m# Convert SMILES to a RDKit molecule object\u001b[39;00m\n\u001b[0;32m---> 24\u001b[0m mol \u001b[38;5;241m=\u001b[39m \u001b[43mChem\u001b[49m\u001b[38;5;241;43m.\u001b[39;49m\u001b[43mMolFromSmiles\u001b[49m\u001b[43m(\u001b[49m\u001b[43msmi\u001b[49m\u001b[43m)\u001b[49m\n\u001b[1;32m     25\u001b[0m \u001b[38;5;28;01mif\u001b[39;00m mol \u001b[38;5;129;01mis\u001b[39;00m \u001b[38;5;28;01mNone\u001b[39;00m:\n\u001b[1;32m     26\u001b[0m     \u001b[38;5;28;01mraise\u001b[39;00m \u001b[38;5;167;01mValueError\u001b[39;00m(\u001b[38;5;124m\"\u001b[39m\u001b[38;5;124mInvalid SMILES string\u001b[39m\u001b[38;5;124m\"\u001b[39m)\n",
      "\u001b[0;31mKeyboardInterrupt\u001b[0m: "
     ]
    }
   ],
   "source": [
    "import dgl\n",
    "import torch\n",
    "from rdkit import Chem\n",
    "from rdkit.Chem import AllChem\n",
    "\n",
    "\n",
    "def clean_smi(smi: str | list):\n",
    "    r\"\"\" Clean a SMILES string by removing salts and fragments.\n",
    "    Parameters\n",
    "    ----------\n",
    "    smi : str | list\n",
    "        The SMILES string for a molecule. or a list of SMILES strings\n",
    "    Returns\n",
    "    -------\n",
    "    str | list\n",
    "        The cleaned SMILES string.\n",
    "    \"\"\"\n",
    "    if isinstance(smi, list):\n",
    "        return [clean_smi(s) for s in smi]\n",
    "    # Remove [Dy] from smiles\n",
    "    smi = smi.replace(\"[Dy]\", \"\")\n",
    "\n",
    "    # Convert SMILES to a RDKit molecule object\n",
    "    mol = Chem.MolFromSmiles(smi)\n",
    "    if mol is None:\n",
    "        raise ValueError(\"Invalid SMILES string\")\n",
    "    \n",
    "    # Remove any salts or fragments\n",
    "    mol = Chem.RemoveHs(mol)  # Remove explicit hydrogens\n",
    "    fragments = Chem.GetMolFrags(mol, asMols=True)\n",
    "    \n",
    "    # Keep the largest fragment\n",
    "    largest_fragment = max(fragments, default=mol, key=lambda m: m.GetNumAtoms())\n",
    "    \n",
    "    # Standardize the molecule\n",
    "    AllChem.Compute2DCoords(largest_fragment)  # Compute 2D coordinates\n",
    "    \n",
    "    # Convert the molecule back to a canonical SMILES string\n",
    "    cleaned_smiles = Chem.MolToSmiles(largest_fragment, canonical=True)\n",
    "    return cleaned_smiles\n",
    "\n",
    "\n",
    "def smiles_to_dgl_graph(smiles: str |list):\n",
    "    r\"\"\" Convert a SMILES string to a DGLGraph.\n",
    "    Parameters\n",
    "    ----------\n",
    "    smiles : str | list\n",
    "        The SMILES string for a molecule. or a list of SMILES strings\n",
    "    Returns\n",
    "    -------\n",
    "    DGLGraph\n",
    "        A DGLGraph object for the molecule.\n",
    "    \"\"\"\n",
    "    if isinstance(smiles, list):\n",
    "        return [smiles_to_dgl_graph(s) for s in smiles]\n",
    "    mol = Chem.MolFromSmiles(smiles)\n",
    "    if mol is None:\n",
    "        return None\n",
    "\n",
    "    # Node features\n",
    "    atom_features = []\n",
    "    for atom in mol.GetAtoms():\n",
    "        atom_features.append([\n",
    "            atom.GetAtomicNum(),\n",
    "            atom.GetDegree(),\n",
    "            atom.GetFormalCharge(),\n",
    "            atom.GetHybridization(),\n",
    "            atom.GetIsAromatic(),\n",
    "            atom.GetTotalNumHs()\n",
    "        ])\n",
    "    \n",
    "    # Edge features and adjacency list\n",
    "    src, dst = [], []\n",
    "    bond_features = []\n",
    "    for bond in mol.GetBonds():\n",
    "        start, end = bond.GetBeginAtomIdx(), bond.GetEndAtomIdx()\n",
    "        src.append(start)\n",
    "        dst.append(end)\n",
    "        bond_features.append([\n",
    "            bond.GetBondType(),\n",
    "            bond.GetIsConjugated(),\n",
    "            bond.IsInRing()\n",
    "        ])\n",
    "    \n",
    "    g = dgl.graph((src, dst))\n",
    "    g.ndata['h'] = torch.tensor(atom_features, dtype=torch.float)\n",
    "    g.edata['h'] = torch.tensor(bond_features, dtype=torch.float)\n",
    "    \n",
    "    return g\n",
    "\n",
    "# Placeholder example NOT TESTED\n",
    "smiles = data_brd4['molecule_smiles'].tolist()\n",
    "cleaned_smiles = clean_smi(smiles)\n",
    "mol_graph = smiles_to_dgl_graph(cleaned_smiles)\n",
    "mol_graph\n"
   ]
  }
 ],
 "metadata": {
  "kernelspec": {
   "display_name": "biosc1540-2024s-dev",
   "language": "python",
   "name": "python3"
  },
  "language_info": {
   "codemirror_mode": {
    "name": "ipython",
    "version": 3
   },
   "file_extension": ".py",
   "mimetype": "text/x-python",
   "name": "python",
   "nbconvert_exporter": "python",
   "pygments_lexer": "ipython3",
   "version": "3.11.9"
  }
 },
 "nbformat": 4,
 "nbformat_minor": 2
}
