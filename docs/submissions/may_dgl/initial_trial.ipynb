{
 "cells": [
  {
   "cell_type": "markdown",
   "metadata": {},
   "source": [
    "# 01 Example\n",
    "\n",
    "Here is a starter Jupyter notebook to get started.\n"
   ]
  },
  {
   "cell_type": "code",
   "execution_count": null,
   "metadata": {},
   "outputs": [],
   "source": [
    "import pyarrow.dataset as ds\n",
    "from loguru import logger\n",
    "path_train_data = \"../../../data/train.parquet\"\n",
    "data_train = ds.dataset(source=path_train_data, format=\"parquet\")\n",
    "\n",
    "data_train.head(num_rows=5)\n"
   ]
  },
  {
   "cell_type": "code",
   "execution_count": null,
   "metadata": {},
   "outputs": [],
   "source": [
    "#filter using scanner to get the rows where the protein_name is BRD4\n",
    "data_brd4 = data_train.scanner(filter=ds.field(\"protein_name\") == \"BRD4\")\n",
    "\n",
    "data_brd4=data_brd4.to_table().to_pandas()\n",
    "#find the number of rows in the dataset\n",
    "logger.info(f\"Number of compounds targeting BRD4 protein {len(data_brd4)}\")\n",
    "#find the rows where the binds is 1\n",
    "data_brd4_binds = data_brd4[data_brd4[\"binds\"]==1]\n",
    "logger.info(f\"Number of compounds targeting BRD4 protein and binds is 1 {len(data_brd4_binds)}\")\n"
   ]
  },
  {
   "cell_type": "code",
   "execution_count": null,
   "metadata": {},
   "outputs": [],
   "source": [
    "#filter using scanner to get the rows where the protein_name is protein_name: HSA\n",
    "\n",
    "data_hsa = data_train.scanner(filter=ds.field(\"protein_name\") == \"HSA\")\n",
    "\n",
    "data_hsa=data_hsa.to_table().to_pandas()\n",
    "#find the number of rows in the dataset\n",
    "logger.info(f\"Number of compounds targeting HSA protein {len(data_hsa)}\")\n",
    "#find the rows where the binds is 1\n",
    "data_hsa_binds = data_hsa[data_hsa[\"binds\"]==1]\n",
    "logger.info(f\"Number of compounds targeting HSA protein and binds is 1 {len(data_hsa_binds)}\")"
   ]
  },
  {
   "cell_type": "code",
   "execution_count": null,
   "metadata": {},
   "outputs": [],
   "source": [
    "data_seh = data_train.scanner(filter=ds.field(\"protein_name\") == \"sEH\")\n",
    "\n",
    "data_seh=data_seh.to_table().to_pandas()\n",
    "#find the number of rows in the dataset\n",
    "logger.info(f\"Number of compounds targeting sEH protein {len(data_seh)}\")\n",
    "#find the rows where the binds is 1\n",
    "data_seh_binds = data_seh[data_seh[\"binds\"]==1]\n",
    "logger.info(f\"Number of compounds targeting sEH protein and binds is 1 {len(data_seh_binds)}\")"
   ]
  },
  {
   "cell_type": "code",
   "execution_count": null,
   "metadata": {},
   "outputs": [],
   "source": []
  }
 ],
 "metadata": {
  "kernelspec": {
   "display_name": "biosc1540-2024s-dev",
   "language": "python",
   "name": "python3"
  },
  "language_info": {
   "codemirror_mode": {
    "name": "ipython",
    "version": 3
   },
   "file_extension": ".py",
   "mimetype": "text/x-python",
   "name": "python",
   "nbconvert_exporter": "python",
   "pygments_lexer": "ipython3",
   "version": "3.11.9"
  }
 },
 "nbformat": 4,
 "nbformat_minor": 2
}
